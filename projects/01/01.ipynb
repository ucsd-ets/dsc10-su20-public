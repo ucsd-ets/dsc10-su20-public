{
 "cells": [
  {
   "cell_type": "markdown",
   "metadata": {},
   "source": [
    "# Project 01: California\n",
    "\n",
    "\n",
    "### Due Thursday, July 30th at 11:59pm\n",
    "\n",
    "Please complete this notebook by filling in the cells provided. Before you begin, execute the following cell to load the provided tests."
   ]
  },
  {
   "cell_type": "code",
   "execution_count": 1,
   "metadata": {},
   "outputs": [],
   "source": [
    "# Don't change this cell; just run it\n",
    "import numpy as np\n",
    "import babypandas as bpd\n",
    "\n",
    "import matplotlib.pyplot as plt\n",
    "%matplotlib inline\n",
    "plt.style.use('fivethirtyeight')\n",
    "\n",
    "import otter\n",
    "otter = otter.Notebook('tests')"
   ]
  },
  {
   "cell_type": "markdown",
   "metadata": {},
   "source": [
    "In this project we'll explore some data about California. The project is a little longer than a homework, but the questions may require you to **\"put the pieces together\"** more than a typical homework question. You may have to perform several steps to answer a question. Remember that you can always save intermediate results!\n",
    "\n",
    "The datasets in this project consist of real-world data, cleaned slighty for ease of use. As such, there are occasional anomalies that you'll have to look out for and handle specially. You are encouraged to ask your own questions and try to answer them using these datasets!\n",
    "\n",
    "### Logistics\n",
    "\n",
    "**Deadline.** This project is due at **11:59pm on Thursday July 30**. It's much better to be early than late, so start working now.\n",
    "\n",
    "**Plotting Questions**: The plots for the project are **optional** and ungraded, meaning you do **not** need to submit a PDF of this notebook to Gradescope. Hoewever, the plotting questions are good practice for the midterm.\n",
    "\n",
    "**Partners.** You may work with one other partner; only one of you is required to submit the project. On gradescope, the person who submits should also designate their partner so that both of you receive credit.\n",
    "\n",
    "**Rules.** Don't share your code with anybody but your partner. You are welcome to discuss questions with other students, but don't share the answers or code. The experience of solving the problems in this project will prepare you for exams (and life). If someone asks you for the answer, resist! Instead, you can demonstrate how you would solve a similar problem.\n",
    "\n",
    "**Support.** You are not alone! Come to office hours, post on Campuswire, and talk to your classmates. If you want to ask about the details of your solution to a problem, make a private Campuswire post and the staff will respond. If you're ever feeling overwhelmed or don't know how to make progress, send a private Campuswire post to instructors for help.\n",
    "\n",
    "**Tests.** The tests that are given are not comprehensive and passing the tests for a question does not mean that you answered the question correctly. Tests usually only check that your table has the correct column labels. However, more tests will be applied to verify the correctness of your submission in order to assign your final score, so be careful and check your work!\n",
    "\n",
    "**Advice.** Develop your answers incrementally. To perform a complicated table manipulation, break it up into steps, perform each step on a different line, give a new name to each result, and check that each intermediate result is what you expect. You can add any additional names or functions you want to the provided cells. Make sure that you are using distinct and meaningful variable names throughout the notebook. Along that line, DO NOT reuse the variable names that we use when we grade your answers, otherwise there is the chance that our tests will grade against a variable that's not what you intened (especially if you run the notebook out of order!).\n",
    "\n",
    "You never have to use just one line in this project or any other assignments. Use intermediate variables and multiple lines as much as you would like!"
   ]
  },
  {
   "cell_type": "markdown",
   "metadata": {},
   "source": [
    "## 1. California Climates\n",
    "\n",
    "<img src=\"./jtree.jpg\"/>\n",
    "\n",
    "California consists of many different climates -- from the southern deserts to the alpine conditions in the High Sierra. We'll start by getting a sense of what Californian land is like."
   ]
  },
  {
   "cell_type": "markdown",
   "metadata": {},
   "source": [
    "**Question 1.1.** The file `data/landtype.csv` contains information from the US Geological Survey on land type for the entire United States. Read it into a DataFrame named `us_land`."
   ]
  },
  {
   "cell_type": "code",
   "execution_count": 2,
   "metadata": {},
   "outputs": [],
   "source": [
    "us_land = ...\n",
    "us_land"
   ]
  },
  {
   "cell_type": "code",
   "execution_count": 6,
   "metadata": {},
   "outputs": [],
   "source": [
    "otter.check('q1_1')"
   ]
  },
  {
   "cell_type": "markdown",
   "metadata": {},
   "source": [
    "The USGS breaks the United States into 3821 regions; each row in the table contains information about one region. Out of the table's 12 columns, the important ones are:\n",
    "\n",
    "<table>\n",
    "    <tr>\n",
    "        <th>Column Name</th>\n",
    "        <th>Description</th>\n",
    "    </tr>\n",
    "    <tr>\n",
    "        <td>strStName</td>\n",
    "        <td>state name</td>\n",
    "    </tr>\n",
    "    <tr>\n",
    "        <td>strClassName</td>\n",
    "        <td>land class</td>\n",
    "    </tr>\n",
    "    <tr>\n",
    "        <td>strEcoSysName</td>\n",
    "        <td>ecological system</td>\n",
    "    </tr>\n",
    "    <tr>\n",
    "        <td>intSqMiles</td>\n",
    "        <td>size in square miles</td>\n",
    "    </tr>\n",
    "</table>"
   ]
  },
  {
   "cell_type": "markdown",
   "metadata": {},
   "source": [
    "**Question 1.2.** To make the data easier to work with, let's keep only the columns listed above and give them better names. Create a new DataFrame named `us_land_renamed` which contains four columns: \"State\", \"Class\", \"EcologicalSystem\", and \"SquareMiles\", containing the state name, land type, ecological system, and size of each region, respectively."
   ]
  },
  {
   "cell_type": "code",
   "execution_count": 7,
   "metadata": {},
   "outputs": [],
   "source": [
    "us_land_renamed = ...\n",
    "us_land_renamed"
   ]
  },
  {
   "cell_type": "code",
   "execution_count": 8,
   "metadata": {},
   "outputs": [],
   "source": [
    "otter.check('q1_2')"
   ]
  },
  {
   "cell_type": "markdown",
   "metadata": {},
   "source": [
    "**Question 1.3.** We only care about California! Create a table called `california_land` which contains only the regions in California. Furthermore, remove the \"State\" column, since it is no longer informative."
   ]
  },
  {
   "cell_type": "code",
   "execution_count": 9,
   "metadata": {},
   "outputs": [],
   "source": [
    "ca_land = ...\n",
    "ca_land"
   ]
  },
  {
   "cell_type": "code",
   "execution_count": 10,
   "metadata": {},
   "outputs": [],
   "source": [
    "otter.check('q1_3')"
   ]
  },
  {
   "cell_type": "markdown",
   "metadata": {},
   "source": [
    "**Question 1.4.** We are interested in how much of California's land is Forest & Woodland, how much is Open Water, and so on. Create a table named `ca_classes` with two columns, \"SquareMiles\" and \"Percentage\", containing the total area in square miles and the total percentage (as a number between 0 and 1) of California that is made up of each land class. The label of each row should be a land class. That is, your table should look like this (but with the `?`s replaced by numbers):\n",
    "\n",
    "<img width=50% src=\"./q1_output.png\"/>"
   ]
  },
  {
   "cell_type": "code",
   "execution_count": 11,
   "metadata": {},
   "outputs": [],
   "source": [
    "ca_classes = ...\n",
    "ca_classes"
   ]
  },
  {
   "cell_type": "code",
   "execution_count": 12,
   "metadata": {},
   "outputs": [],
   "source": [
    "otter.check('q1_4')"
   ]
  },
  {
   "cell_type": "markdown",
   "metadata": {},
   "source": [
    "**Question 1.5.** Create a horizontal bar chart showing the percentage of California that is made up of each land class. Make sure that the bars are sorted, from longest at the top to shortest at the bottom."
   ]
  },
  {
   "cell_type": "code",
   "execution_count": 13,
   "metadata": {},
   "outputs": [],
   "source": [
    "#- write your code here\n"
   ]
  },
  {
   "cell_type": "markdown",
   "metadata": {},
   "source": [
    "**Question 1.6.** You should notice that almost 7% of California's land is developed! How many square miles is this, exactly? Save your answer in `developed_sq_mi`."
   ]
  },
  {
   "cell_type": "code",
   "execution_count": 14,
   "metadata": {},
   "outputs": [],
   "source": [
    "developed_sq_mi = ...\n",
    "developed_sq_mi"
   ]
  },
  {
   "cell_type": "code",
   "execution_count": 16,
   "metadata": {},
   "outputs": [],
   "source": [
    "otter.check('q1_6')"
   ]
  },
  {
   "cell_type": "markdown",
   "metadata": {},
   "source": [
    "## 2. Beaches and Coast"
   ]
  },
  {
   "cell_type": "markdown",
   "metadata": {},
   "source": [
    "<img width=85% src=\"./beach.jpg\"/>"
   ]
  },
  {
   "cell_type": "markdown",
   "metadata": {},
   "source": [
    "California has over 3,400 miles of shoreline. The [California Coastal Commission](https://en.wikipedia.org/wiki/California_Coastal_Commission) is a public agency charged with managing the coast and ensuring that all Californians have access to the ocean.\n",
    "\n",
    "The California Coastal Commission maintains a list of all of the named beaches in the state. The file `beaches.csv` contains this information:"
   ]
  },
  {
   "cell_type": "code",
   "execution_count": 17,
   "metadata": {},
   "outputs": [],
   "source": [
    "beaches = bpd.read_csv('data/beaches.csv')\n",
    "beaches"
   ]
  },
  {
   "cell_type": "markdown",
   "metadata": {},
   "source": [
    "The table below shows all of the columns in the DataFrame and their contents:\n",
    "\n",
    "<table>\n",
    "    <tr>\n",
    "        <th>\n",
    "            Column Name\n",
    "        </th>\n",
    "        <th>\n",
    "            Description\n",
    "        </th>\n",
    "    </tr>\n",
    "    <tr>\n",
    "        <td>\n",
    "            COUNTY\n",
    "        </td>\n",
    "        <td>\n",
    "            Name of the county in which the beach is located\n",
    "        </td>\n",
    "    </tr>\n",
    "    <tr>\n",
    "        <td>\n",
    "            PARKING\n",
    "        </td>\n",
    "        <td>\n",
    "            Whether or not there is parking at the beach\n",
    "        </td>\n",
    "    </tr>\n",
    "    <tr>\n",
    "        <td>\n",
    "            FEE\n",
    "        </td>\n",
    "        <td>\n",
    "            Whether or not there is a fee to access the beach\n",
    "        </td>\n",
    "    </tr>\n",
    "    <tr>\n",
    "        <td>\n",
    "            LATITUDE\n",
    "        </td>\n",
    "        <td>\n",
    "            The beach's latitude\n",
    "        </td>\n",
    "    </tr>\n",
    "    <tr>\n",
    "        <td>\n",
    "            LOGITUDE\n",
    "        </td>\n",
    "        <td>\n",
    "            The beach's longitude\n",
    "        </td>\n",
    "    </tr>\n",
    "    <tr>\n",
    "        <td>\n",
    "            NAME\n",
    "        </td>\n",
    "        <td>\n",
    "            Name of the beach\n",
    "        </td>\n",
    "    </tr>\n",
    "    <tr>\n",
    "        <td>\n",
    "            LOCATION\n",
    "        </td>\n",
    "        <td>\n",
    "            A description of the beach's location\n",
    "        </td>\n",
    "    </tr>\n",
    "    <tr>\n",
    "        <td>\n",
    "            DESCRIPTION\n",
    "        </td>\n",
    "        <td>\n",
    "            A short description of the beach\n",
    "        </td>\n",
    "    </tr>\n",
    "</table>"
   ]
  },
  {
   "cell_type": "markdown",
   "metadata": {},
   "source": [
    "**Question 2.1.** Which county has the most beaches?"
   ]
  },
  {
   "cell_type": "code",
   "execution_count": 18,
   "metadata": {},
   "outputs": [],
   "source": [
    "county_with_most_beaches = ...\n",
    "county_with_most_beaches"
   ]
  },
  {
   "cell_type": "code",
   "execution_count": 19,
   "metadata": {},
   "outputs": [],
   "source": [
    "otter.check('q2_1')"
   ]
  },
  {
   "cell_type": "markdown",
   "metadata": {},
   "source": [
    "**Question 2.2.** That might not have been the answer we were expecting. What is the county with the most *free* beaches? That is, which county has the most beaches that do not require a fee to access?"
   ]
  },
  {
   "cell_type": "code",
   "execution_count": 20,
   "metadata": {},
   "outputs": [],
   "source": [
    "county_with_most_free_beaches = ...\n",
    "county_with_most_free_beaches"
   ]
  },
  {
   "cell_type": "code",
   "execution_count": 21,
   "metadata": {},
   "outputs": [],
   "source": [
    "otter.check('q2_2')"
   ]
  },
  {
   "cell_type": "markdown",
   "metadata": {},
   "source": [
    "That's better.\n",
    "\n",
    "**Question 2.3.** How many beaches in San Diego county do not have a fee and do have parking?"
   ]
  },
  {
   "cell_type": "code",
   "execution_count": 22,
   "metadata": {},
   "outputs": [],
   "source": [
    "san_diego_free_beaches_with_parking = ...\n",
    "san_diego_free_beaches_with_parking"
   ]
  },
  {
   "cell_type": "code",
   "execution_count": 23,
   "metadata": {},
   "outputs": [],
   "source": [
    "otter.check('q2_3')"
   ]
  },
  {
   "cell_type": "markdown",
   "metadata": {},
   "source": [
    "**Question 2.4.** Create a new DataFrame called `percent_free_beaches` with one row for each county and two columns: \"TOTAL\", containing the total number of beaches in each county, and \"PERCENT_FREE\", containing the percentage of the beaches in that county which do not charge a fee. Your answer should look like the picture below, but with the `?`s replaced by numbers.\n",
    "\n",
    "<img width=30% src=\"./q2_output.png\"/>\n",
    "\n",
    "*Hint*: You might want to create intermediate variables."
   ]
  },
  {
   "cell_type": "code",
   "execution_count": 24,
   "metadata": {},
   "outputs": [],
   "source": [
    "percent_free_beaches = ...\n",
    "percent_free_beaches"
   ]
  },
  {
   "cell_type": "code",
   "execution_count": 25,
   "metadata": {},
   "outputs": [],
   "source": [
    "otter.check('q2_4')"
   ]
  },
  {
   "cell_type": "markdown",
   "metadata": {},
   "source": [
    "**Question 2.5.** Highway 101 stretches from Los Angeles to the Canadian border. How many beaches in the dataset are on Highway 101? *Hint*: Look for locations containing the string \"Hwy. 101\"."
   ]
  },
  {
   "cell_type": "code",
   "execution_count": 28,
   "metadata": {},
   "outputs": [],
   "source": [
    "number_on_101 = ...\n",
    "number_on_101"
   ]
  },
  {
   "cell_type": "code",
   "execution_count": 29,
   "metadata": {},
   "outputs": [],
   "source": [
    "otter.check('q2_5')"
   ]
  },
  {
   "cell_type": "markdown",
   "metadata": {},
   "source": [
    "**Question 2.6.** Make a rudimentary drawing of the shape of the coast of California with a scatter plot of the beach locations (latitude and longitude).\n",
    "\n",
    "*Tip*: Place\n",
    "```python\n",
    "plt.gca().set_aspect('equal')\n",
    "```\n",
    "after your line of code to fix the aspect ratio."
   ]
  },
  {
   "cell_type": "code",
   "execution_count": 30,
   "metadata": {},
   "outputs": [],
   "source": [
    "#- place your code here\n"
   ]
  },
  {
   "cell_type": "markdown",
   "metadata": {},
   "source": [
    "You'll notice a few dots out in the ocean. Some of those are beaches on the Channel Islands, but the northernmost \"island\" is suspicious -- I don't remember any island around Monterey!\n",
    "\n",
    "Let's use a library called `folium` to visualize the beach locations:"
   ]
  },
  {
   "cell_type": "code",
   "execution_count": 31,
   "metadata": {},
   "outputs": [],
   "source": [
    "import folium"
   ]
  },
  {
   "cell_type": "code",
   "execution_count": 32,
   "metadata": {},
   "outputs": [],
   "source": [
    "# don't worry too much about this code!\n",
    "m = folium.Map(location=[33.387082, -119.595940], zoom_start=6)\n",
    "\n",
    "for lat, lon, name in zip(\n",
    "        beaches.get('LATITUDE').values, beaches.get('LONGITUDE').values, beaches.get('NAME').values\n",
    "):\n",
    "    folium.Marker(location=[lat, lon], popup=name).add_to(m)\n",
    "\n",
    "m"
   ]
  },
  {
   "cell_type": "markdown",
   "metadata": {},
   "source": [
    "It looks like \"Its Beach\" near Santa Cruz is incorrectly represented in the data. It's latitude is listed as `35.952`, when it is almost surely `36.952`."
   ]
  },
  {
   "cell_type": "markdown",
   "metadata": {},
   "source": [
    "**Question 2.7.** Plot a density histogram of the beach locations by latitude. Use 20 bins."
   ]
  },
  {
   "cell_type": "code",
   "execution_count": 33,
   "metadata": {},
   "outputs": [],
   "source": [
    "beaches.plot(kind='hist', y='LATITUDE', bins=20, density=True)"
   ]
  },
  {
   "cell_type": "markdown",
   "metadata": {},
   "source": [
    "**Question 2.8.** What is the name of the northernmost beach in California?"
   ]
  },
  {
   "cell_type": "code",
   "execution_count": 34,
   "metadata": {},
   "outputs": [],
   "source": [
    "northernmost_beach = ...\n",
    "northernmost_beach"
   ]
  },
  {
   "cell_type": "code",
   "execution_count": 35,
   "metadata": {},
   "outputs": [],
   "source": [
    "otter.check('q2_8')"
   ]
  },
  {
   "cell_type": "markdown",
   "metadata": {},
   "source": [
    "## 3. Climate Change\n",
    "\n",
    "<img width=90% src=\"./scripps.jpg\"/>\n",
    "\n",
    "California has plenty of coastline, but it is eroding at an alarming rate due to rising sea levels. The USGS [estimates](https://www.usgs.gov/news/sea-level-rise-could-double-erosion-rates-southern-california-coastal-cliffs) that bluffs along the coast of Southern California could suffer erosion of anywhere from 65 to 135 feet by the year 2100.\n",
    "\n",
    "The file `sea_temp.csv` contains historical measurements of the surface temperature (in Celsius) of the water at the La Jolla oceanographic station; `sea_level.csv` contains measurements of the sea level relative to a global baseline (in meters)."
   ]
  },
  {
   "cell_type": "code",
   "execution_count": 38,
   "metadata": {},
   "outputs": [],
   "source": [
    "sea_temp= bpd.read_csv('data/sea_temp.csv')\n",
    "sea_temp"
   ]
  },
  {
   "cell_type": "code",
   "execution_count": 39,
   "metadata": {},
   "outputs": [],
   "source": [
    "sea_level = bpd.read_csv('data/sea_level.csv')\n",
    "sea_level"
   ]
  },
  {
   "cell_type": "markdown",
   "metadata": {},
   "source": [
    "**Question 3.1.** Create a new table named `sea_level_inches` which has the same three columns as `sea_level`, but where the \"level\" column is measured in inches instead of meters."
   ]
  },
  {
   "cell_type": "code",
   "execution_count": 40,
   "metadata": {},
   "outputs": [],
   "source": [
    "sea_level_inches = ...\n",
    "sea_level_inches"
   ]
  },
  {
   "cell_type": "code",
   "execution_count": 41,
   "metadata": {},
   "outputs": [],
   "source": [
    "otter.check('q3_1')"
   ]
  },
  {
   "cell_type": "markdown",
   "metadata": {},
   "source": [
    "**Question 3.2.** Create a new table named `sea_temp_fahrenheit` which has the same three columns as `sea_temp`, but where the \"SURFACE_TEMP\" column is measured in Fahrenheit instead of Celsius."
   ]
  },
  {
   "cell_type": "code",
   "execution_count": 42,
   "metadata": {},
   "outputs": [],
   "source": [
    "sea_temp_fahrenheit = ...\n",
    "sea_temp_fahrenheit"
   ]
  },
  {
   "cell_type": "code",
   "execution_count": 43,
   "metadata": {},
   "outputs": [],
   "source": [
    "otter.check('q3_2')"
   ]
  },
  {
   "cell_type": "markdown",
   "metadata": {},
   "source": [
    "**Question 3.3.** Create a new table named `sea_averages` which contains one row for each year and two columns: \"TEMPERATURE\", containing the average sea temperature in Fahrenheit for each year, and \"LEVEL\", containing the average sea level in inches for each year. Note that because historical temperatures go back to 1916, but historical sea level measurements only go back to 1924, your table will only have rows for 1924 to 2019. The index of your table should contain the years.\n",
    "\n",
    "*Hint*: As always, you can create intermediate variables.\n",
    "\n",
    "*Note*: You might need to use a feature of `babypandas` that was just recently added. You *probably* have the feature already, but if you write your code and see an unexpected error you might need to update. You can do this by saving your notebook then clicking on \"Control Panel\" in the top right, and the \"Stop My Server\". Wait a few seconds, then click the \"Start My Server\" button when it appears. Your `babypandas` should now be up-to-date."
   ]
  },
  {
   "cell_type": "code",
   "execution_count": 45,
   "metadata": {},
   "outputs": [],
   "source": [
    "sea_averages = ...\n",
    "sea_averages"
   ]
  },
  {
   "cell_type": "code",
   "execution_count": 46,
   "metadata": {},
   "outputs": [],
   "source": [
    "otter.check('q3_3')"
   ]
  },
  {
   "cell_type": "markdown",
   "metadata": {},
   "source": [
    "**Question 3.4.** What were the top 5 years in terms of hottest ocean surface temperature? You can write your answer by hand as a list of integers. Example: `[1942, 1900, 1776, 3000, 1994]`"
   ]
  },
  {
   "cell_type": "code",
   "execution_count": 47,
   "metadata": {},
   "outputs": [],
   "source": [
    "top_5_hottest_years = ...\n",
    "top_5_hottest_years"
   ]
  },
  {
   "cell_type": "code",
   "execution_count": 48,
   "metadata": {},
   "outputs": [],
   "source": [
    "otter.check('q3_4')"
   ]
  },
  {
   "cell_type": "markdown",
   "metadata": {},
   "source": [
    "**Question 3.5** What was the median sea surface temperature in Fahrenheit during the month of August, 2018?"
   ]
  },
  {
   "cell_type": "code",
   "execution_count": 49,
   "metadata": {},
   "outputs": [],
   "source": [
    "august_2018_median_temp = ...\n",
    "august_2018_median_temp"
   ]
  },
  {
   "cell_type": "code",
   "execution_count": 50,
   "metadata": {},
   "outputs": [],
   "source": [
    "otter.check('q3_5')"
   ]
  },
  {
   "cell_type": "markdown",
   "metadata": {},
   "source": [
    "Now let's plot the yearly average surface temperature in Fahrenheit as a line plot, with year on the horizontal axis:"
   ]
  },
  {
   "cell_type": "code",
   "execution_count": 51,
   "metadata": {},
   "outputs": [],
   "source": [
    "#- your code here\n"
   ]
  },
  {
   "cell_type": "markdown",
   "metadata": {},
   "source": [
    "Let's plot the yearly average sea level in inches as a line plot, with year on the horizontal axis:"
   ]
  },
  {
   "cell_type": "code",
   "execution_count": 52,
   "metadata": {},
   "outputs": [],
   "source": [
    "sea_averages.plot(y='LEVEL')"
   ]
  },
  {
   "cell_type": "markdown",
   "metadata": {},
   "source": [
    "If your `sea_averages` is right, you should notice a linear increase in the sea level. Let's find the slope of this line and use it to predict the sea level in the future. To start, we need to find the rate at which the sea level has been increasing in inches per year. We could simply take the difference in the height in 2019 and 1924 and divide it by the number of years between them (2019 - 1924 = 95), but this is susceptible to noise.\n",
    "\n",
    "Here's a slightly better way:"
   ]
  },
  {
   "cell_type": "markdown",
   "metadata": {},
   "source": [
    "**Question 3.6.** Define a variable `robust_level_1929` which contains the average of all sea level readings (in inches) taken from 1924 (inclusive) up to 1934 (exclusive). Define a variable `robust_level_2015` which contains the average of all sea level readings (in inches) taken from 2009 (inclusive) to 2019 (exclusive).\n",
    "\n",
    "*Hint*: Should you use `sea_averages` or `sea_level_inches`?"
   ]
  },
  {
   "cell_type": "code",
   "execution_count": 53,
   "metadata": {},
   "outputs": [],
   "source": [
    "robust_level_1929 = ...\n",
    "robust_level_1929"
   ]
  },
  {
   "cell_type": "code",
   "execution_count": 54,
   "metadata": {},
   "outputs": [],
   "source": [
    "robust_level_2015 = ...\n",
    "robust_level_2015"
   ]
  },
  {
   "cell_type": "code",
   "execution_count": 56,
   "metadata": {},
   "outputs": [],
   "source": [
    "otter.check('q3_6')"
   ]
  },
  {
   "cell_type": "markdown",
   "metadata": {},
   "source": [
    "**Question 3.7.** Assume that the sea level increased at a constant rate from a value of `robust_level_1929` inches in 1929 to `robust_level_2015` inches in 2015. What was the rate of increase?"
   ]
  },
  {
   "cell_type": "code",
   "execution_count": 57,
   "metadata": {},
   "outputs": [],
   "source": [
    "inches_per_year = ...\n",
    "inches_per_year"
   ]
  },
  {
   "cell_type": "code",
   "execution_count": 59,
   "metadata": {},
   "outputs": [],
   "source": [
    "otter.check('q3_7')"
   ]
  },
  {
   "cell_type": "markdown",
   "metadata": {},
   "source": [
    "**Question 3.8.** Create a function called `predict_sea_level` which takes in a year and outputs the predicted sea level in that year. You should make your prediction by assuming that the actual sea level in the year 2015 was `robust_level_2015`, and that it increases at a constant rate of `inches_per_year` inches."
   ]
  },
  {
   "cell_type": "code",
   "execution_count": 60,
   "metadata": {},
   "outputs": [],
   "source": [
    "def predict_sea_level(year):\n",
    "    ..."
   ]
  },
  {
   "cell_type": "code",
   "execution_count": 63,
   "metadata": {},
   "outputs": [],
   "source": [
    "otter.check('q3_8')"
   ]
  },
  {
   "cell_type": "markdown",
   "metadata": {},
   "source": [
    "Your prediction is linear; unfortunately, scientists believe that the rate of sea level rise will increase in the coming decades to match the trend in rising temperatures. This means that the sea level is likely to rise much more than your prediction would suggest."
   ]
  },
  {
   "cell_type": "markdown",
   "metadata": {},
   "source": [
    "**Question 3.9.** Make a scatter plot of the yearly average temperature on the horizontal axis versus the yearly average sea level on the vertical axis."
   ]
  },
  {
   "cell_type": "code",
   "execution_count": 64,
   "metadata": {},
   "outputs": [],
   "source": [
    "sea_averages.plot(kind='scatter', x='TEMPERATURE', y='LEVEL')"
   ]
  },
  {
   "cell_type": "markdown",
   "metadata": {},
   "source": [
    "## 4. California's Renewable Energy"
   ]
  },
  {
   "cell_type": "markdown",
   "metadata": {},
   "source": [
    "<img width=85% src=\"wind_energy.jpg\"/>"
   ]
  },
  {
   "cell_type": "markdown",
   "metadata": {},
   "source": [
    "To combat climate change, California has increasingly generated its energy from renewable resources, such as solar and wind power. The file `energy.csv` contains hourly measurements of the amount of energy produced in California by various renewable sources in megawatts between April 2010 and January 2018."
   ]
  },
  {
   "cell_type": "code",
   "execution_count": 65,
   "metadata": {},
   "outputs": [],
   "source": [
    "energy_raw = bpd.read_csv('data/energy.csv').set_index('TIMESTAMP')\n",
    "energy_raw"
   ]
  },
  {
   "cell_type": "markdown",
   "metadata": {},
   "source": [
    "The index labels are *timestamps*. These are standardized strings specifying a particular time and date. For instance, \"2013-01-28 23:00:00\" represents January 28, 2013 at 11 pm."
   ]
  },
  {
   "cell_type": "markdown",
   "metadata": {},
   "source": [
    "**Question 4.1.** The data set has two columns for similar solar technologies: SOLAR and SOLAR PV. It makes sense to combine these columns into one. Create a new table named `energy` in which the \"SOLAR\" column is the sum of the \"SOLAR\" and \"SOLAR PV\" columns in `energy_raw`. Remove \"SOLAR PV\" from this new table."
   ]
  },
  {
   "cell_type": "code",
   "execution_count": 66,
   "metadata": {},
   "outputs": [],
   "source": [
    "energy = ...\n",
    "energy"
   ]
  },
  {
   "cell_type": "code",
   "execution_count": 68,
   "metadata": {},
   "outputs": [],
   "source": [
    "otter.check('q4_1')"
   ]
  },
  {
   "cell_type": "markdown",
   "metadata": {},
   "source": [
    "**Question 4.2.** Return the hour which had the highest production of geothermal energy. Your answer should be in the form of a timestamp, like \"2011-07-21 00:00:00\"."
   ]
  },
  {
   "cell_type": "code",
   "execution_count": 69,
   "metadata": {},
   "outputs": [],
   "source": [
    "most_geothermal_timestamp = ...\n",
    "most_geothermal_timestamp"
   ]
  },
  {
   "cell_type": "code",
   "execution_count": 71,
   "metadata": {},
   "outputs": [],
   "source": [
    "otter.check('q4_2')"
   ]
  },
  {
   "cell_type": "markdown",
   "metadata": {},
   "source": [
    "**Question 4.3.** Create functions called `extract_year`, `extract_month`, and `extract_day` which, given a timestamp string of the form \"2011-07-21 00:00:00\", returns the year, month, and day, respectively, all as a `int`s.\n",
    "\n",
    "*Hint*: remember that `.split()` can accept the character to split on."
   ]
  },
  {
   "cell_type": "code",
   "execution_count": 72,
   "metadata": {},
   "outputs": [],
   "source": [
    "def extract_year(timestamp):\n",
    "    ...\n",
    "    \n",
    "def extract_month(timestamp):\n",
    "    ...\n",
    "    \n",
    "def extract_day(timestamp):\n",
    "    ..."
   ]
  },
  {
   "cell_type": "code",
   "execution_count": 74,
   "metadata": {},
   "outputs": [],
   "source": [
    "print('Should return 2011:', extract_year('2011-07-21 00:00:00'))\n",
    "print('Should return 7:', extract_month('2011-07-21 00:00:00'))\n",
    "print('Should return 21:', extract_day('2011-07-21 00:00:00'))"
   ]
  },
  {
   "cell_type": "code",
   "execution_count": 75,
   "metadata": {},
   "outputs": [],
   "source": [
    "otter.check('q4_3')"
   ]
  },
  {
   "cell_type": "markdown",
   "metadata": {},
   "source": [
    "**Question 4.4.** Create a function called `extract_hour` which, given a timestamp string of the form \"2011-07-21 00:00:00\", returns the hour as an `int`."
   ]
  },
  {
   "cell_type": "code",
   "execution_count": 76,
   "metadata": {},
   "outputs": [],
   "source": [
    "def extract_hour(timestamp):\n",
    "    ..."
   ]
  },
  {
   "cell_type": "code",
   "execution_count": 78,
   "metadata": {},
   "outputs": [],
   "source": [
    "print('Should return 13:', extract_hour('2011-07-21 13:00:00'))"
   ]
  },
  {
   "cell_type": "code",
   "execution_count": 79,
   "metadata": {},
   "outputs": [],
   "source": [
    "otter.check('q4_4')"
   ]
  },
  {
   "cell_type": "markdown",
   "metadata": {},
   "source": [
    "**Question 4.5.** Create a new table called `energy_with_time` which contains all of the columns of `energy`, plus columns \"YEAR\", \"MONTH\", \"DAY\", and \"HOUR\" containing the year, month, day, and hour of each row as integers. Your table should not have an index (other than the default index consisting of numbers).\n",
    "\n",
    "Your table should look like the picture below, but with the `?`s replaced by numbers:\n",
    "<img width=85% src=\"./q4_output.png\"/>"
   ]
  },
  {
   "cell_type": "code",
   "execution_count": 80,
   "metadata": {},
   "outputs": [],
   "source": [
    "energy_with_time = ...\n",
    "energy_with_time"
   ]
  },
  {
   "cell_type": "code",
   "execution_count": 81,
   "metadata": {},
   "outputs": [],
   "source": [
    "otter.check('q4_5')"
   ]
  },
  {
   "cell_type": "markdown",
   "metadata": {},
   "source": [
    "**Question 4.6.** Create a table called `monthly_totals` which contains the total amount of energy produced by each method for each month in the data set. That is, your table should have one row for July 2011, another row for August 2011, another for September 2011, and so on. Your resulting table should have the same columns as `energy_with_time`, except \"DAY\" and \"HOUR\" should be removed.\n",
    "\n",
    "*Hint*: Your table should have 94 rows."
   ]
  },
  {
   "cell_type": "code",
   "execution_count": 82,
   "metadata": {},
   "outputs": [],
   "source": [
    "monthly_totals = ...\n",
    "monthly_totals"
   ]
  },
  {
   "cell_type": "code",
   "execution_count": 83,
   "metadata": {},
   "outputs": [],
   "source": [
    "otter.check('q4_6')"
   ]
  },
  {
   "cell_type": "markdown",
   "metadata": {},
   "source": [
    "**Question 4.7.** Plot the monthly total production of SOLAR, GEOTHERMAL, and WIND TOTAL on one plot."
   ]
  },
  {
   "cell_type": "code",
   "execution_count": 84,
   "metadata": {},
   "outputs": [],
   "source": [
    "#- put your code here\n"
   ]
  },
  {
   "cell_type": "markdown",
   "metadata": {},
   "source": [
    "**Question 4.8.** Create a table called `hourly_averages_june_2017` which contains the average output of every energy source by hour in the month of June 2017. Your table should not contain DAY, MONTH, or YEAR columns.\n",
    "\n",
    "Your answer should look like this (I've intentionally left the numbers in the table so that you can check your answer):\n",
    "\n",
    "<img width=90% src=\"./q48_output.png\"/>"
   ]
  },
  {
   "cell_type": "code",
   "execution_count": 85,
   "metadata": {},
   "outputs": [],
   "source": [
    "hourly_averages_june_2017 = ...\n",
    "hourly_averages_june_2017"
   ]
  },
  {
   "cell_type": "code",
   "execution_count": 86,
   "metadata": {},
   "outputs": [],
   "source": [
    "otter.check('q4_8')"
   ]
  },
  {
   "cell_type": "markdown",
   "metadata": {},
   "source": [
    "**Question 4.9.** Plot the hourly average production of solar, wind, and geothermal in June 2017 on one plot."
   ]
  },
  {
   "cell_type": "code",
   "execution_count": 87,
   "metadata": {},
   "outputs": [],
   "source": [
    "#- put your code here\n"
   ]
  },
  {
   "cell_type": "markdown",
   "metadata": {},
   "source": [
    "You should see that solar production is zero at night, but reaches a peak in the afternoon. On the other hand, wind output is highest at night."
   ]
  },
  {
   "cell_type": "markdown",
   "metadata": {},
   "source": [
    "# Finish Line\n",
    "\n",
    "Congratulations! You are done with Project 01.\n",
    "\n",
    "To submit your assignment:\n",
    "\n",
    "1. Select `Kernel -> Restart & Run All` to ensure that you have executed all cells, including the test cells.\n",
    "2. Read through the notebook to make sure everything is fine and all tests passed.\n",
    "3. Run the cell below to run all tests, and make sure that they all pass.\n",
    "4. Download your notebook using `File -> Download as -> Notebook (.ipynb)`, then upload your notebook to Gradescope."
   ]
  },
  {
   "cell_type": "code",
   "execution_count": 88,
   "metadata": {},
   "outputs": [],
   "source": [
    "otter.check_all()"
   ]
  }
 ],
 "metadata": {
  "kernelspec": {
   "display_name": "Python 3",
   "language": "python",
   "name": "python3"
  },
  "language_info": {
   "codemirror_mode": {
    "name": "ipython",
    "version": 3
   },
   "file_extension": ".py",
   "mimetype": "text/x-python",
   "name": "python",
   "nbconvert_exporter": "python",
   "pygments_lexer": "ipython3",
   "version": "3.8.3"
  }
 },
 "nbformat": 4,
 "nbformat_minor": 2
}
