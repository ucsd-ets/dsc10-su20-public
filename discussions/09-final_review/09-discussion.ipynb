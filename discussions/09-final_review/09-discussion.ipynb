{
 "cells": [
  {
   "cell_type": "code",
   "execution_count": 1,
   "metadata": {},
   "outputs": [],
   "source": [
    "import babypandas as bpd\n",
    "import matplotlib.pyplot as plt\n",
    "import numpy as np\n",
    "plt.style.use('fivethirtyeight')"
   ]
  },
  {
   "cell_type": "markdown",
   "metadata": {
    "slideshow": {
     "slide_type": "slide"
    }
   },
   "source": [
    "# DSC 10 - Final Exam Review"
   ]
  },
  {
   "cell_type": "markdown",
   "metadata": {
    "slideshow": {
     "slide_type": "slide"
    }
   },
   "source": [
    "## The Final Exam\n",
    "\n",
    "- Saturday, available in a 24 hour window.\n",
    "- 3 hours to complete; designed to take less.\n",
    "- Cumulative, with focus on Weeks 05 -- 10.\n",
    "- Open book, open note, open everything (but no talking about the exam)."
   ]
  },
  {
   "cell_type": "markdown",
   "metadata": {
    "slideshow": {
     "slide_type": "slide"
    }
   },
   "source": [
    "## The Final Project\n",
    "\n",
    "- Don't forget: due next week.\n",
    "- Excellent practice for the final exam."
   ]
  },
  {
   "cell_type": "markdown",
   "metadata": {
    "slideshow": {
     "slide_type": "slide"
    }
   },
   "source": [
    "## The Final Discussion\n",
    "\n",
    "- The stuff from the second part of the quarter was more *conceptual*.\n",
    "- The final exam will therefore have more *conceptual* questions.\n",
    "- Here, we'll review the main concepts from second part of the quarter."
   ]
  },
  {
   "cell_type": "markdown",
   "metadata": {
    "slideshow": {
     "slide_type": "slide"
    }
   },
   "source": [
    "# Concept 1: Distributions"
   ]
  },
  {
   "cell_type": "markdown",
   "metadata": {
    "slideshow": {
     "slide_type": "slide"
    }
   },
   "source": [
    "## Distributions\n",
    "\n",
    "- A *ditribution* tells us the probability of each possible outcome.\n",
    "- Often visualized with a *histogram*."
   ]
  },
  {
   "cell_type": "markdown",
   "metadata": {
    "slideshow": {
     "slide_type": "slide"
    }
   },
   "source": [
    "## Example"
   ]
  },
  {
   "cell_type": "code",
   "execution_count": 2,
   "metadata": {},
   "outputs": [
    {
     "data": {
      "text/plain": [
       "<matplotlib.axes._subplots.AxesSubplot at 0x7fc27d7077c0>"
      ]
     },
     "execution_count": 2,
     "metadata": {},
     "output_type": "execute_result"
    },
    {
     "data": {
      "image/png": "[encoded data removed]",
      "text/plain": [
       "<Figure size 432x288 with 1 Axes>"
      ]
     },
     "metadata": {},
     "output_type": "display_data"
    }
   ],
   "source": [
    "flights = bpd.read_csv('united_summer2015.csv')\n",
    "flights.plot(kind='hist', y='Delay', bins=20, density=True)"
   ]
  },
  {
   "cell_type": "markdown",
   "metadata": {
    "slideshow": {
     "slide_type": "slide"
    }
   },
   "source": [
    "# Concept 2: Sampling"
   ]
  },
  {
   "cell_type": "markdown",
   "metadata": {
    "slideshow": {
     "slide_type": "slide"
    }
   },
   "source": [
    "## Populations and Samples"
   ]
  },
  {
   "cell_type": "markdown",
   "metadata": {},
   "source": [
    "- The *population* is the \"entire\" data set. We don't usually see it.\n",
    "- Instead, we see a *sample* whose size is smaller than the population.\n",
    "- We usually obtain the sample *randomly*."
   ]
  },
  {
   "cell_type": "code",
   "execution_count": 3,
   "metadata": {},
   "outputs": [],
   "source": [
    "population = flights"
   ]
  },
  {
   "cell_type": "markdown",
   "metadata": {
    "slideshow": {
     "slide_type": "slide"
    }
   },
   "source": [
    "## With/Without Replacement\n",
    "\n",
    "- We have the option to randomly sample with/without replacement."
   ]
  },
  {
   "cell_type": "code",
   "execution_count": 4,
   "metadata": {},
   "outputs": [
    {
     "data": {
      "text/html": [
       "<div>\n",
       "<style scoped>\n",
       "    .dataframe tbody tr th:only-of-type {\n",
       "        vertical-align: middle;\n",
       "    }\n",
       "\n",
       "    .dataframe tbody tr th {\n",
       "        vertical-align: top;\n",
       "    }\n",
       "\n",
       "    .dataframe thead th {\n",
       "        text-align: right;\n",
       "    }\n",
       "</style>\n",
       "<table border=\"1\" class=\"dataframe\">\n",
       "  <thead>\n",
       "    <tr style=\"text-align: right;\">\n",
       "      <th></th>\n",
       "      <th>Date</th>\n",
       "      <th>Flight Number</th>\n",
       "      <th>Destination</th>\n",
       "      <th>Delay</th>\n",
       "    </tr>\n",
       "  </thead>\n",
       "  <tbody>\n",
       "    <tr>\n",
       "      <th>4759</th>\n",
       "      <td>7/2/15</td>\n",
       "      <td>1579</td>\n",
       "      <td>LAX</td>\n",
       "      <td>-1</td>\n",
       "    </tr>\n",
       "    <tr>\n",
       "      <th>4019</th>\n",
       "      <td>6/27/15</td>\n",
       "      <td>1684</td>\n",
       "      <td>LIH</td>\n",
       "      <td>-7</td>\n",
       "    </tr>\n",
       "    <tr>\n",
       "      <th>7632</th>\n",
       "      <td>7/21/15</td>\n",
       "      <td>1993</td>\n",
       "      <td>IAD</td>\n",
       "      <td>-2</td>\n",
       "    </tr>\n",
       "    <tr>\n",
       "      <th>10686</th>\n",
       "      <td>8/10/15</td>\n",
       "      <td>1683</td>\n",
       "      <td>EWR</td>\n",
       "      <td>7</td>\n",
       "    </tr>\n",
       "    <tr>\n",
       "      <th>6979</th>\n",
       "      <td>7/17/15</td>\n",
       "      <td>1415</td>\n",
       "      <td>PDX</td>\n",
       "      <td>-8</td>\n",
       "    </tr>\n",
       "    <tr>\n",
       "      <th>...</th>\n",
       "      <td>...</td>\n",
       "      <td>...</td>\n",
       "      <td>...</td>\n",
       "      <td>...</td>\n",
       "    </tr>\n",
       "    <tr>\n",
       "      <th>1616</th>\n",
       "      <td>6/11/15</td>\n",
       "      <td>1635</td>\n",
       "      <td>DEN</td>\n",
       "      <td>-3</td>\n",
       "    </tr>\n",
       "    <tr>\n",
       "      <th>5434</th>\n",
       "      <td>7/7/15</td>\n",
       "      <td>1523</td>\n",
       "      <td>SEA</td>\n",
       "      <td>58</td>\n",
       "    </tr>\n",
       "    <tr>\n",
       "      <th>1987</th>\n",
       "      <td>6/14/15</td>\n",
       "      <td>637</td>\n",
       "      <td>JFK</td>\n",
       "      <td>2</td>\n",
       "    </tr>\n",
       "    <tr>\n",
       "      <th>1536</th>\n",
       "      <td>6/11/15</td>\n",
       "      <td>502</td>\n",
       "      <td>JFK</td>\n",
       "      <td>-8</td>\n",
       "    </tr>\n",
       "    <tr>\n",
       "      <th>35</th>\n",
       "      <td>6/1/15</td>\n",
       "      <td>663</td>\n",
       "      <td>HNL</td>\n",
       "      <td>4</td>\n",
       "    </tr>\n",
       "  </tbody>\n",
       "</table>\n",
       "<p>2000 rows × 4 columns</p>\n",
       "</div>"
      ],
      "text/plain": [
       "          Date  Flight Number Destination  Delay\n",
       "4759    7/2/15           1579         LAX     -1\n",
       "4019   6/27/15           1684         LIH     -7\n",
       "7632   7/21/15           1993         IAD     -2\n",
       "10686  8/10/15           1683         EWR      7\n",
       "6979   7/17/15           1415         PDX     -8\n",
       "...        ...            ...         ...    ...\n",
       "1616   6/11/15           1635         DEN     -3\n",
       "5434    7/7/15           1523         SEA     58\n",
       "1987   6/14/15            637         JFK      2\n",
       "1536   6/11/15            502         JFK     -8\n",
       "35      6/1/15            663         HNL      4\n",
       "\n",
       "[2000 rows x 4 columns]"
      ]
     },
     "execution_count": 4,
     "metadata": {},
     "output_type": "execute_result"
    }
   ],
   "source": [
    "population.sample(2000, replace=True)"
   ]
  },
  {
   "cell_type": "markdown",
   "metadata": {
    "slideshow": {
     "slide_type": "slide"
    }
   },
   "source": [
    "## Examples\n",
    "\n",
    "In each of the following experiments, 1) what is the population? 2) should we sample with or without replacement?\n",
    "\n",
    "- Picking a team of 5 from a class of 100 people.\n",
    "- Rolling a 6-sided die, 20 times.\n",
    "- Randomly generating names for 100 babies born."
   ]
  },
  {
   "cell_type": "markdown",
   "metadata": {
    "slideshow": {
     "slide_type": "slide"
    }
   },
   "source": [
    "# Concept 3: Estimation"
   ]
  },
  {
   "cell_type": "markdown",
   "metadata": {
    "slideshow": {
     "slide_type": "slide"
    }
   },
   "source": [
    "- We want to know some aspect (parameter) of the *population*.\n",
    "    - Example: the average flight delay, or total number of planes produced\n",
    "- We don't have the population, only a sample.\n",
    "- So we try to *estimate* the parameter using the sample."
   ]
  },
  {
   "cell_type": "markdown",
   "metadata": {
    "slideshow": {
     "slide_type": "slide"
    }
   },
   "source": [
    "## Statistics\n",
    "\n",
    "- A statistic is any number computed from a sample.\n",
    "- We compute a *statistic* to *estimate* a population *parameter*.\n",
    "- Example: sample mean flight delay."
   ]
  },
  {
   "cell_type": "markdown",
   "metadata": {
    "slideshow": {
     "slide_type": "slide"
    }
   },
   "source": [
    "## The Problem\n",
    "\n",
    "- You randomly select a sample and compute your statistic.\n",
    "    - Example: the sample mean flight delay is 14 minutes.\n",
    "- Your hope: it is close to the \"right answer\" (the pop. mean).\n",
    "- You can never know *exactly* how close it is without having the population.\n",
    "- The power of statistics: you can say how *likely* it is to be within a certain distance."
   ]
  },
  {
   "cell_type": "markdown",
   "metadata": {
    "slideshow": {
     "slide_type": "slide"
    }
   },
   "source": [
    "## Sampling Distribution\n",
    "\n",
    "- The sample is random; so your sample statistic is, too.\n",
    "- I.e., it could have been different.\n",
    "- The *sampling distribution* tells us the probability of those different outcomes.\n",
    "- I.e., it tells us how different sample mean *could have been*."
   ]
  },
  {
   "cell_type": "code",
   "execution_count": 5,
   "metadata": {},
   "outputs": [
    {
     "data": {
      "text/plain": [
       "16.078"
      ]
     },
     "execution_count": 5,
     "metadata": {},
     "output_type": "execute_result"
    }
   ],
   "source": [
    "observed_mean = population.sample(2000).get('Delay').mean()\n",
    "observed_mean"
   ]
  },
  {
   "cell_type": "markdown",
   "metadata": {
    "slideshow": {
     "slide_type": "slide"
    }
   },
   "source": [
    "## Simulating the Sampling Distribution\n",
    "\n",
    "- Let's get more samples from the population, compute mean of each.\n",
    "- **Problem**: In the real world we (usually) can't do this."
   ]
  },
  {
   "cell_type": "code",
   "execution_count": 6,
   "metadata": {},
   "outputs": [],
   "source": [
    "sample_means = np.array([])\n",
    "for i in np.arange(1000):\n",
    "    mean = population.get('Delay').sample(2000).mean()\n",
    "    sample_means = np.append(sample_means, mean)"
   ]
  },
  {
   "cell_type": "code",
   "execution_count": 7,
   "metadata": {},
   "outputs": [
    {
     "data": {
      "text/plain": [
       "<matplotlib.collections.PathCollection at 0x7fc2c0067820>"
      ]
     },
     "execution_count": 7,
     "metadata": {},
     "output_type": "execute_result"
    },
    {
     "data": {
      "image/png": "[encoded data removed]",
      "text/plain": [
       "<Figure size 432x288 with 1 Axes>"
      ]
     },
     "metadata": {},
     "output_type": "display_data"
    }
   ],
   "source": [
    "plt.hist(sample_means)\n",
    "plt.scatter(observed_mean, 0, color='red', zorder=10)"
   ]
  },
  {
   "cell_type": "markdown",
   "metadata": {
    "slideshow": {
     "slide_type": "slide"
    }
   },
   "source": [
    "## Sampling Distribution\n",
    "\n",
    "- We'd love to know the sampling distribution.\n",
    "- But we just have one sample.\n",
    "- How do we approximate the sampling distribution with just one sample?\n",
    "- Answers: the Bootstrap and the Central Limit Theorem"
   ]
  },
  {
   "cell_type": "markdown",
   "metadata": {
    "slideshow": {
     "slide_type": "slide"
    }
   },
   "source": [
    "# Concept 4: The Bootstrap"
   ]
  },
  {
   "cell_type": "markdown",
   "metadata": {
    "slideshow": {
     "slide_type": "slide"
    }
   },
   "source": [
    "## The Boostrap\n",
    "\n",
    "- Problem: we want to know the sample distribution of our statistic, but we just have one sample."
   ]
  },
  {
   "cell_type": "code",
   "execution_count": 8,
   "metadata": {},
   "outputs": [
    {
     "data": {
      "text/plain": [
       "<matplotlib.collections.PathCollection at 0x7fc27d5011c0>"
      ]
     },
     "execution_count": 8,
     "metadata": {},
     "output_type": "execute_result"
    },
    {
     "data": {
      "image/png": "[encoded data removed]",
      "text/plain": [
       "<Figure size 432x288 with 1 Axes>"
      ]
     },
     "metadata": {},
     "output_type": "display_data"
    }
   ],
   "source": [
    "original_sample = population.sample(2000)\n",
    "plt.hist(sample_means, alpha=.1, color='black')\n",
    "plt.scatter(original_sample.get('Delay').mean(), 0, color='red', zorder=10)"
   ]
  },
  {
   "cell_type": "markdown",
   "metadata": {
    "slideshow": {
     "slide_type": "slide"
    }
   },
   "source": [
    "## Idea\n",
    "\n",
    "- I wish I had the population; then I could get more samples:"
   ]
  },
  {
   "cell_type": "code",
   "execution_count": 9,
   "metadata": {},
   "outputs": [],
   "source": [
    "another_sample = population.sample(2000)"
   ]
  },
  {
   "cell_type": "markdown",
   "metadata": {},
   "source": [
    "- I don't have the population.\n",
    "- But hey, the original sample probably looks like the population. Let's sample from it."
   ]
  },
  {
   "cell_type": "code",
   "execution_count": 10,
   "metadata": {},
   "outputs": [],
   "source": [
    "bootstrap_sample = original_sample.sample(2000, replace=True)"
   ]
  },
  {
   "cell_type": "markdown",
   "metadata": {
    "slideshow": {
     "slide_type": "slide"
    }
   },
   "source": [
    "## Boostrapping and Replacement\n",
    "\n",
    "- **Important**: when we get a boostrap sample, we sample *with* replacement. Why?\n",
    "- If we didn't we'd just get the same data set back:"
   ]
  },
  {
   "cell_type": "code",
   "execution_count": 11,
   "metadata": {},
   "outputs": [
    {
     "data": {
      "text/plain": [
       "16.842"
      ]
     },
     "execution_count": 11,
     "metadata": {},
     "output_type": "execute_result"
    }
   ],
   "source": [
    "original_sample.sample(2000, replace=False).get('Delay').mean()"
   ]
  },
  {
   "cell_type": "markdown",
   "metadata": {
    "slideshow": {
     "slide_type": "slide"
    }
   },
   "source": [
    "## Bootstrapping and Duplicates\n",
    "\n",
    "- If we sample with replacement, we'll get duplicates.\n",
    "- This is OK! In fact, it is necessary.\n",
    "- The mean doesn't care about duplicates.\n",
    "    - mean of [1.9, 2.1, 6.1, 6.2] is $\\approx$ mean of [2, 2, 6, 6]"
   ]
  },
  {
   "cell_type": "code",
   "execution_count": 12,
   "metadata": {},
   "outputs": [
    {
     "data": {
      "image/png": "[encoded data removed]",
      "text/plain": [
       "<Figure size 432x288 with 1 Axes>"
      ]
     },
     "metadata": {},
     "output_type": "display_data"
    },
    {
     "data": {
      "image/png": "[encoded data removed]",
      "text/plain": [
       "<Figure size 432x288 with 1 Axes>"
      ]
     },
     "metadata": {},
     "output_type": "display_data"
    },
    {
     "data": {
      "image/png": "[encoded data removed]",
      "text/plain": [
       "<Figure size 432x288 with 1 Axes>"
      ]
     },
     "metadata": {},
     "output_type": "display_data"
    },
    {
     "data": {
      "image/png": "[encoded data removed]",
      "text/plain": [
       "<Figure size 432x288 with 1 Axes>"
      ]
     },
     "metadata": {},
     "output_type": "display_data"
    },
    {
     "data": {
      "image/png": "[encoded data removed]",
      "text/plain": [
       "<Figure size 432x288 with 1 Axes>"
      ]
     },
     "metadata": {},
     "output_type": "display_data"
    }
   ],
   "source": [
    "for i in range(5):\n",
    "    original_sample.sample(1000, replace=True).plot(kind='hist', y='Delay')"
   ]
  },
  {
   "cell_type": "markdown",
   "metadata": {
    "slideshow": {
     "slide_type": "slide"
    }
   },
   "source": [
    "## Example"
   ]
  },
  {
   "cell_type": "code",
   "execution_count": 13,
   "metadata": {},
   "outputs": [],
   "source": [
    "bootstrap_sample_means = np.array([])\n",
    "for i in np.arange(5000):\n",
    "    bootstrap_sample_mean = original_sample.get('Delay').sample(original_sample.shape[0], replace=True).mean()\n",
    "    bootstrap_sample_means = np.append(bootstrap_sample_means, bootstrap_sample_mean)"
   ]
  },
  {
   "cell_type": "code",
   "execution_count": 14,
   "metadata": {},
   "outputs": [
    {
     "data": {
      "text/plain": [
       "(array([0.0193836 , 0.0581508 , 0.20740454, 0.41093235, 0.48265168,\n",
       "        0.41868579, 0.20352782, 0.09691801, 0.03489048, 0.00581508]),\n",
       " array([14.302 , 14.8179, 15.3338, 15.8497, 16.3656, 16.8815, 17.3974,\n",
       "        17.9133, 18.4292, 18.9451, 19.461 ]),\n",
       " <a list of 10 Patch objects>)"
      ]
     },
     "execution_count": 14,
     "metadata": {},
     "output_type": "execute_result"
    },
    {
     "data": {
      "image/png": "[encoded data removed]",
      "text/plain": [
       "<Figure size 432x288 with 1 Axes>"
      ]
     },
     "metadata": {},
     "output_type": "display_data"
    }
   ],
   "source": [
    "plt.hist(bootstrap_sample_means, density=True)\n",
    "plt.hist(sample_means, density=True, alpha=.85)"
   ]
  },
  {
   "cell_type": "markdown",
   "metadata": {
    "slideshow": {
     "slide_type": "slide"
    }
   },
   "source": [
    "# Concept 5: The Central Limit Theorem"
   ]
  },
  {
   "cell_type": "markdown",
   "metadata": {
    "slideshow": {
     "slide_type": "slide"
    }
   },
   "source": [
    "## The CLT\n",
    "\n",
    "- Problem: we want to know the sample distribution of our statistic, but we just have one sample."
   ]
  },
  {
   "cell_type": "code",
   "execution_count": 15,
   "metadata": {},
   "outputs": [
    {
     "data": {
      "text/plain": [
       "<matplotlib.collections.PathCollection at 0x7fc27d591f40>"
      ]
     },
     "execution_count": 15,
     "metadata": {},
     "output_type": "execute_result"
    },
    {
     "data": {
      "image/png": "[encoded data removed]",
      "text/plain": [
       "<Figure size 432x288 with 1 Axes>"
      ]
     },
     "metadata": {},
     "output_type": "display_data"
    }
   ],
   "source": [
    "original_sample = population.sample(2000)\n",
    "plt.hist(sample_means, alpha=.1, color='black')\n",
    "plt.scatter(original_sample.get('Delay').mean(), 0, color='red', zorder=10)"
   ]
  },
  {
   "cell_type": "markdown",
   "metadata": {
    "slideshow": {
     "slide_type": "slide"
    }
   },
   "source": [
    "## Idea\n",
    "\n",
    "- Some smart people proved that the distribution of the *sample mean* will be (approximately) normal.\n",
    "- This is the **Central Limit Theorem**:\n",
    "\n",
    "> The sampling distribution of the sample mean is approximately a normal curve, centered at the population mean, and with standard deviation equal to the population standard deviation over the square root of the sample size."
   ]
  },
  {
   "cell_type": "markdown",
   "metadata": {
    "slideshow": {
     "slide_type": "slide"
    }
   },
   "source": [
    "## CLT\n",
    "\n",
    "- The CLT let's us approximate the sample distribution of the mean without getting more samples or running the bootstrap.\n",
    "- Small problem: we don't have the sample mean/SD. That's OK, just use the sample mean/SD."
   ]
  },
  {
   "cell_type": "markdown",
   "metadata": {
    "slideshow": {
     "slide_type": "slide"
    }
   },
   "source": [
    "## Careful!\n",
    "\n",
    "- There are lots of distributions here. The population distribution, the sample distribution, and the distribution of the sample mean, each with their own mean / SD."
   ]
  },
  {
   "cell_type": "code",
   "execution_count": 16,
   "metadata": {},
   "outputs": [
    {
     "data": {
      "text/plain": [
       "<matplotlib.axes._subplots.AxesSubplot at 0x7fc27d185bb0>"
      ]
     },
     "execution_count": 16,
     "metadata": {},
     "output_type": "execute_result"
    },
    {
     "data": {
      "image/png": "[encoded data removed]",
      "text/plain": [
       "<Figure size 432x288 with 1 Axes>"
      ]
     },
     "metadata": {},
     "output_type": "display_data"
    }
   ],
   "source": [
    "population.plot(kind='hist', y='Delay')"
   ]
  },
  {
   "cell_type": "code",
   "execution_count": 17,
   "metadata": {},
   "outputs": [
    {
     "data": {
      "text/plain": [
       "<matplotlib.axes._subplots.AxesSubplot at 0x7fc27d2fa3d0>"
      ]
     },
     "execution_count": 17,
     "metadata": {},
     "output_type": "execute_result"
    },
    {
     "data": {
      "image/png": "[encoded data removed]",
      "text/plain": [
       "<Figure size 432x288 with 1 Axes>"
      ]
     },
     "metadata": {},
     "output_type": "display_data"
    }
   ],
   "source": [
    "original_sample.plot(kind='hist', y='Delay')"
   ]
  },
  {
   "cell_type": "code",
   "execution_count": 18,
   "metadata": {},
   "outputs": [
    {
     "data": {
      "text/plain": [
       "(array([ 10.,  30., 107., 212., 249., 216., 105.,  50.,  18.,   3.]),\n",
       " array([14.302 , 14.8179, 15.3338, 15.8497, 16.3656, 16.8815, 17.3974,\n",
       "        17.9133, 18.4292, 18.9451, 19.461 ]),\n",
       " <a list of 10 Patch objects>)"
      ]
     },
     "execution_count": 18,
     "metadata": {},
     "output_type": "execute_result"
    },
    {
     "data": {
      "image/png": "[encoded data removed]",
      "text/plain": [
       "<Figure size 432x288 with 1 Axes>"
      ]
     },
     "metadata": {},
     "output_type": "display_data"
    }
   ],
   "source": [
    "plt.hist(sample_means)"
   ]
  },
  {
   "cell_type": "markdown",
   "metadata": {
    "slideshow": {
     "slide_type": "slide"
    }
   },
   "source": [
    "## Example"
   ]
  },
  {
   "cell_type": "code",
   "execution_count": 19,
   "metadata": {},
   "outputs": [],
   "source": [
    "def norm(x, mu, sigma):\n",
    "    return 1/np.sqrt(2 * np.pi * sigma**2) * np.exp(-0.5 * (x - mu)**2 / sigma**2)"
   ]
  },
  {
   "cell_type": "code",
   "execution_count": 20,
   "metadata": {},
   "outputs": [],
   "source": [
    "mu = original_sample.get('Delay').mean()\n",
    "sigma = np.std(original_sample.get('Delay')) / np.sqrt(2000)"
   ]
  },
  {
   "cell_type": "code",
   "execution_count": 21,
   "metadata": {},
   "outputs": [
    {
     "data": {
      "text/plain": [
       "[<matplotlib.lines.Line2D at 0x7fc27d400a60>]"
      ]
     },
     "execution_count": 21,
     "metadata": {},
     "output_type": "execute_result"
    },
    {
     "data": {
      "image/png": "[encoded data removed]",
      "text/plain": [
       "<Figure size 432x288 with 1 Axes>"
      ]
     },
     "metadata": {},
     "output_type": "display_data"
    }
   ],
   "source": [
    "x_clt = np.linspace(14, 20, 100)\n",
    "y_clt = norm(x_clt, mu, sigma)\n",
    "plt.plot(x_clt, y_clt)"
   ]
  },
  {
   "cell_type": "markdown",
   "metadata": {
    "slideshow": {
     "slide_type": "slide"
    }
   },
   "source": [
    "## CLT vs Boostrapping\n",
    "\n",
    "- The CLT and Boostrapping are two ways of approximating a sampling distribution.\n",
    "    - How different could our estimate have been?\n",
    "- However, the CLT is **only** useful when talking about the sample mean (or sample sum).\n",
    "- The boostrap is more generally useful. Example: the sample median."
   ]
  },
  {
   "cell_type": "markdown",
   "metadata": {
    "slideshow": {
     "slide_type": "slide"
    }
   },
   "source": [
    "## When to use the CLT vs the Boostrap\n",
    "\n",
    "- If we're talking about the sample mean, use the CLT.\n",
    "- *Could* use the boostrap, but it's less accurate/slower.\n",
    "- If we're talking about another statistic (e.g., median), use the bootstrap."
   ]
  },
  {
   "cell_type": "markdown",
   "metadata": {
    "slideshow": {
     "slide_type": "slide"
    }
   },
   "source": [
    "# Concept 6: Confidence Intervals"
   ]
  },
  {
   "cell_type": "markdown",
   "metadata": {
    "slideshow": {
     "slide_type": "slide"
    }
   },
   "source": [
    "## Confidence Intervals\n",
    "\n",
    "- How different could our estimate have been?\n",
    "- Instead of giving a single estimate, give an interval and a \"confidence level\".\n",
    "- E.g., \"I'm 95% sure that the population mean flight delay is between 14 and 17\"."
   ]
  },
  {
   "cell_type": "markdown",
   "metadata": {
    "slideshow": {
     "slide_type": "slide"
    }
   },
   "source": [
    "## CIs and the Sampling Distribution"
   ]
  },
  {
   "cell_type": "markdown",
   "metadata": {},
   "source": [
    "- If we have a sampling distribution, we can construct a CI (no matter how we got the sampling distribution)."
   ]
  },
  {
   "cell_type": "code",
   "execution_count": 22,
   "metadata": {},
   "outputs": [
    {
     "data": {
      "text/plain": [
       "(array([0.00048429, 0.00121073, 0.02590956, 0.13778074, 0.33319208,\n",
       "        0.37726255, 0.24069254, 0.0789394 , 0.01380229, 0.00145287]),\n",
       " array([12.4975 , 13.32345, 14.1494 , 14.97535, 15.8013 , 16.62725,\n",
       "        17.4532 , 18.27915, 19.1051 , 19.93105, 20.757  ]),\n",
       " <a list of 10 Patch objects>)"
      ]
     },
     "execution_count": 22,
     "metadata": {},
     "output_type": "execute_result"
    },
    {
     "data": {
      "image/png": "[encoded data removed]",
      "text/plain": [
       "<Figure size 432x288 with 1 Axes>"
      ]
     },
     "metadata": {},
     "output_type": "display_data"
    }
   ],
   "source": [
    "plt.hist(sample_means, density=True)\n",
    "plt.plot(x_clt, y_clt)\n",
    "plt.hist(bootstrap_sample_means, density=True, alpha=0.85)"
   ]
  },
  {
   "cell_type": "markdown",
   "metadata": {
    "slideshow": {
     "slide_type": "slide"
    }
   },
   "source": [
    "## Constructing CIs"
   ]
  },
  {
   "cell_type": "markdown",
   "metadata": {},
   "source": [
    "- An $x$% CI contains the middle $x$% of the sampling distribution.\n",
    "- Two ways:\n",
    "    1. If we have a bunch of sample statistics (like from the boostrap), we can use `np.percentile`.\n",
    "    2. If we're using the CLT, we can use the rule of thumb: 95% of normal curve is within 2 SDs of mean."
   ]
  },
  {
   "cell_type": "markdown",
   "metadata": {
    "slideshow": {
     "slide_type": "slide"
    }
   },
   "source": [
    "## Example: From the Actual Sampling Distribution"
   ]
  },
  {
   "cell_type": "code",
   "execution_count": 23,
   "metadata": {},
   "outputs": [
    {
     "data": {
      "text/plain": [
       "[15.1284375, 18.3052125]"
      ]
     },
     "execution_count": 23,
     "metadata": {},
     "output_type": "execute_result"
    }
   ],
   "source": [
    "[left_sms, right_sms] = np.percentile(sample_means, 2.5), np.percentile(sample_means, 97.5)\n",
    "[left_sms, right_sms]"
   ]
  },
  {
   "cell_type": "code",
   "execution_count": 24,
   "metadata": {},
   "outputs": [
    {
     "data": {
      "text/plain": [
       "[<matplotlib.lines.Line2D at 0x7fc27d4307c0>]"
      ]
     },
     "execution_count": 24,
     "metadata": {},
     "output_type": "execute_result"
    },
    {
     "data": {
      "image/png": "[encoded data removed]",
      "text/plain": [
       "<Figure size 432x288 with 1 Axes>"
      ]
     },
     "metadata": {},
     "output_type": "display_data"
    }
   ],
   "source": [
    "plt.hist(sample_means)\n",
    "plt.plot([left_sms, right_sms], [0,0], color='lime', linewidth=10, zorder=10)"
   ]
  },
  {
   "cell_type": "markdown",
   "metadata": {
    "slideshow": {
     "slide_type": "slide"
    }
   },
   "source": [
    "## Example: From the Boostrap Sampling Distribution"
   ]
  },
  {
   "cell_type": "code",
   "execution_count": 25,
   "metadata": {},
   "outputs": [
    {
     "data": {
      "text/plain": [
       "[15.0059875, 18.787637500000002]"
      ]
     },
     "execution_count": 25,
     "metadata": {},
     "output_type": "execute_result"
    }
   ],
   "source": [
    "[left_boot, right_boot] = np.percentile(bootstrap_sample_means, 2.5), np.percentile(bootstrap_sample_means, 97.5)\n",
    "[left_boot, right_boot]"
   ]
  },
  {
   "cell_type": "code",
   "execution_count": 26,
   "metadata": {},
   "outputs": [
    {
     "data": {
      "text/plain": [
       "[<matplotlib.lines.Line2D at 0x7fc27d4a6a90>]"
      ]
     },
     "execution_count": 26,
     "metadata": {},
     "output_type": "execute_result"
    },
    {
     "data": {
      "image/png": "[encoded data removed]",
      "text/plain": [
       "<Figure size 432x288 with 1 Axes>"
      ]
     },
     "metadata": {},
     "output_type": "display_data"
    }
   ],
   "source": [
    "plt.hist(bootstrap_sample_means, color='C2')\n",
    "plt.plot([left_boot, right_boot], [0,0], color='lime', linewidth=10, zorder=10)"
   ]
  },
  {
   "cell_type": "markdown",
   "metadata": {
    "slideshow": {
     "slide_type": "slide"
    }
   },
   "source": [
    "## Example: From the CLT"
   ]
  },
  {
   "cell_type": "code",
   "execution_count": 27,
   "metadata": {},
   "outputs": [],
   "source": [
    "import scipy.stats"
   ]
  },
  {
   "cell_type": "code",
   "execution_count": 31,
   "metadata": {},
   "outputs": [],
   "source": [
    "[left_clt, right_clt] = [\n",
    "    original_sample.get('Delay').mean() - 2 * np.std(original_sample.get('Delay')) / np.sqrt(2000),\n",
    "    original_sample.get('Delay').mean() + 2 * np.std(original_sample.get('Delay')) / np.sqrt(2000),\n",
    "]"
   ]
  },
  {
   "cell_type": "code",
   "execution_count": 35,
   "metadata": {},
   "outputs": [
    {
     "data": {
      "text/plain": [
       "[<matplotlib.lines.Line2D at 0x7fc2706478b0>]"
      ]
     },
     "execution_count": 35,
     "metadata": {},
     "output_type": "execute_result"
    },
    {
     "data": {
      "image/png": "[encoded data removed]",
      "text/plain": [
       "<Figure size 432x288 with 1 Axes>"
      ]
     },
     "metadata": {},
     "output_type": "display_data"
    }
   ],
   "source": [
    "plt.plot(x_clt, y_clt, color='C1')\n",
    "plt.plot([left_clt, right_clt], [0,0], color='lime', linewidth=10, zorder=10)"
   ]
  },
  {
   "cell_type": "markdown",
   "metadata": {
    "slideshow": {
     "slide_type": "slide"
    }
   },
   "source": [
    "## Comparison"
   ]
  },
  {
   "cell_type": "code",
   "execution_count": 45,
   "metadata": {},
   "outputs": [
    {
     "data": {
      "text/plain": [
       "<matplotlib.collections.PathCollection at 0x7fc26fe620d0>"
      ]
     },
     "execution_count": 45,
     "metadata": {},
     "output_type": "execute_result"
    },
    {
     "data": {
      "image/png": "[encoded data removed]",
      "text/plain": [
       "<Figure size 432x288 with 1 Axes>"
      ]
     },
     "metadata": {},
     "output_type": "display_data"
    }
   ],
   "source": [
    "plt.plot([left_clt, right_clt], [.2, .2], color='C1', linewidth=10, zorder=10)\n",
    "plt.plot([left_boot, right_boot], [.1,.1], color='C2', linewidth=10, zorder=10)\n",
    "plt.plot([left_sms, right_sms], [0,0], color='C0', linewidth=10, zorder=10)\n",
    "plt.scatter(population.get('Delay').mean(), -.1, color='black', s=200)"
   ]
  },
  {
   "cell_type": "markdown",
   "metadata": {
    "slideshow": {
     "slide_type": "slide"
    }
   },
   "source": [
    "# Accuracy\n",
    "\n",
    "- The Boostrap and CLT are *approximations*.\n",
    "- As the sample size increases, they get better."
   ]
  },
  {
   "cell_type": "markdown",
   "metadata": {
    "slideshow": {
     "slide_type": "slide"
    }
   },
   "source": [
    "# Concept 7: Hypothesis Testing"
   ]
  },
  {
   "cell_type": "markdown",
   "metadata": {
    "slideshow": {
     "slide_type": "slide"
    }
   },
   "source": [
    "## Assessing Models\n",
    "\n",
    "- We have a *model* of reality (a set of assumptions)\n",
    "    - Example: jury panels are selected at random from eligible population\n",
    "- Is the model plausible or unlikely?\n",
    "- We can use probability and simulation to assess its likelihood."
   ]
  },
  {
   "cell_type": "markdown",
   "metadata": {
    "slideshow": {
     "slide_type": "slide"
    }
   },
   "source": [
    "## Null and Alternative Hypotheses\n",
    "\n",
    "- The *null* hypothesis is the \"default\", \"boring\" model of reality.\n",
    "- The *alternative* hypothesis is the interesting one.\n",
    "- The null hypothesis is (usually) precise and specific enough that it allows us to simulate."
   ]
  },
  {
   "cell_type": "markdown",
   "metadata": {
    "slideshow": {
     "slide_type": "slide"
    }
   },
   "source": [
    "## Example\n",
    "\n",
    "I think a coin is unfair. To test it, I make the following hypotheses:\n",
    "\n",
    "- Null: the coin is fair\n",
    "- Alternative: the coin is not fair"
   ]
  },
  {
   "cell_type": "markdown",
   "metadata": {
    "slideshow": {
     "slide_type": "slide"
    }
   },
   "source": [
    "## Example\n",
    "\n",
    "I think a coin is *biased towards heads*. I make the following hypotheses:\n",
    "    \n",
    "- Null: the coin is fair\n",
    "- Alternative: the coin is unfair and biased towards heads"
   ]
  },
  {
   "cell_type": "markdown",
   "metadata": {
    "slideshow": {
     "slide_type": "slide"
    }
   },
   "source": [
    "## Workflow\n",
    "\n",
    "- Is the null hypothesis false?\n",
    "- Flip the coin a bunch, count *observed* numbers of heads.\n",
    "- Is what we observed consistent with the null model, or very unlikely?\n",
    "- We need probability of seeing observed under the null hypothesis."
   ]
  },
  {
   "cell_type": "markdown",
   "metadata": {
    "slideshow": {
     "slide_type": "slide"
    }
   },
   "source": [
    "## Test Statistics\n",
    "\n",
    "- We must have a way of measuring how far we are from what is expected under the null.\n",
    "- We need to choose a *test statistic*.\n",
    "- The larger the test statistic, the more extreme.\n",
    "- Choice depends on the *alternative* hypothesis."
   ]
  },
  {
   "cell_type": "markdown",
   "metadata": {
    "slideshow": {
     "slide_type": "slide"
    }
   },
   "source": [
    "## Example\n",
    "\n",
    "- Alternative: the coin is not fair\n",
    "- Possible test statistics:\n",
    "    - the absolute difference between proportion of heads and 50%\n",
    "    - the absolute difference between number of heads and 50\n",
    "    - the TVD between sample distribution of heads/tails and the uniform distribution\n",
    "    - ..."
   ]
  },
  {
   "cell_type": "markdown",
   "metadata": {
    "slideshow": {
     "slide_type": "slide"
    }
   },
   "source": [
    "## Example\n",
    "\n",
    "- Alternative: the coin is not fair, and *biased towards heads*.\n",
    "- The statistic should be larger the more extreme the outcome.\n",
    "- Possible test statistics:\n",
    "    - the number of heads\n",
    "    - the signed difference between the number of heads and 50\n",
    "    - the signed difference between the proportion of heads and 50%"
   ]
  },
  {
   "cell_type": "markdown",
   "metadata": {
    "slideshow": {
     "slide_type": "slide"
    }
   },
   "source": [
    "## Example\n",
    "\n",
    "- You flip a coin 100 times and see 57 heads.\n",
    "- Test alternative hypothesis: coin is biased towards heads.\n",
    "- I.e., what is the probability of seeing 57 heads if coin is indeed fair?\n",
    "- This is the *p-value*."
   ]
  },
  {
   "cell_type": "code",
   "execution_count": 61,
   "metadata": {
    "slideshow": {
     "slide_type": "slide"
    }
   },
   "outputs": [],
   "source": [
    "counts = np.array([])\n",
    "for i in np.arange(1000):\n",
    "    # flip fair coin 100 times\n",
    "    flips = np.random.choice(['H', 'T'], 100)\n",
    "    \n",
    "    count = np.count_nonzero(flips == 'H')\n",
    "    counts = np.append(counts, count)"
   ]
  },
  {
   "cell_type": "code",
   "execution_count": 62,
   "metadata": {},
   "outputs": [
    {
     "data": {
      "text/plain": [
       "array([52., 49., 54., 49., 50., 53., 56., 57., 48., 43., 58., 51., 50.,\n",
       "       58., 52., 53., 52., 49., 46., 49., 61., 42., 63., 56., 40., 46.,\n",
       "       47., 52., 52., 56., 51., 48., 44., 57., 47., 48., 51., 44., 52.,\n",
       "       52., 50., 50., 41., 49., 48., 41., 50., 55., 52., 57., 55., 55.,\n",
       "       47., 55., 50., 57., 40., 47., 52., 43., 50., 48., 56., 45., 48.,\n",
       "       55., 51., 54., 45., 54., 54., 36., 44., 41., 60., 41., 48., 47.,\n",
       "       57., 52., 54., 55., 41., 47., 57., 54., 55., 54., 45., 56., 53.,\n",
       "       54., 53., 51., 43., 51., 54., 47., 53., 49., 43., 59., 51., 53.,\n",
       "       44., 50., 54., 41., 43., 49., 44., 53., 50., 52., 47., 43., 51.,\n",
       "       55., 55., 60., 44., 49., 54., 46., 54., 48., 46., 47., 50., 49.,\n",
       "       51., 49., 46., 47., 45., 41., 50., 45., 46., 54., 46., 48., 50.,\n",
       "       54., 45., 43., 57., 47., 51., 50., 50., 52., 47., 54., 54., 53.,\n",
       "       52., 52., 42., 50., 49., 56., 58., 54., 54., 48., 56., 49., 52.,\n",
       "       48., 60., 43., 43., 48., 45., 48., 51., 54., 48., 47., 52., 46.,\n",
       "       56., 53., 52., 51., 47., 55., 48., 46., 49., 56., 41., 48., 43.,\n",
       "       49., 45., 55., 46., 50., 59., 50., 49., 52., 46., 55., 53., 55.,\n",
       "       46., 43., 49., 46., 47., 46., 54., 46., 53., 52., 55., 49., 67.,\n",
       "       55., 46., 53., 57., 48., 44., 59., 51., 51., 40., 47., 48., 57.,\n",
       "       58., 44., 45., 38., 53., 58., 48., 44., 50., 52., 58., 46., 50.,\n",
       "       51., 51., 45., 48., 49., 58., 56., 51., 45., 58., 58., 49., 50.,\n",
       "       53., 48., 48., 52., 45., 58., 55., 42., 52., 42., 53., 59., 58.,\n",
       "       53., 41., 49., 57., 45., 49., 47., 55., 51., 54., 52., 55., 53.,\n",
       "       48., 51., 60., 52., 52., 46., 46., 45., 49., 44., 43., 46., 41.,\n",
       "       42., 58., 53., 51., 56., 53., 52., 55., 47., 41., 55., 44., 52.,\n",
       "       58., 57., 59., 42., 53., 59., 42., 46., 50., 40., 56., 57., 61.,\n",
       "       53., 53., 47., 47., 46., 43., 54., 50., 52., 49., 45., 51., 48.,\n",
       "       51., 45., 51., 55., 51., 51., 55., 42., 48., 59., 46., 43., 53.,\n",
       "       54., 52., 49., 46., 53., 56., 53., 48., 57., 49., 54., 44., 42.,\n",
       "       60., 63., 48., 47., 54., 58., 47., 51., 49., 52., 51., 46., 52.,\n",
       "       56., 44., 41., 55., 44., 52., 49., 49., 44., 56., 44., 46., 41.,\n",
       "       51., 57., 44., 48., 39., 56., 47., 56., 53., 43., 47., 54., 55.,\n",
       "       59., 41., 44., 46., 57., 42., 48., 51., 50., 46., 57., 47., 55.,\n",
       "       51., 50., 53., 47., 46., 60., 44., 43., 59., 46., 44., 49., 53.,\n",
       "       50., 52., 54., 53., 51., 52., 42., 52., 55., 50., 51., 50., 45.,\n",
       "       57., 52., 56., 43., 54., 48., 52., 48., 55., 55., 45., 66., 50.,\n",
       "       46., 54., 54., 59., 55., 49., 50., 43., 55., 50., 42., 52., 58.,\n",
       "       52., 46., 50., 54., 45., 42., 49., 53., 55., 46., 44., 59., 48.,\n",
       "       48., 53., 45., 54., 51., 57., 48., 57., 46., 47., 49., 47., 64.,\n",
       "       51., 59., 55., 45., 54., 47., 58., 45., 46., 48., 44., 52., 50.,\n",
       "       47., 50., 45., 54., 48., 51., 44., 48., 51., 52., 62., 42., 49.,\n",
       "       54., 47., 48., 42., 51., 58., 47., 50., 46., 45., 44., 58., 48.,\n",
       "       47., 55., 47., 48., 53., 48., 52., 40., 50., 44., 52., 49., 47.,\n",
       "       46., 48., 43., 51., 52., 52., 53., 44., 60., 55., 49., 46., 51.,\n",
       "       59., 52., 52., 44., 45., 48., 41., 58., 45., 52., 54., 45., 42.,\n",
       "       47., 52., 49., 57., 52., 60., 55., 42., 49., 60., 53., 53., 50.,\n",
       "       39., 58., 44., 57., 48., 47., 50., 58., 45., 44., 54., 46., 53.,\n",
       "       47., 44., 60., 54., 51., 45., 54., 58., 52., 45., 52., 55., 50.,\n",
       "       47., 47., 51., 47., 42., 48., 45., 43., 60., 48., 43., 61., 57.,\n",
       "       46., 54., 54., 52., 57., 54., 58., 50., 45., 46., 42., 48., 53.,\n",
       "       55., 52., 53., 45., 52., 50., 52., 44., 44., 50., 47., 43., 50.,\n",
       "       54., 50., 54., 47., 58., 45., 53., 50., 54., 49., 49., 45., 50.,\n",
       "       53., 48., 62., 41., 49., 50., 51., 46., 52., 49., 49., 46., 51.,\n",
       "       52., 45., 49., 46., 50., 44., 56., 57., 47., 48., 54., 49., 44.,\n",
       "       48., 51., 53., 44., 59., 53., 45., 45., 56., 49., 57., 50., 41.,\n",
       "       53., 38., 51., 45., 61., 47., 56., 48., 58., 56., 45., 46., 49.,\n",
       "       49., 55., 55., 55., 55., 47., 52., 51., 44., 58., 49., 52., 46.,\n",
       "       55., 51., 49., 52., 50., 51., 55., 55., 48., 49., 40., 47., 57.,\n",
       "       51., 57., 45., 44., 42., 52., 48., 47., 54., 51., 50., 50., 55.,\n",
       "       47., 45., 53., 50., 45., 43., 47., 44., 40., 52., 51., 47., 49.,\n",
       "       47., 47., 47., 42., 53., 59., 56., 49., 47., 51., 48., 43., 55.,\n",
       "       46., 53., 40., 52., 51., 52., 47., 57., 51., 52., 52., 53., 43.,\n",
       "       51., 39., 49., 54., 47., 44., 55., 45., 54., 42., 48., 50., 46.,\n",
       "       54., 54., 47., 58., 51., 54., 54., 46., 52., 45., 44., 54., 60.,\n",
       "       56., 57., 51., 50., 51., 39., 61., 48., 47., 52., 50., 53., 46.,\n",
       "       60., 47., 46., 47., 56., 51., 47., 55., 57., 50., 54., 47., 40.,\n",
       "       50., 40., 54., 53., 48., 52., 54., 48., 40., 49., 55., 51., 56.,\n",
       "       40., 44., 49., 51., 40., 46., 53., 57., 47., 54., 48., 49., 57.,\n",
       "       46., 49., 54., 50., 45., 41., 46., 49., 54., 46., 49., 62., 51.,\n",
       "       50., 59., 50., 53., 53., 55., 55., 59., 60., 54., 55., 48., 43.,\n",
       "       49., 51., 40., 52., 54., 51., 54., 53., 51., 55., 46., 48., 50.,\n",
       "       57., 48., 46., 51., 51., 43., 51., 46., 54., 54., 41., 58., 58.,\n",
       "       44., 50., 54., 42., 54., 59., 49., 57., 47., 42., 40., 47., 47.,\n",
       "       40., 50., 47., 55., 47., 49., 49., 49., 47., 52., 41., 49., 56.,\n",
       "       54., 56., 64., 47., 52., 50., 48., 50., 49., 53., 46., 48., 49.,\n",
       "       55., 46., 45., 56., 44., 54., 44., 50., 56., 47., 54., 49., 52.,\n",
       "       44., 48., 47., 49., 48., 49., 52., 40., 57., 49., 49., 46., 44.,\n",
       "       47., 42., 51., 52., 42., 47., 59., 50., 43., 50., 58., 56.])"
      ]
     },
     "execution_count": 62,
     "metadata": {},
     "output_type": "execute_result"
    }
   ],
   "source": [
    "counts"
   ]
  },
  {
   "cell_type": "code",
   "execution_count": 63,
   "metadata": {},
   "outputs": [
    {
     "data": {
      "text/plain": [
       "0.112"
      ]
     },
     "execution_count": 63,
     "metadata": {},
     "output_type": "execute_result"
    }
   ],
   "source": [
    "np.count_nonzero(counts >= 57) / 1000"
   ]
  },
  {
   "cell_type": "markdown",
   "metadata": {
    "slideshow": {
     "slide_type": "slide"
    }
   },
   "source": [
    "## Rejecting and Failing to Reject"
   ]
  },
  {
   "cell_type": "markdown",
   "metadata": {},
   "source": [
    "- The p-value tells us the probability of seeing the observed outcome if the null is true.\n",
    "- If we had set a \"confidence threshold\" before the experiment, we can reject at that confidence level.\n",
    "- E.g., if we had set a 5% threshold (95% confidence) we would fail to reject.\n",
    "- Still, a p-value of $\\approx$ 10% means that we were getting close to rejecting."
   ]
  },
  {
   "cell_type": "markdown",
   "metadata": {
    "slideshow": {
     "slide_type": "slide"
    }
   },
   "source": [
    "## Accepting a null hypothesis?\n",
    "\n",
    "- We never \"accept\" a null hypothesis, we only \"fail to reject\". Why?\n",
    "- If we see 50 heads and 50 tails, this isn't evidence that the coin is fair; only that it is close to fair.\n",
    "- It would be wrong to say that we are \"95% sure that the coin is fair\"."
   ]
  },
  {
   "cell_type": "markdown",
   "metadata": {
    "slideshow": {
     "slide_type": "slide"
    }
   },
   "source": [
    "# Concept 8: A/B Testing"
   ]
  },
  {
   "cell_type": "markdown",
   "metadata": {
    "slideshow": {
     "slide_type": "slide"
    }
   },
   "source": [
    "## A/B Testing\n",
    "\n",
    "- A type of hypothesis test.\n",
    "- We have two groups. Do they come from the same distribution?\n",
    "- Example: baby weights for mothers who smoked / didn't smoke."
   ]
  },
  {
   "cell_type": "markdown",
   "metadata": {
    "slideshow": {
     "slide_type": "slide"
    }
   },
   "source": [
    "## Idea\n",
    "\n",
    "- The null hypothesis: they come from the same distribution.\n",
    "- We can't directly simulate using the null.\n",
    "- Permuting group labels is like sampling more data."
   ]
  },
  {
   "cell_type": "markdown",
   "metadata": {
    "slideshow": {
     "slide_type": "slide"
    }
   },
   "source": [
    "## Permutation Tests\n",
    "\n",
    "- Given a table, one column with group labels, another with quantity of interest.\n",
    "- Repeatedly:\n",
    "    - Shuffle the group labels.\n",
    "    - Compute a test statistic measuring difference between groups.\n",
    "- Plot the distribution of differences, use to calculate p-value."
   ]
  }
 ],
 "metadata": {
  "celltoolbar": "Slideshow",
  "kernelspec": {
   "display_name": "Python 3",
   "language": "python",
   "name": "python3"
  },
  "language_info": {
   "codemirror_mode": {
    "name": "ipython",
    "version": 3
   },
   "file_extension": ".py",
   "mimetype": "text/x-python",
   "name": "python",
   "nbconvert_exporter": "python",
   "pygments_lexer": "ipython3",
   "version": "3.8.3"
  }
 },
 "nbformat": 4,
 "nbformat_minor": 4
}
