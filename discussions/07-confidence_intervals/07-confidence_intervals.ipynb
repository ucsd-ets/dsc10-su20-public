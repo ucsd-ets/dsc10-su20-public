{
 "cells": [
  {
   "cell_type": "markdown",
   "metadata": {},
   "source": [
    "# Catchy title for discussion09\n",
    "---\n",
    "\n",
    "Tonight, we'll be collecting data from accross the world and calculating confidence intervals—fun!"
   ]
  },
  {
   "cell_type": "code",
   "execution_count": 2,
   "metadata": {},
   "outputs": [],
   "source": [
    "from datascience import *\n",
    "import numpy as np\n",
    "import matplotlib.pyplot as plt\n",
    "%matplotlib inline\n",
    "plt.style.use(\"fivethirtyeight\")"
   ]
  },
  {
   "cell_type": "code",
   "execution_count": 3,
   "metadata": {},
   "outputs": [],
   "source": [
    "full_data = Table.read_table(\"Life Expectancy Data.csv\")"
   ]
  },
  {
   "cell_type": "code",
   "execution_count": 4,
   "metadata": {},
   "outputs": [
    {
     "data": {
      "text/html": [
       "<table border=\"1\" class=\"dataframe\">\n",
       "    <thead>\n",
       "        <tr>\n",
       "            <th>Country</th> <th>Year</th> <th>Status</th> <th>Life expectancy </th> <th>Adult Mortality</th> <th>infant deaths</th> <th>Alcohol</th> <th>percentage expenditure</th> <th>Hepatitis B</th> <th>Measles </th> <th> BMI </th> <th>under-five deaths </th> <th>Polio</th> <th>Total expenditure</th> <th>Diphtheria </th> <th> HIV/AIDS</th> <th>GDP</th> <th>Population</th> <th> thinness  1-19 years</th> <th> thinness 5-9 years</th> <th>Income composition of resources</th> <th>Schooling</th>\n",
       "        </tr>\n",
       "    </thead>\n",
       "    <tbody>\n",
       "        <tr>\n",
       "            <td>Afghanistan</td> <td>2015</td> <td>Developing</td> <td>65              </td> <td>263            </td> <td>62           </td> <td>0.01   </td> <td>71.2796               </td> <td>65         </td> <td>1154    </td> <td>19.1 </td> <td>83                </td> <td>6    </td> <td>8.16             </td> <td>65         </td> <td>0.1      </td> <td>584.259</td> <td>3.37365e+07</td> <td>17.2                 </td> <td>17.3               </td> <td>0.479                          </td> <td>10.1     </td>\n",
       "        </tr>\n",
       "        <tr>\n",
       "            <td>Afghanistan</td> <td>2014</td> <td>Developing</td> <td>59.9            </td> <td>271            </td> <td>64           </td> <td>0.01   </td> <td>73.5236               </td> <td>62         </td> <td>492     </td> <td>18.6 </td> <td>86                </td> <td>58   </td> <td>8.18             </td> <td>62         </td> <td>0.1      </td> <td>612.697</td> <td>327582     </td> <td>17.5                 </td> <td>17.5               </td> <td>0.476                          </td> <td>10       </td>\n",
       "        </tr>\n",
       "        <tr>\n",
       "            <td>Afghanistan</td> <td>2013</td> <td>Developing</td> <td>59.9            </td> <td>268            </td> <td>66           </td> <td>0.01   </td> <td>73.2192               </td> <td>64         </td> <td>430     </td> <td>18.1 </td> <td>89                </td> <td>62   </td> <td>8.13             </td> <td>64         </td> <td>0.1      </td> <td>631.745</td> <td>3.17317e+07</td> <td>17.7                 </td> <td>17.7               </td> <td>0.47                           </td> <td>9.9      </td>\n",
       "        </tr>\n",
       "        <tr>\n",
       "            <td>Afghanistan</td> <td>2012</td> <td>Developing</td> <td>59.5            </td> <td>272            </td> <td>69           </td> <td>0.01   </td> <td>78.1842               </td> <td>67         </td> <td>2787    </td> <td>17.6 </td> <td>93                </td> <td>67   </td> <td>8.52             </td> <td>67         </td> <td>0.1      </td> <td>669.959</td> <td>3.69696e+06</td> <td>17.9                 </td> <td>18                 </td> <td>0.463                          </td> <td>9.8      </td>\n",
       "        </tr>\n",
       "        <tr>\n",
       "            <td>Afghanistan</td> <td>2011</td> <td>Developing</td> <td>59.2            </td> <td>275            </td> <td>71           </td> <td>0.01   </td> <td>7.09711               </td> <td>68         </td> <td>3013    </td> <td>17.2 </td> <td>97                </td> <td>68   </td> <td>7.87             </td> <td>68         </td> <td>0.1      </td> <td>63.5372</td> <td>2.9786e+06 </td> <td>18.2                 </td> <td>18.2               </td> <td>0.454                          </td> <td>9.5      </td>\n",
       "        </tr>\n",
       "        <tr>\n",
       "            <td>Afghanistan</td> <td>2010</td> <td>Developing</td> <td>58.8            </td> <td>279            </td> <td>74           </td> <td>0.01   </td> <td>79.6794               </td> <td>66         </td> <td>1989    </td> <td>16.7 </td> <td>102               </td> <td>66   </td> <td>9.2              </td> <td>66         </td> <td>0.1      </td> <td>553.329</td> <td>2.88317e+06</td> <td>18.4                 </td> <td>18.4               </td> <td>0.448                          </td> <td>9.2      </td>\n",
       "        </tr>\n",
       "        <tr>\n",
       "            <td>Afghanistan</td> <td>2009</td> <td>Developing</td> <td>58.6            </td> <td>281            </td> <td>77           </td> <td>0.01   </td> <td>56.7622               </td> <td>63         </td> <td>2861    </td> <td>16.2 </td> <td>106               </td> <td>63   </td> <td>9.42             </td> <td>63         </td> <td>0.1      </td> <td>445.893</td> <td>284331     </td> <td>18.6                 </td> <td>18.7               </td> <td>0.434                          </td> <td>8.9      </td>\n",
       "        </tr>\n",
       "        <tr>\n",
       "            <td>Afghanistan</td> <td>2008</td> <td>Developing</td> <td>58.1            </td> <td>287            </td> <td>80           </td> <td>0.03   </td> <td>25.8739               </td> <td>64         </td> <td>1599    </td> <td>15.7 </td> <td>110               </td> <td>64   </td> <td>8.33             </td> <td>64         </td> <td>0.1      </td> <td>373.361</td> <td>2.72943e+06</td> <td>18.8                 </td> <td>18.9               </td> <td>0.433                          </td> <td>8.7      </td>\n",
       "        </tr>\n",
       "        <tr>\n",
       "            <td>Afghanistan</td> <td>2007</td> <td>Developing</td> <td>57.5            </td> <td>295            </td> <td>82           </td> <td>0.02   </td> <td>10.9102               </td> <td>63         </td> <td>1141    </td> <td>15.2 </td> <td>113               </td> <td>63   </td> <td>6.73             </td> <td>63         </td> <td>0.1      </td> <td>369.836</td> <td>2.66168e+07</td> <td>19                   </td> <td>19.1               </td> <td>0.415                          </td> <td>8.4      </td>\n",
       "        </tr>\n",
       "        <tr>\n",
       "            <td>Afghanistan</td> <td>2006</td> <td>Developing</td> <td>57.3            </td> <td>295            </td> <td>84           </td> <td>0.03   </td> <td>17.1715               </td> <td>64         </td> <td>1990    </td> <td>14.7 </td> <td>116               </td> <td>58   </td> <td>7.43             </td> <td>58         </td> <td>0.1      </td> <td>272.564</td> <td>2.58934e+06</td> <td>19.2                 </td> <td>19.3               </td> <td>0.405                          </td> <td>8.1      </td>\n",
       "        </tr>\n",
       "    </tbody>\n",
       "</table>\n",
       "<p>... (2928 rows omitted)</p>"
      ],
      "text/plain": [
       "Country     | Year | Status     | Life expectancy  | Adult Mortality | infant deaths | Alcohol | percentage expenditure | Hepatitis B | Measles  |  BMI  | under-five deaths  | Polio | Total expenditure | Diphtheria  |  HIV/AIDS | GDP     | Population  |  thinness  1-19 years |  thinness 5-9 years | Income composition of resources | Schooling\n",
       "Afghanistan | 2015 | Developing | 65               | 263             | 62            | 0.01    | 71.2796                | 65          | 1154     | 19.1  | 83                 | 6     | 8.16              | 65          | 0.1       | 584.259 | 3.37365e+07 | 17.2                  | 17.3                | 0.479                           | 10.1\n",
       "Afghanistan | 2014 | Developing | 59.9             | 271             | 64            | 0.01    | 73.5236                | 62          | 492      | 18.6  | 86                 | 58    | 8.18              | 62          | 0.1       | 612.697 | 327582      | 17.5                  | 17.5                | 0.476                           | 10\n",
       "Afghanistan | 2013 | Developing | 59.9             | 268             | 66            | 0.01    | 73.2192                | 64          | 430      | 18.1  | 89                 | 62    | 8.13              | 64          | 0.1       | 631.745 | 3.17317e+07 | 17.7                  | 17.7                | 0.47                            | 9.9\n",
       "Afghanistan | 2012 | Developing | 59.5             | 272             | 69            | 0.01    | 78.1842                | 67          | 2787     | 17.6  | 93                 | 67    | 8.52              | 67          | 0.1       | 669.959 | 3.69696e+06 | 17.9                  | 18                  | 0.463                           | 9.8\n",
       "Afghanistan | 2011 | Developing | 59.2             | 275             | 71            | 0.01    | 7.09711                | 68          | 3013     | 17.2  | 97                 | 68    | 7.87              | 68          | 0.1       | 63.5372 | 2.9786e+06  | 18.2                  | 18.2                | 0.454                           | 9.5\n",
       "Afghanistan | 2010 | Developing | 58.8             | 279             | 74            | 0.01    | 79.6794                | 66          | 1989     | 16.7  | 102                | 66    | 9.2               | 66          | 0.1       | 553.329 | 2.88317e+06 | 18.4                  | 18.4                | 0.448                           | 9.2\n",
       "Afghanistan | 2009 | Developing | 58.6             | 281             | 77            | 0.01    | 56.7622                | 63          | 2861     | 16.2  | 106                | 63    | 9.42              | 63          | 0.1       | 445.893 | 284331      | 18.6                  | 18.7                | 0.434                           | 8.9\n",
       "Afghanistan | 2008 | Developing | 58.1             | 287             | 80            | 0.03    | 25.8739                | 64          | 1599     | 15.7  | 110                | 64    | 8.33              | 64          | 0.1       | 373.361 | 2.72943e+06 | 18.8                  | 18.9                | 0.433                           | 8.7\n",
       "Afghanistan | 2007 | Developing | 57.5             | 295             | 82            | 0.02    | 10.9102                | 63          | 1141     | 15.2  | 113                | 63    | 6.73              | 63          | 0.1       | 369.836 | 2.66168e+07 | 19                    | 19.1                | 0.415                           | 8.4\n",
       "Afghanistan | 2006 | Developing | 57.3             | 295             | 84            | 0.03    | 17.1715                | 64          | 1990     | 14.7  | 116                | 58    | 7.43              | 58          | 0.1       | 272.564 | 2.58934e+06 | 19.2                  | 19.3                | 0.405                           | 8.1\n",
       "... (2928 rows omitted)"
      ]
     },
     "execution_count": 4,
     "metadata": {},
     "output_type": "execute_result"
    }
   ],
   "source": [
    "full_data"
   ]
  },
  {
   "cell_type": "markdown",
   "metadata": {},
   "source": [
    "This data comes from the World Health Organization.  We can learn more about the meanings of the columns by looking here: https://www.kaggle.com/kumarajarshi/life-expectancy-who\n",
    "\n",
    "Let's travel back in time to the year 2015 and collect some data!  For the duration of this discussion, we're going to consider the following data to be our *\"population\"*.\n",
    "\n",
    "Let's take a look at it."
   ]
  },
  {
   "cell_type": "code",
   "execution_count": 133,
   "metadata": {},
   "outputs": [],
   "source": [
    "recent_data = full_data.where(\"Year\", 2015)"
   ]
  },
  {
   "cell_type": "code",
   "execution_count": 134,
   "metadata": {},
   "outputs": [
    {
     "data": {
      "text/html": [
       "<table border=\"1\" class=\"dataframe\">\n",
       "    <thead>\n",
       "        <tr>\n",
       "            <th>Country</th> <th>Year</th> <th>Status</th> <th>Life expectancy </th> <th>Adult Mortality</th> <th>infant deaths</th> <th>Alcohol</th> <th>percentage expenditure</th> <th>Hepatitis B</th> <th>Measles </th> <th> BMI </th> <th>under-five deaths </th> <th>Polio</th> <th>Total expenditure</th> <th>Diphtheria </th> <th> HIV/AIDS</th> <th>GDP</th> <th>Population</th> <th> thinness  1-19 years</th> <th> thinness 5-9 years</th> <th>Income composition of resources</th> <th>Schooling</th>\n",
       "        </tr>\n",
       "    </thead>\n",
       "    <tbody>\n",
       "        <tr>\n",
       "            <td>Afghanistan        </td> <td>2015</td> <td>Developing</td> <td>65              </td> <td>263            </td> <td>62           </td> <td>0.01   </td> <td>71.2796               </td> <td>65         </td> <td>1154    </td> <td>19.1 </td> <td>83                </td> <td>6    </td> <td>8.16             </td> <td>65         </td> <td>0.1      </td> <td>584.259</td> <td>3.37365e+07</td> <td>17.2                 </td> <td>17.3               </td> <td>0.479                          </td> <td>10.1     </td>\n",
       "        </tr>\n",
       "        <tr>\n",
       "            <td>Albania            </td> <td>2015</td> <td>Developing</td> <td>77.8            </td> <td>74             </td> <td>0            </td> <td>4.6    </td> <td>364.975               </td> <td>99         </td> <td>0       </td> <td>58   </td> <td>0                 </td> <td>99   </td> <td>6                </td> <td>99         </td> <td>0.1      </td> <td>3954.23</td> <td>28873      </td> <td>1.2                  </td> <td>1.3                </td> <td>0.762                          </td> <td>14.2     </td>\n",
       "        </tr>\n",
       "        <tr>\n",
       "            <td>Algeria            </td> <td>2015</td> <td>Developing</td> <td>75.6            </td> <td>19             </td> <td>21           </td> <td>nan    </td> <td>0                     </td> <td>95         </td> <td>63      </td> <td>59.5 </td> <td>24                </td> <td>95   </td> <td>nan              </td> <td>95         </td> <td>0.1      </td> <td>4132.76</td> <td>3.98715e+07</td> <td>6                    </td> <td>5.8                </td> <td>0.743                          </td> <td>14.4     </td>\n",
       "        </tr>\n",
       "        <tr>\n",
       "            <td>Angola             </td> <td>2015</td> <td>Developing</td> <td>52.4            </td> <td>335            </td> <td>66           </td> <td>nan    </td> <td>0                     </td> <td>64         </td> <td>118     </td> <td>23.3 </td> <td>98                </td> <td>7    </td> <td>nan              </td> <td>64         </td> <td>1.9      </td> <td>3695.79</td> <td>2.78594e+06</td> <td>8.3                  </td> <td>8.2                </td> <td>0.531                          </td> <td>11.4     </td>\n",
       "        </tr>\n",
       "        <tr>\n",
       "            <td>Antigua and Barbuda</td> <td>2015</td> <td>Developing</td> <td>76.4            </td> <td>13             </td> <td>0            </td> <td>nan    </td> <td>0                     </td> <td>99         </td> <td>0       </td> <td>47.7 </td> <td>0                 </td> <td>86   </td> <td>nan              </td> <td>99         </td> <td>0.2      </td> <td>13567  </td> <td>nan        </td> <td>3.3                  </td> <td>3.3                </td> <td>0.784                          </td> <td>13.9     </td>\n",
       "        </tr>\n",
       "        <tr>\n",
       "            <td>Argentina          </td> <td>2015</td> <td>Developing</td> <td>76.3            </td> <td>116            </td> <td>8            </td> <td>nan    </td> <td>0                     </td> <td>94         </td> <td>0       </td> <td>62.8 </td> <td>9                 </td> <td>93   </td> <td>nan              </td> <td>94         </td> <td>0.1      </td> <td>13467.1</td> <td>4.34178e+07</td> <td>1                    </td> <td>0.9                </td> <td>0.826                          </td> <td>17.3     </td>\n",
       "        </tr>\n",
       "        <tr>\n",
       "            <td>Armenia            </td> <td>2015</td> <td>Developing</td> <td>74.8            </td> <td>118            </td> <td>1            </td> <td>nan    </td> <td>0                     </td> <td>94         </td> <td>33      </td> <td>54.9 </td> <td>1                 </td> <td>96   </td> <td>nan              </td> <td>94         </td> <td>0.1      </td> <td>369.655</td> <td>291695     </td> <td>2.1                  </td> <td>2.2                </td> <td>0.741                          </td> <td>12.7     </td>\n",
       "        </tr>\n",
       "        <tr>\n",
       "            <td>Australia          </td> <td>2015</td> <td>Developed </td> <td>82.8            </td> <td>59             </td> <td>1            </td> <td>nan    </td> <td>0                     </td> <td>93         </td> <td>74      </td> <td>66.6 </td> <td>1                 </td> <td>93   </td> <td>nan              </td> <td>93         </td> <td>0.1      </td> <td>56554.4</td> <td>2.37893e+07</td> <td>0.6                  </td> <td>0.6                </td> <td>0.937                          </td> <td>20.4     </td>\n",
       "        </tr>\n",
       "        <tr>\n",
       "            <td>Austria            </td> <td>2015</td> <td>Developed </td> <td>81.5            </td> <td>65             </td> <td>0            </td> <td>nan    </td> <td>0                     </td> <td>93         </td> <td>309     </td> <td>57.6 </td> <td>0                 </td> <td>93   </td> <td>nan              </td> <td>93         </td> <td>0.1      </td> <td>43665.9</td> <td>8.63317e+06</td> <td>1.9                  </td> <td>2.1                </td> <td>0.892                          </td> <td>15.9     </td>\n",
       "        </tr>\n",
       "        <tr>\n",
       "            <td>Azerbaijan         </td> <td>2015</td> <td>Developing</td> <td>72.7            </td> <td>118            </td> <td>5            </td> <td>nan    </td> <td>0                     </td> <td>96         </td> <td>0       </td> <td>52.5 </td> <td>6                 </td> <td>98   </td> <td>nan              </td> <td>96         </td> <td>0.1      </td> <td>55.3138</td> <td>9.64934e+06</td> <td>2.8                  </td> <td>2.9                </td> <td>0.758                          </td> <td>12.7     </td>\n",
       "        </tr>\n",
       "    </tbody>\n",
       "</table>\n",
       "<p>... (173 rows omitted)</p>"
      ],
      "text/plain": [
       "Country             | Year | Status     | Life expectancy  | Adult Mortality | infant deaths | Alcohol | percentage expenditure | Hepatitis B | Measles  |  BMI  | under-five deaths  | Polio | Total expenditure | Diphtheria  |  HIV/AIDS | GDP     | Population  |  thinness  1-19 years |  thinness 5-9 years | Income composition of resources | Schooling\n",
       "Afghanistan         | 2015 | Developing | 65               | 263             | 62            | 0.01    | 71.2796                | 65          | 1154     | 19.1  | 83                 | 6     | 8.16              | 65          | 0.1       | 584.259 | 3.37365e+07 | 17.2                  | 17.3                | 0.479                           | 10.1\n",
       "Albania             | 2015 | Developing | 77.8             | 74              | 0             | 4.6     | 364.975                | 99          | 0        | 58    | 0                  | 99    | 6                 | 99          | 0.1       | 3954.23 | 28873       | 1.2                   | 1.3                 | 0.762                           | 14.2\n",
       "Algeria             | 2015 | Developing | 75.6             | 19              | 21            | nan     | 0                      | 95          | 63       | 59.5  | 24                 | 95    | nan               | 95          | 0.1       | 4132.76 | 3.98715e+07 | 6                     | 5.8                 | 0.743                           | 14.4\n",
       "Angola              | 2015 | Developing | 52.4             | 335             | 66            | nan     | 0                      | 64          | 118      | 23.3  | 98                 | 7     | nan               | 64          | 1.9       | 3695.79 | 2.78594e+06 | 8.3                   | 8.2                 | 0.531                           | 11.4\n",
       "Antigua and Barbuda | 2015 | Developing | 76.4             | 13              | 0             | nan     | 0                      | 99          | 0        | 47.7  | 0                  | 86    | nan               | 99          | 0.2       | 13567   | nan         | 3.3                   | 3.3                 | 0.784                           | 13.9\n",
       "Argentina           | 2015 | Developing | 76.3             | 116             | 8             | nan     | 0                      | 94          | 0        | 62.8  | 9                  | 93    | nan               | 94          | 0.1       | 13467.1 | 4.34178e+07 | 1                     | 0.9                 | 0.826                           | 17.3\n",
       "Armenia             | 2015 | Developing | 74.8             | 118             | 1             | nan     | 0                      | 94          | 33       | 54.9  | 1                  | 96    | nan               | 94          | 0.1       | 369.655 | 291695      | 2.1                   | 2.2                 | 0.741                           | 12.7\n",
       "Australia           | 2015 | Developed  | 82.8             | 59              | 1             | nan     | 0                      | 93          | 74       | 66.6  | 1                  | 93    | nan               | 93          | 0.1       | 56554.4 | 2.37893e+07 | 0.6                   | 0.6                 | 0.937                           | 20.4\n",
       "Austria             | 2015 | Developed  | 81.5             | 65              | 0             | nan     | 0                      | 93          | 309      | 57.6  | 0                  | 93    | nan               | 93          | 0.1       | 43665.9 | 8.63317e+06 | 1.9                   | 2.1                 | 0.892                           | 15.9\n",
       "Azerbaijan          | 2015 | Developing | 72.7             | 118             | 5             | nan     | 0                      | 96          | 0        | 52.5  | 6                  | 98    | nan               | 96          | 0.1       | 55.3138 | 9.64934e+06 | 2.8                   | 2.9                 | 0.758                           | 12.7\n",
       "... (173 rows omitted)"
      ]
     },
     "execution_count": 134,
     "metadata": {},
     "output_type": "execute_result"
    }
   ],
   "source": [
    "recent_data"
   ]
  },
  {
   "cell_type": "code",
   "execution_count": 136,
   "metadata": {},
   "outputs": [],
   "source": [
    "# Let's visualize our population distribution.\n",
    "\n",
    "# Defining a function to create bins easily\n",
    "def get_bins(array, bin_size=1):\n",
    "    return np.arange(\n",
    "        int(min(array)), int(max(array)) + 1 + bin_size, bin_size\n",
    "    )"
   ]
  },
  {
   "cell_type": "code",
   "execution_count": 137,
   "metadata": {},
   "outputs": [
    {
     "data": {
      "image/png": "[encoded data removed]",
      "text/plain": [
       "<Figure size 432x288 with 1 Axes>"
      ]
     },
     "metadata": {
      "needs_background": "light"
     },
     "output_type": "display_data"
    }
   ],
   "source": [
    "MEASURE = 3\n",
    "\n",
    "data = recent_data.where(MEASURE, are.above_or_equal_to(0)) # This is just to remove nans\n",
    "\n",
    "measured = data.column(MEASURE)\n",
    "\n",
    "bins = get_bins(measured, 2) # <-- Try playing around with the bin size\n",
    "\n",
    "data.hist(MEASURE, bins=bins)"
   ]
  },
  {
   "cell_type": "code",
   "execution_count": 138,
   "metadata": {},
   "outputs": [],
   "source": [
    "# This is our ... ?"
   ]
  },
  {
   "cell_type": "markdown",
   "metadata": {},
   "source": [
    "```\n",
    "POPULATION DISTRIBUTION\n",
    "```"
   ]
  },
  {
   "cell_type": "markdown",
   "metadata": {},
   "source": [
    "So, what is our aim?  We want to estimate the average life expectancy for the globe!  Let's say we don't have access to the entire population.  Flying around the world is pretty expensive, so we can only collect data from 15 countries\n",
    "\n",
    "As are standard procedures, we'll be creating a confidence interval around this estimate.  We can sample and use bootstrapping to find this."
   ]
  },
  {
   "cell_type": "code",
   "execution_count": 144,
   "metadata": {},
   "outputs": [],
   "source": [
    "# How do we create a representative sample?\n",
    "collected = data.sample(15, with_replacement=False)"
   ]
  },
  {
   "cell_type": "code",
   "execution_count": 145,
   "metadata": {},
   "outputs": [
    {
     "data": {
      "text/html": [
       "<table border=\"1\" class=\"dataframe\">\n",
       "    <thead>\n",
       "        <tr>\n",
       "            <th>Country</th> <th>Year</th> <th>Status</th> <th>Life expectancy </th> <th>Adult Mortality</th> <th>infant deaths</th> <th>Alcohol</th> <th>percentage expenditure</th> <th>Hepatitis B</th> <th>Measles </th> <th> BMI </th> <th>under-five deaths </th> <th>Polio</th> <th>Total expenditure</th> <th>Diphtheria </th> <th> HIV/AIDS</th> <th>GDP</th> <th>Population</th> <th> thinness  1-19 years</th> <th> thinness 5-9 years</th> <th>Income composition of resources</th> <th>Schooling</th>\n",
       "        </tr>\n",
       "    </thead>\n",
       "    <tbody>\n",
       "        <tr>\n",
       "            <td>Rwanda             </td> <td>2015</td> <td>Developing</td> <td>66.1            </td> <td>227            </td> <td>11           </td> <td>nan    </td> <td>0                     </td> <td>98         </td> <td>1       </td> <td>21.4 </td> <td>15                </td> <td>99   </td> <td>nan              </td> <td>98         </td> <td>0.4      </td> <td>71.3484</td> <td>1.16296e+07</td> <td>5.7                  </td> <td>5.7                </td> <td>0.493                          </td> <td>10.8     </td>\n",
       "        </tr>\n",
       "        <tr>\n",
       "            <td>Afghanistan        </td> <td>2015</td> <td>Developing</td> <td>65              </td> <td>263            </td> <td>62           </td> <td>0.01   </td> <td>71.2796               </td> <td>65         </td> <td>1154    </td> <td>19.1 </td> <td>83                </td> <td>6    </td> <td>8.16             </td> <td>65         </td> <td>0.1      </td> <td>584.259</td> <td>3.37365e+07</td> <td>17.2                 </td> <td>17.3               </td> <td>0.479                          </td> <td>10.1     </td>\n",
       "        </tr>\n",
       "        <tr>\n",
       "            <td>Guatemala          </td> <td>2015</td> <td>Developing</td> <td>71.9            </td> <td>186            </td> <td>10           </td> <td>nan    </td> <td>0                     </td> <td>74         </td> <td>0       </td> <td>5.6  </td> <td>12                </td> <td>9    </td> <td>nan              </td> <td>74         </td> <td>0.4      </td> <td>3923.57</td> <td>1.62524e+07</td> <td>1.2                  </td> <td>1.2                </td> <td>0.637                          </td> <td>10.7     </td>\n",
       "        </tr>\n",
       "        <tr>\n",
       "            <td>India              </td> <td>2015</td> <td>Developing</td> <td>68.3            </td> <td>181            </td> <td>910          </td> <td>nan    </td> <td>0                     </td> <td>87         </td> <td>90387   </td> <td>18.7 </td> <td>1100              </td> <td>86   </td> <td>nan              </td> <td>87         </td> <td>0.2      </td> <td>1613.19</td> <td>1.3954e+06 </td> <td>26.7                 </td> <td>27.3               </td> <td>0.615                          </td> <td>11.6     </td>\n",
       "        </tr>\n",
       "        <tr>\n",
       "            <td>Japan              </td> <td>2015</td> <td>Developed </td> <td>83.7            </td> <td>55             </td> <td>2            </td> <td>nan    </td> <td>0                     </td> <td>nan        </td> <td>35      </td> <td>29   </td> <td>3                 </td> <td>99   </td> <td>nan              </td> <td>96         </td> <td>0.1      </td> <td>34474.1</td> <td>127141     </td> <td>2.1                  </td> <td>1.8                </td> <td>0.902                          </td> <td>15.3     </td>\n",
       "        </tr>\n",
       "        <tr>\n",
       "            <td>Cyprus             </td> <td>2015</td> <td>Developed </td> <td>85              </td> <td>52             </td> <td>0            </td> <td>nan    </td> <td>0                     </td> <td>97         </td> <td>0       </td> <td>6.3  </td> <td>0                 </td> <td>97   </td> <td>nan              </td> <td>97         </td> <td>0.1      </td> <td>2375.11</td> <td>116985     </td> <td>1                    </td> <td>1                  </td> <td>0.854                          </td> <td>14.3     </td>\n",
       "        </tr>\n",
       "        <tr>\n",
       "            <td>Yemen              </td> <td>2015</td> <td>Developing</td> <td>65.7            </td> <td>224            </td> <td>37           </td> <td>nan    </td> <td>0                     </td> <td>69         </td> <td>468     </td> <td>41.3 </td> <td>47                </td> <td>63   </td> <td>nan              </td> <td>69         </td> <td>0.1      </td> <td>nan    </td> <td>nan        </td> <td>13.6                 </td> <td>13.4               </td> <td>0.499                          </td> <td>9        </td>\n",
       "        </tr>\n",
       "        <tr>\n",
       "            <td>Myanmar            </td> <td>2015</td> <td>Developing</td> <td>66.6            </td> <td>199            </td> <td>39           </td> <td>nan    </td> <td>0                     </td> <td>89         </td> <td>6       </td> <td>23.8 </td> <td>50                </td> <td>89   </td> <td>nan              </td> <td>89         </td> <td>0.3      </td> <td>1194.59</td> <td>5.24367e+06</td> <td>12.8                 </td> <td>13                 </td> <td>0.552                          </td> <td>9.1      </td>\n",
       "        </tr>\n",
       "        <tr>\n",
       "            <td>Mozambique         </td> <td>2015</td> <td>Developing</td> <td>57.6            </td> <td>355            </td> <td>60           </td> <td>nan    </td> <td>0                     </td> <td>8          </td> <td>79      </td> <td>22.6 </td> <td>81                </td> <td>8    </td> <td>nan              </td> <td>8          </td> <td>3.9      </td> <td>528.313</td> <td>281691     </td> <td>3.6                  </td> <td>3.5                </td> <td>0.414                          </td> <td>9.1      </td>\n",
       "        </tr>\n",
       "        <tr>\n",
       "            <td>Republic of Moldova</td> <td>2015</td> <td>Developing</td> <td>72.1            </td> <td>157            </td> <td>1            </td> <td>nan    </td> <td>0                     </td> <td>88         </td> <td>0       </td> <td>53.4 </td> <td>1                 </td> <td>88   </td> <td>nan              </td> <td>87         </td> <td>0.1      </td> <td>nan    </td> <td>nan        </td> <td>2.7                  </td> <td>2.8                </td> <td>nan                            </td> <td>nan      </td>\n",
       "        </tr>\n",
       "    </tbody>\n",
       "</table>\n",
       "<p>... (5 rows omitted)</p>"
      ],
      "text/plain": [
       "Country             | Year | Status     | Life expectancy  | Adult Mortality | infant deaths | Alcohol | percentage expenditure | Hepatitis B | Measles  |  BMI  | under-five deaths  | Polio | Total expenditure | Diphtheria  |  HIV/AIDS | GDP     | Population  |  thinness  1-19 years |  thinness 5-9 years | Income composition of resources | Schooling\n",
       "Rwanda              | 2015 | Developing | 66.1             | 227             | 11            | nan     | 0                      | 98          | 1        | 21.4  | 15                 | 99    | nan               | 98          | 0.4       | 71.3484 | 1.16296e+07 | 5.7                   | 5.7                 | 0.493                           | 10.8\n",
       "Afghanistan         | 2015 | Developing | 65               | 263             | 62            | 0.01    | 71.2796                | 65          | 1154     | 19.1  | 83                 | 6     | 8.16              | 65          | 0.1       | 584.259 | 3.37365e+07 | 17.2                  | 17.3                | 0.479                           | 10.1\n",
       "Guatemala           | 2015 | Developing | 71.9             | 186             | 10            | nan     | 0                      | 74          | 0        | 5.6   | 12                 | 9     | nan               | 74          | 0.4       | 3923.57 | 1.62524e+07 | 1.2                   | 1.2                 | 0.637                           | 10.7\n",
       "India               | 2015 | Developing | 68.3             | 181             | 910           | nan     | 0                      | 87          | 90387    | 18.7  | 1100               | 86    | nan               | 87          | 0.2       | 1613.19 | 1.3954e+06  | 26.7                  | 27.3                | 0.615                           | 11.6\n",
       "Japan               | 2015 | Developed  | 83.7             | 55              | 2             | nan     | 0                      | nan         | 35       | 29    | 3                  | 99    | nan               | 96          | 0.1       | 34474.1 | 127141      | 2.1                   | 1.8                 | 0.902                           | 15.3\n",
       "Cyprus              | 2015 | Developed  | 85               | 52              | 0             | nan     | 0                      | 97          | 0        | 6.3   | 0                  | 97    | nan               | 97          | 0.1       | 2375.11 | 116985      | 1                     | 1                   | 0.854                           | 14.3\n",
       "Yemen               | 2015 | Developing | 65.7             | 224             | 37            | nan     | 0                      | 69          | 468      | 41.3  | 47                 | 63    | nan               | 69          | 0.1       | nan     | nan         | 13.6                  | 13.4                | 0.499                           | 9\n",
       "Myanmar             | 2015 | Developing | 66.6             | 199             | 39            | nan     | 0                      | 89          | 6        | 23.8  | 50                 | 89    | nan               | 89          | 0.3       | 1194.59 | 5.24367e+06 | 12.8                  | 13                  | 0.552                           | 9.1\n",
       "Mozambique          | 2015 | Developing | 57.6             | 355             | 60            | nan     | 0                      | 8           | 79       | 22.6  | 81                 | 8     | nan               | 8           | 3.9       | 528.313 | 281691      | 3.6                   | 3.5                 | 0.414                           | 9.1\n",
       "Republic of Moldova | 2015 | Developing | 72.1             | 157             | 1             | nan     | 0                      | 88          | 0        | 53.4  | 1                  | 88    | nan               | 87          | 0.1       | nan     | nan         | 2.7                   | 2.8                 | nan                             | nan\n",
       "... (5 rows omitted)"
      ]
     },
     "execution_count": 145,
     "metadata": {},
     "output_type": "execute_result"
    }
   ],
   "source": [
    "collected"
   ]
  },
  {
   "cell_type": "code",
   "execution_count": 146,
   "metadata": {},
   "outputs": [
    {
     "data": {
      "image/png": "[encoded data removed]",
      "text/plain": [
       "<Figure size 432x288 with 1 Axes>"
      ]
     },
     "metadata": {
      "needs_background": "light"
     },
     "output_type": "display_data"
    }
   ],
   "source": [
    "collected.hist(MEASURE, bins=get_bins(collected.column(MEASURE)))"
   ]
  },
  {
   "cell_type": "code",
   "execution_count": 147,
   "metadata": {},
   "outputs": [],
   "source": [
    "# This is our ...?"
   ]
  },
  {
   "cell_type": "markdown",
   "metadata": {},
   "source": [
    "```\n",
    "SAMPLE DISTRIBUTION\n",
    "```"
   ]
  },
  {
   "cell_type": "markdown",
   "metadata": {},
   "source": [
    "We're interested in estimating the mean life expectancy.  So, let's find the mean of our sample."
   ]
  },
  {
   "cell_type": "code",
   "execution_count": 150,
   "metadata": {},
   "outputs": [
    {
     "data": {
      "text/plain": [
       "71.86666666666666"
      ]
     },
     "execution_count": 150,
     "metadata": {},
     "output_type": "execute_result"
    }
   ],
   "source": [
    "sample_mean = np.mean(collected.column(MEASURE))\n",
    "sample_mean"
   ]
  },
  {
   "cell_type": "code",
   "execution_count": 151,
   "metadata": {},
   "outputs": [
    {
     "data": {
      "text/plain": [
       "<matplotlib.lines.Line2D at 0x1a0ac5a7b8>"
      ]
     },
     "execution_count": 151,
     "metadata": {},
     "output_type": "execute_result"
    },
    {
     "data": {
      "image/png": "[encoded data removed]",
      "text/plain": [
       "<Figure size 432x288 with 1 Axes>"
      ]
     },
     "metadata": {
      "needs_background": "light"
     },
     "output_type": "display_data"
    }
   ],
   "source": [
    "# We can show our mean in relation to the sample.\n",
    "\n",
    "collected.hist(MEASURE, bins=get_bins(collected.column(MEASURE)))\n",
    "plt.axvline(sample_mean, c='r')"
   ]
  },
  {
   "cell_type": "code",
   "execution_count": 152,
   "metadata": {},
   "outputs": [],
   "source": [
    "# This is our ... ?"
   ]
  },
  {
   "cell_type": "markdown",
   "metadata": {},
   "source": [
    "```\n",
    "SAMPLE MEAN\n",
    "```"
   ]
  },
  {
   "cell_type": "markdown",
   "metadata": {},
   "source": [
    "What happens when we resample?"
   ]
  },
  {
   "cell_type": "code",
   "execution_count": 154,
   "metadata": {},
   "outputs": [
    {
     "name": "stdout",
     "output_type": "stream",
     "text": [
      "The resampled mean is:\t\t 71.7466666667 \n",
      "Compared to the original:\t 71.8666666667\n"
     ]
    },
    {
     "data": {
      "text/plain": [
       "<matplotlib.lines.Line2D at 0x1a0aa915f8>"
      ]
     },
     "execution_count": 154,
     "metadata": {},
     "output_type": "execute_result"
    },
    {
     "data": {
      "image/png": "[encoded data removed]",
      "text/plain": [
       "<Figure size 432x288 with 1 Axes>"
      ]
     },
     "metadata": {
      "needs_background": "light"
     },
     "output_type": "display_data"
    }
   ],
   "source": [
    "# Run this multiple time to see what changes.\n",
    "\n",
    "resampled = collected.sample()\n",
    "resampled_mean = np.mean(resampled.column(MEASURE))\n",
    "\n",
    "print(\"The resampled mean is:\\t\\t\", resampled_mean, \"\\nCompared to the original:\\t\", sample_mean)\n",
    "\n",
    "resampled.hist(MEASURE, bins=get_bins(collected.column(MEASURE)))\n",
    "plt.axvline(resampled_mean, c='r')\n",
    "plt.axvline(sample_mean, c='b')"
   ]
  },
  {
   "cell_type": "code",
   "execution_count": 155,
   "metadata": {},
   "outputs": [],
   "source": [
    "# This is our ... ?"
   ]
  },
  {
   "cell_type": "markdown",
   "metadata": {},
   "source": [
    "```\n",
    "RESAMPLED MEAN\n",
    "```"
   ]
  },
  {
   "cell_type": "markdown",
   "metadata": {},
   "source": [
    "Now, let's run the bootstrap so we can create our confidence interval!"
   ]
  },
  {
   "cell_type": "code",
   "execution_count": 156,
   "metadata": {},
   "outputs": [
    {
     "data": {
      "text/plain": [
       "(array([   0.,    1.,    2.,    6.,    8.,   14.,   42.,   77.,  109.,\n",
       "         144.,  230.,  283.,  353.,  409.,  443.,  474.,  445.,  445.,\n",
       "         360.,  338.,  257.,  176.,  134.,  114.,   62.,   34.,   22.,\n",
       "           7.,    7.,    2.,    0.,    1.,    1.,    0.]),\n",
       " array([ 64. ,  64.5,  65. ,  65.5,  66. ,  66.5,  67. ,  67.5,  68. ,\n",
       "         68.5,  69. ,  69.5,  70. ,  70.5,  71. ,  71.5,  72. ,  72.5,\n",
       "         73. ,  73.5,  74. ,  74.5,  75. ,  75.5,  76. ,  76.5,  77. ,\n",
       "         77.5,  78. ,  78.5,  79. ,  79.5,  80. ,  80.5,  81. ]),\n",
       " <a list of 34 Patch objects>)"
      ]
     },
     "execution_count": 156,
     "metadata": {},
     "output_type": "execute_result"
    },
    {
     "data": {
      "image/png": "[encoded data removed]",
      "text/plain": [
       "<Figure size 432x288 with 1 Axes>"
      ]
     },
     "metadata": {
      "needs_background": "light"
     },
     "output_type": "display_data"
    }
   ],
   "source": [
    "sample_means = []\n",
    "\n",
    "for i in range(5000):\n",
    "    bootstrapped = collected.sample()\n",
    "    boot_mean = np.mean(bootstrapped.column(MEASURE))\n",
    "    sample_means.append(boot_mean)\n",
    "\n",
    "plt.hist(sample_means, bins=get_bins(sample_means, 0.5))"
   ]
  },
  {
   "cell_type": "code",
   "execution_count": 161,
   "metadata": {},
   "outputs": [],
   "source": [
    "# This is our ... ?"
   ]
  },
  {
   "cell_type": "markdown",
   "metadata": {},
   "source": [
    "```\n",
    "DISTRIBUTION OF SAMPLE MEANS\n",
    "```"
   ]
  },
  {
   "cell_type": "markdown",
   "metadata": {},
   "source": [
    "Recall, the confidence interval uses percentiles as the bounds."
   ]
  },
  {
   "cell_type": "code",
   "execution_count": 160,
   "metadata": {},
   "outputs": [
    {
     "name": "stdout",
     "output_type": "stream",
     "text": [
      "\n",
      " Mean:\t71.92214399999999\n",
      "\n",
      "Lower:\t67.85333333333332\n",
      "Upper:\t76.07333333333334\n",
      "\n",
      "Level:\t95%\n",
      "\n"
     ]
    }
   ],
   "source": [
    "# First, we choose a confidence level.\n",
    "confidence_level = 95\n",
    "\n",
    "# What is the mean we're estimating?\n",
    "mean = np.mean(sample_means)\n",
    "\n",
    "# And then our lower and upper bounds?\n",
    "# Let's try to find a way to calculate them regardless of our confidence level.\n",
    "lower_bound = percentile((100 - confidence_level) / 2, sample_means)\n",
    "upper_bound = percentile(confidence_level + (100 - confidence_level) / 2, sample_means)\n",
    "\n",
    "# Printing it out so we can easily see our results.\n",
    "print(\"\"\"\n",
    " Mean:\\t{}\n",
    "\n",
    "Lower:\\t{}\n",
    "Upper:\\t{}\n",
    "\n",
    "Level:\\t{}%\n",
    "\"\"\".format(mean, lower_bound, upper_bound, confidence_level))"
   ]
  },
  {
   "cell_type": "markdown",
   "metadata": {},
   "source": [
    "Out of curiosity... what's the difference between our bounds and the mean?"
   ]
  },
  {
   "cell_type": "code",
   "execution_count": 86,
   "metadata": {},
   "outputs": [
    {
     "data": {
      "text/plain": [
       "3.7915240000000097"
      ]
     },
     "execution_count": 86,
     "metadata": {},
     "output_type": "execute_result"
    }
   ],
   "source": [
    "mean-lower_bound"
   ]
  },
  {
   "cell_type": "code",
   "execution_count": 87,
   "metadata": {},
   "outputs": [
    {
     "data": {
      "text/plain": [
       "3.9351426666666498"
      ]
     },
     "execution_count": 87,
     "metadata": {},
     "output_type": "execute_result"
    }
   ],
   "source": [
    "upper_bound-mean"
   ]
  },
  {
   "cell_type": "code",
   "execution_count": 88,
   "metadata": {},
   "outputs": [],
   "source": [
    "# How do we interpret this confidence interval?"
   ]
  },
  {
   "cell_type": "markdown",
   "metadata": {},
   "source": [
    "```\n",
    "We are 95% confidence that the mean life expectancy is between 67.85 and 76.07 years.\n",
    "```"
   ]
  },
  {
   "cell_type": "markdown",
   "metadata": {},
   "source": [
    "# Let's get a feel for how the distribution of sample means arises\n",
    "---\n",
    "\n",
    "We'll take a bunch of resamples and visualize the distribution of their as the number of resamples increases."
   ]
  },
  {
   "cell_type": "code",
   "execution_count": 162,
   "metadata": {},
   "outputs": [],
   "source": [
    "from IPython.display import clear_output"
   ]
  },
  {
   "cell_type": "code",
   "execution_count": 163,
   "metadata": {},
   "outputs": [
    {
     "data": {
      "image/png": "[encoded data removed]",
      "text/plain": [
       "<Figure size 432x288 with 1 Axes>"
      ]
     },
     "metadata": {
      "needs_background": "light"
     },
     "output_type": "display_data"
    },
    {
     "name": "stdout",
     "output_type": "stream",
     "text": [
      "Resamples:\t 1000\n"
     ]
    }
   ],
   "source": [
    "trials = 1000\n",
    "\n",
    "sample_means = []\n",
    "\n",
    "update_var = 1\n",
    "\n",
    "for i in range(trials):\n",
    "    boots = collected.sample()\n",
    "    boot_mean = np.mean(boots.column(MEASURE))\n",
    "    sample_means.append(boot_mean)\n",
    "    \n",
    "    # Update the plot every once in a while (more frequently at lower values)\n",
    "    if i >= update_var - 1 or i==trials - 1:\n",
    "        update_var *= 1.25\n",
    "        clear_output(wait=True)\n",
    "        \n",
    "        plt.hist(sample_means, density=True, bins=get_bins(sample_means, 0.5))\n",
    "        \n",
    "        plt.pause(0.01)\n",
    "\n",
    "        print(\"Resamples:\\t\",i + 1)"
   ]
  },
  {
   "cell_type": "markdown",
   "metadata": {},
   "source": [
    "# A bit of recap\n",
    "---\n",
    "\n",
    "Let's draw some things on the chalkboard.\n",
    "\n",
    "- Our **POPULATION DISTRIBUTION** is unknown, and can be any shape.\n",
    "\n",
    "\n",
    "- A **SAMPLE DISTRIBUTION** should have a shape roughly similar to the population distribution.  \n",
    "(provided that the sample was large enough and was properly randomized)\n",
    "\n",
    "\n",
    "- A **SAMPLE MEAN** is just the mean of that sample distribution.\n",
    "\n",
    "\n",
    "- We can collect a handful of sample means (or fake it by bootstrapping)\n",
    "\n",
    "\n",
    "- The **DISTRIBUTION OF SAMPLE MEANS** will resemble a normal distribution as the number of sample means increases.\n",
    "\n",
    "\n",
    "- The **CENTER/MEAN** of the distribution of sample means should be similar to the true population mean.  \n",
    "(provided that our original sample was proper)"
   ]
  },
  {
   "cell_type": "code",
   "execution_count": 164,
   "metadata": {},
   "outputs": [],
   "source": [
    "# Let's try this out on another column to see if the above claims hold!"
   ]
  },
  {
   "cell_type": "markdown",
   "metadata": {},
   "source": [
    "# What if I told you there's another way?\n",
    "---\n",
    "\n",
    "Since we know that a normal distribution will arise as the number of resamples increases, then do we really need to go through all the effort of running a bootstrap?\n",
    "\n",
    "Instead, we can rely on what we know about normal distributions!  The two defining features of a normal distribution are its center/mean and it's spread/standard deviation.\n",
    "\n",
    "So, what's the standard deviation of the normal distribution that arises?"
   ]
  },
  {
   "cell_type": "code",
   "execution_count": 96,
   "metadata": {},
   "outputs": [],
   "source": [
    "from scipy.stats import norm"
   ]
  },
  {
   "cell_type": "code",
   "execution_count": 97,
   "metadata": {},
   "outputs": [
    {
     "data": {
      "text/plain": [
       "[<matplotlib.lines.Line2D at 0x1a13a24ba8>]"
      ]
     },
     "execution_count": 97,
     "metadata": {},
     "output_type": "execute_result"
    },
    {
     "data": {
      "image/png": "[encoded data removed]",
      "text/plain": [
       "<Figure size 432x288 with 1 Axes>"
      ]
     },
     "metadata": {
      "needs_background": "light"
     },
     "output_type": "display_data"
    }
   ],
   "source": [
    "# Running a bootstrap again to get the distribution\n",
    "resampled_means = [np.mean(collected.sample().column(MEASURE)) for i in range(5000)]\n",
    "plt.hist(resampled_means, bins=get_bins(resampled_means, 0.25), density=True)\n",
    "\n",
    "\n",
    "\n",
    "# Plotting a normal curve over the top of it.\n",
    "\n",
    "mean = np.mean(collected.column(MEASURE)) # The mean should be ..?\n",
    "\n",
    "std = np.std(collected.column(MEASURE) / np.sqrt(collected.num_rows)) # Let's figure out what the standard deviation should be!\n",
    "# Well, it SHOULD be the Population SD / sqrt(Sample Size)\n",
    "# but we can't access the population sd!  So, we use the sample sd instead.\n",
    "\n",
    "x = np.linspace(*plt.xlim(), 100)\n",
    "plt.plot(x, norm.pdf(x, mean, std), c='r')"
   ]
  },
  {
   "cell_type": "markdown",
   "metadata": {},
   "source": [
    "So, we can create our CI mathemagically instead of running the bootstrap!"
   ]
  },
  {
   "cell_type": "markdown",
   "metadata": {},
   "source": [
    "For our normal curve, we'll have:\n",
    "$$Mean = Sample\\ Mean$$\n",
    "\n",
    "$$Standard\\ Deviation = \\frac{Sample\\ SD}{\\sqrt{Sample\\ Size}}$$ <font color=\"red\">**CLEAR THIS**"
   ]
  },
  {
   "cell_type": "markdown",
   "metadata": {},
   "source": [
    "Now that we have a normal curve with a mean and standard deviation, how do we find the confidence interval from before?"
   ]
  },
  {
   "cell_type": "code",
   "execution_count": 165,
   "metadata": {},
   "outputs": [
    {
     "name": "stdout",
     "output_type": "stream",
     "text": [
      "\n",
      " Mean:\t71.86666666666666\n",
      "\n",
      "Lower:\t67.75074271675196\n",
      "Upper:\t75.98259061658136\n",
      "\n",
      "Level:\t95%\n",
      "\n"
     ]
    }
   ],
   "source": [
    "# We know that 95% of data is within 1.96 standard deviations of\n",
    "# the mean of a normal distribution.\n",
    "\n",
    "mean = np.mean(collected.column(MEASURE))\n",
    "\n",
    "# What's the SD of the distrib. of sample means again?\n",
    "std = np.std(collected.column(MEASURE)) / np.sqrt(collected.num_rows)\n",
    "\n",
    "lower_bound = mean - 1.96 * std\n",
    "upper_bound = mean + 1.96 * std\n",
    "\n",
    "print(\"\"\"\n",
    " Mean:\\t{}\n",
    "\n",
    "Lower:\\t{}\n",
    "Upper:\\t{}\n",
    "\n",
    "Level:\\t95%\n",
    "\"\"\".format(mean, lower_bound, upper_bound))"
   ]
  },
  {
   "cell_type": "markdown",
   "metadata": {},
   "source": [
    "Just like before, I'm curious to see the difference between our bounds and mean."
   ]
  },
  {
   "cell_type": "code",
   "execution_count": 166,
   "metadata": {},
   "outputs": [
    {
     "data": {
      "text/plain": [
       "4.115923949914702"
      ]
     },
     "execution_count": 166,
     "metadata": {},
     "output_type": "execute_result"
    }
   ],
   "source": [
    "mean-lower_bound"
   ]
  },
  {
   "cell_type": "code",
   "execution_count": 167,
   "metadata": {},
   "outputs": [
    {
     "data": {
      "text/plain": [
       "4.115923949914702"
      ]
     },
     "execution_count": 167,
     "metadata": {},
     "output_type": "execute_result"
    }
   ],
   "source": [
    "upper_bound-mean"
   ]
  },
  {
   "cell_type": "code",
   "execution_count": 168,
   "metadata": {},
   "outputs": [],
   "source": [
    "# How close were we to our bootstrap confidence interval?"
   ]
  },
  {
   "cell_type": "markdown",
   "metadata": {},
   "source": [
    "```\n",
    "...\n",
    "```"
   ]
  },
  {
   "cell_type": "code",
   "execution_count": 169,
   "metadata": {},
   "outputs": [],
   "source": [
    "# What happens if we decrease/increase the number of resamples?"
   ]
  },
  {
   "cell_type": "markdown",
   "metadata": {},
   "source": [
    "```\n",
    "...\n",
    "```"
   ]
  },
  {
   "cell_type": "markdown",
   "metadata": {},
   "source": [
    "Cool!  Now, since we do have the *\"population\"* that we're estimating, let's check the validity of our confidence interval."
   ]
  },
  {
   "cell_type": "code",
   "execution_count": 170,
   "metadata": {},
   "outputs": [
    {
     "data": {
      "text/plain": [
       "71.616939890710384"
      ]
     },
     "execution_count": 170,
     "metadata": {},
     "output_type": "execute_result"
    }
   ],
   "source": [
    "# What was the population mean?\n",
    "pop_mean = np.mean(data.column(MEASURE))\n",
    "pop_mean"
   ]
  },
  {
   "cell_type": "code",
   "execution_count": 171,
   "metadata": {},
   "outputs": [
    {
     "data": {
      "text/plain": [
       "True"
      ]
     },
     "execution_count": 171,
     "metadata": {},
     "output_type": "execute_result"
    }
   ],
   "source": [
    "# Is the population mean inside of our interval?\n",
    "lower_bound <= pop_mean <= upper_bound"
   ]
  },
  {
   "cell_type": "code",
   "execution_count": 172,
   "metadata": {},
   "outputs": [],
   "source": [
    "# How likely are we to have the true population mean within our interval?"
   ]
  },
  {
   "cell_type": "markdown",
   "metadata": {},
   "source": [
    "```\n",
    "95%\n",
    "```"
   ]
  },
  {
   "cell_type": "markdown",
   "metadata": {},
   "source": [
    "# Interval widths\n",
    "---\n",
    "\n",
    "What if we think our interval size is too big?  How does our interval size change as other parameters change?"
   ]
  },
  {
   "cell_type": "code",
   "execution_count": 173,
   "metadata": {},
   "outputs": [],
   "source": [
    "# Provided that we want to keep 95% level of confidence, how will we narrow\n",
    "# our interval width?"
   ]
  },
  {
   "cell_type": "code",
   "execution_count": 109,
   "metadata": {},
   "outputs": [],
   "source": [
    "# BEFORE we answer that, let's think about one more thing:\n",
    "#\n",
    "# What is the width of our interval, in terms of our mean and standard deviation?"
   ]
  },
  {
   "cell_type": "markdown",
   "metadata": {},
   "source": [
    "\n",
    "$$Interval\\ Width = 4\\cdot Sample\\ Mean\\ SD$$\n",
    "$$= 4\\cdot \\frac{Sample\\ SD}{\\sqrt{Sample\\ Size}}$$\n",
    "<font color=\"red\">**CLEAR THIS**"
   ]
  },
  {
   "cell_type": "markdown",
   "metadata": {},
   "source": [
    "```\n",
    "Sample more countries!\n",
    "```"
   ]
  },
  {
   "cell_type": "code",
   "execution_count": 132,
   "metadata": {},
   "outputs": [],
   "source": [
    "# Is there anything wrong with what we've done above?\n",
    "# Hint: representative sample?"
   ]
  },
  {
   "cell_type": "markdown",
   "metadata": {},
   "source": [
    "```\n",
    "Our sample probably isn't big enough to be very reliable.\n",
    "```"
   ]
  },
  {
   "cell_type": "code",
   "execution_count": 113,
   "metadata": {},
   "outputs": [],
   "source": [
    "# What happens if we can't tolerate a 5% chance of being wrong?\n",
    "#\n",
    "# If this is really important, we may want 99.7% confidence!\n",
    "#\n",
    "# What will happen to the width of our interval?"
   ]
  },
  {
   "cell_type": "markdown",
   "metadata": {},
   "source": [
    "```\n",
    "Width increases as confidence increases.\n",
    "```"
   ]
  },
  {
   "cell_type": "code",
   "execution_count": 111,
   "metadata": {},
   "outputs": [],
   "source": [
    "# What will our interval width be in term of mean and standard deviation?"
   ]
  },
  {
   "cell_type": "markdown",
   "metadata": {},
   "source": [
    "To answer this, we need to know the \"Empirical Rule\".\n",
    "\n",
    "It goes a little something like this:"
   ]
  },
  {
   "cell_type": "markdown",
   "metadata": {},
   "source": [
    "|# of SD away from mean|% of data contained in ± #SD|\n",
    "|---|---|\n",
    "|1|68%|\n",
    "|2|95%|\n",
    "|3|99.7%|"
   ]
  },
  {
   "cell_type": "code",
   "execution_count": 174,
   "metadata": {},
   "outputs": [
    {
     "name": "stdout",
     "output_type": "stream",
     "text": [
      "\n",
      " Mean:\t71.86666666666666\n",
      "\n",
      "Lower:\t65.56678306985843\n",
      "Upper:\t78.16655026347489\n",
      "\n",
      "Level:\t95%\n",
      "\n"
     ]
    }
   ],
   "source": [
    "# So, we can calculate the CI if we need 99.7% confidence\n",
    "\n",
    "mean = np.mean(collected.column(MEASURE))\n",
    "\n",
    "std = np.std(collected.column(MEASURE)) / np.sqrt(collected.num_rows)\n",
    "\n",
    "lower_bound_997 = mean - 3 * std\n",
    "upper_bound_997 = mean + 3 * std\n",
    "\n",
    "print(\"\"\"\n",
    " Mean:\\t{}\n",
    "\n",
    "Lower:\\t{}\n",
    "Upper:\\t{}\n",
    "\n",
    "Level:\\t95%\n",
    "\"\"\".format(mean, lower_bound_997, upper_bound_997))"
   ]
  },
  {
   "cell_type": "code",
   "execution_count": 176,
   "metadata": {},
   "outputs": [
    {
     "name": "stdout",
     "output_type": "stream",
     "text": [
      "\n",
      "95% Lower:\t67.75074271675196\t99.7% Lower:\t65.56678306985843\n",
      "95% Upper:\t75.98259061658136\t99.7% Upper:\t78.16655026347489\n",
      "\n"
     ]
    }
   ],
   "source": [
    "# Let's look at the bounds for 95% versus 99.7% confidence\n",
    "print(\"\"\"\n",
    "95% Lower:\\t{0}\\t99.7% Lower:\\t{2}\n",
    "95% Upper:\\t{1}\\t99.7% Upper:\\t{3}\n",
    "\"\"\".format(lower_bound, upper_bound, lower_bound_997, upper_bound_997))"
   ]
  },
  {
   "cell_type": "code",
   "execution_count": null,
   "metadata": {},
   "outputs": [],
   "source": []
  }
 ],
 "metadata": {
  "kernelspec": {
   "display_name": "Python 3",
   "language": "python",
   "name": "python3"
  },
  "language_info": {
   "codemirror_mode": {
    "name": "ipython",
    "version": 3
   },
   "file_extension": ".py",
   "mimetype": "text/x-python",
   "name": "python",
   "nbconvert_exporter": "python",
   "pygments_lexer": "ipython3",
   "version": "3.6.2"
  }
 },
 "nbformat": 4,
 "nbformat_minor": 2
}
