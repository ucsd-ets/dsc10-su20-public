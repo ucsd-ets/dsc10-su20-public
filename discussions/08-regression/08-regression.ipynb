{
 "cells": [
  {
   "cell_type": "code",
   "execution_count": null,
   "metadata": {
    "slideshow": {
     "slide_type": "skip"
    }
   },
   "outputs": [],
   "source": [
    "import babypandas as bpd\n",
    "import numpy as np\n",
    "import matplotlib.pyplot as plt\n",
    "plt.style.use(\"fivethirtyeight\")\n",
    "%matplotlib inline"
   ]
  },
  {
   "cell_type": "markdown",
   "metadata": {
    "slideshow": {
     "slide_type": "slide"
    }
   },
   "source": [
    "# Normal CIs"
   ]
  },
  {
   "cell_type": "markdown",
   "metadata": {
    "slideshow": {
     "slide_type": "slide"
    }
   },
   "source": [
    "## Question\n",
    "\n",
    "100 people were asked about the duration of last night's sleep. Here are the results:"
   ]
  },
  {
   "cell_type": "code",
   "execution_count": null,
   "metadata": {
    "slideshow": {
     "slide_type": "-"
    }
   },
   "outputs": [],
   "source": [
    "np.random.seed(42)\n",
    "sleep = np.random.lognormal(2, .2, 100)"
   ]
  },
  {
   "cell_type": "markdown",
   "metadata": {},
   "source": [
    "Construct a 95% confidence interval for the population's mean sleep duration."
   ]
  },
  {
   "cell_type": "code",
   "execution_count": null,
   "metadata": {},
   "outputs": [],
   "source": []
  },
  {
   "cell_type": "markdown",
   "metadata": {
    "slideshow": {
     "slide_type": "slide"
    }
   },
   "source": [
    "## Question\n",
    "\n",
    "How would you construct a 95% CI for the population's *median* sleep duration?"
   ]
  },
  {
   "cell_type": "code",
   "execution_count": null,
   "metadata": {},
   "outputs": [],
   "source": []
  },
  {
   "cell_type": "markdown",
   "metadata": {
    "slideshow": {
     "slide_type": "slide"
    }
   },
   "source": [
    "## Question\n",
    "\n",
    "A scientist claims that the mean sleep duration is 8 hours. Your alternative hypothesis is that 8 hours of sleep is too high. Do you accept the alternative hypothesis? Use a 9% level of confidence."
   ]
  },
  {
   "cell_type": "code",
   "execution_count": null,
   "metadata": {},
   "outputs": [],
   "source": []
  },
  {
   "cell_type": "markdown",
   "metadata": {
    "slideshow": {
     "slide_type": "slide"
    }
   },
   "source": [
    "## Question\n",
    "\n",
    "600 people are polled about an upcoming election. 342 said they would vote for candidate A, while the rest said they would vote for candidate B.\n",
    "\n",
    "- What is the 95% confidence interval for the population proportion of people who would vote for A?\n",
    "- What is the 99% confidence interval?"
   ]
  },
  {
   "cell_type": "code",
   "execution_count": null,
   "metadata": {},
   "outputs": [],
   "source": []
  },
  {
   "cell_type": "markdown",
   "metadata": {
    "slideshow": {
     "slide_type": "slide"
    }
   },
   "source": [
    "# Correlation"
   ]
  },
  {
   "cell_type": "code",
   "execution_count": null,
   "metadata": {
    "slideshow": {
     "slide_type": "-"
    }
   },
   "outputs": [],
   "source": [
    "tbl = bpd.read_csv(\"ice-cream-stats.csv\")\n",
    "tbl"
   ]
  },
  {
   "cell_type": "code",
   "execution_count": null,
   "metadata": {
    "slideshow": {
     "slide_type": "-"
    }
   },
   "outputs": [],
   "source": [
    "# Let's set some variables to the columns for easier reference\n",
    "ice = tbl.get('Ice Cream Sales (cones)')\n",
    "fudge = tbl.get('Fudge Sale Volume (g)')\n",
    "shark = tbl.get('Shark Attacks')"
   ]
  },
  {
   "cell_type": "markdown",
   "metadata": {
    "slideshow": {
     "slide_type": "slide"
    }
   },
   "source": [
    "# First: relationships\n",
    "---\n",
    "\n",
    "Let's consider the following table:"
   ]
  },
  {
   "cell_type": "markdown",
   "metadata": {
    "slideshow": {
     "slide_type": "-"
    }
   },
   "source": [
    "|x|y|\n",
    "|---|---|\n",
    "|1|1|\n",
    "|2|4|\n",
    "|4|8|\n",
    "|5|10|"
   ]
  },
  {
   "cell_type": "markdown",
   "metadata": {
    "slideshow": {
     "slide_type": "-"
    }
   },
   "source": [
    "**Question**: If we were to receive an $x=3$, what would we expect the corresponding $y$ to equal? Why?"
   ]
  },
  {
   "cell_type": "markdown",
   "metadata": {
    "slideshow": {
     "slide_type": "-"
    }
   },
   "source": [
    "**Question**: Given x = 6, what do we expect y to equal?"
   ]
  },
  {
   "cell_type": "markdown",
   "metadata": {
    "slideshow": {
     "slide_type": "slide"
    }
   },
   "source": [
    "## Question\n",
    "\n",
    "What, roughly, would we expect $Fudge\\ Sales\\ Volume$ to equal provided that $Ice\\ Cream\\ Sales = 100$?"
   ]
  },
  {
   "cell_type": "code",
   "execution_count": null,
   "metadata": {},
   "outputs": [],
   "source": []
  },
  {
   "cell_type": "markdown",
   "metadata": {
    "slideshow": {
     "slide_type": "slide"
    }
   },
   "source": [
    "Let's focus on our justification for coming up with a value for $Fudge$.  We saw a strong *relationship* between $Ice \\ Cream$ and $Fudge$.  What does that mean?\n",
    "\n",
    "If we're speaking statistically, then we consider `relationship == association`.  And an association really boils down to the following claim:  \n",
    "\n",
    "<center>\"When this changes value, then that changes value too.\"</center>"
   ]
  },
  {
   "cell_type": "markdown",
   "metadata": {
    "slideshow": {
     "slide_type": "slide"
    }
   },
   "source": [
    "# Correlation\n",
    "---\n",
    "\n",
    "What does correlation (or the correlation coefficient) tell us?"
   ]
  },
  {
   "cell_type": "markdown",
   "metadata": {
    "slideshow": {
     "slide_type": "slide"
    }
   },
   "source": [
    "## Question\n",
    "\n",
    "Are $x$ and $y$ correlated? What do you think the correlation coefficient is (roughly)?\n",
    "\n",
    "|x|y|\n",
    "|---|---|\n",
    "|1|1|\n",
    "|2|4|\n",
    "|4|8|\n",
    "|5|10|"
   ]
  },
  {
   "cell_type": "code",
   "execution_count": null,
   "metadata": {
    "slideshow": {
     "slide_type": "-"
    }
   },
   "outputs": [],
   "source": []
  },
  {
   "cell_type": "markdown",
   "metadata": {
    "slideshow": {
     "slide_type": "slide"
    }
   },
   "source": [
    "## Question\n",
    "\n",
    "Are ice cream and fudge *associated*? Are they *correlated*?"
   ]
  },
  {
   "cell_type": "code",
   "execution_count": null,
   "metadata": {},
   "outputs": [],
   "source": []
  },
  {
   "cell_type": "markdown",
   "metadata": {},
   "source": [
    "## Question\n",
    "\n",
    "What is the correlation coefficient between $x$ and $y$?\n",
    "\n",
    "|x|y|\n",
    "|---|---|\n",
    "|1|1|\n",
    "|2|4|\n",
    "|4|8|\n",
    "|5|10|"
   ]
  },
  {
   "cell_type": "code",
   "execution_count": null,
   "metadata": {},
   "outputs": [],
   "source": []
  },
  {
   "cell_type": "markdown",
   "metadata": {
    "slideshow": {
     "slide_type": "slide"
    }
   },
   "source": [
    "## Question\n",
    "\n",
    "What is the correlation coefficient between ice cream and fudge?"
   ]
  },
  {
   "cell_type": "code",
   "execution_count": null,
   "metadata": {},
   "outputs": [],
   "source": []
  },
  {
   "cell_type": "markdown",
   "metadata": {
    "slideshow": {
     "slide_type": "slide"
    }
   },
   "source": [
    "## Question\n",
    "\n",
    "Suppose we have converted the ice cream column to standard units. What is the mean of the new column? What about the standard deviation?"
   ]
  },
  {
   "cell_type": "code",
   "execution_count": null,
   "metadata": {
    "slideshow": {
     "slide_type": "-"
    }
   },
   "outputs": [],
   "source": []
  },
  {
   "cell_type": "markdown",
   "metadata": {
    "slideshow": {
     "slide_type": "slide"
    }
   },
   "source": [
    "## Question\n",
    "\n",
    "In words, what does our correlation coefficient mean?"
   ]
  },
  {
   "cell_type": "markdown",
   "metadata": {
    "slideshow": {
     "slide_type": "slide"
    }
   },
   "source": [
    "# Regression"
   ]
  },
  {
   "cell_type": "code",
   "execution_count": null,
   "metadata": {},
   "outputs": [],
   "source": [
    "x = (shark - shark.mean()) / np.std(shark)"
   ]
  },
  {
   "cell_type": "code",
   "execution_count": null,
   "metadata": {},
   "outputs": [],
   "source": [
    "y = (ice - ice.mean()) / np.std(ice)"
   ]
  },
  {
   "cell_type": "markdown",
   "metadata": {
    "slideshow": {
     "slide_type": "slide"
    }
   },
   "source": [
    "## Question\n",
    "\n",
    "Are shark attacks and ice cream sales *associated*? What about *correlated*?"
   ]
  },
  {
   "cell_type": "code",
   "execution_count": null,
   "metadata": {},
   "outputs": [],
   "source": []
  },
  {
   "cell_type": "markdown",
   "metadata": {
    "slideshow": {
     "slide_type": "slide"
    }
   },
   "source": [
    "## Question\n",
    "\n",
    "What is the *correlation coefficient*?"
   ]
  },
  {
   "cell_type": "code",
   "execution_count": null,
   "metadata": {},
   "outputs": [],
   "source": []
  },
  {
   "cell_type": "markdown",
   "metadata": {
    "slideshow": {
     "slide_type": "slide"
    }
   },
   "source": [
    "# Regression"
   ]
  },
  {
   "cell_type": "markdown",
   "metadata": {
    "slideshow": {
     "slide_type": "slide"
    }
   },
   "source": [
    "There is a linear relationship between ice cream sales and shark attacks."
   ]
  },
  {
   "cell_type": "code",
   "execution_count": null,
   "metadata": {},
   "outputs": [],
   "source": [
    "tbl.plot(kind='scatter', x=\"Ice Cream Sales (cones)\", y=\"Shark Attacks\")"
   ]
  },
  {
   "cell_type": "markdown",
   "metadata": {
    "slideshow": {
     "slide_type": "slide"
    }
   },
   "source": [
    "It is still there if we convert to standard units:"
   ]
  },
  {
   "cell_type": "code",
   "execution_count": null,
   "metadata": {},
   "outputs": [],
   "source": [
    "x = (ice - ice.mean()) / np.std(ice)\n",
    "y = (shark - shark.mean()) / np.std(shark)"
   ]
  },
  {
   "cell_type": "code",
   "execution_count": null,
   "metadata": {},
   "outputs": [],
   "source": [
    "plt.scatter(x, y)"
   ]
  },
  {
   "cell_type": "markdown",
   "metadata": {
    "slideshow": {
     "slide_type": "slide"
    }
   },
   "source": [
    "## Correlation\n",
    "\n",
    "The correlation coefficient is:"
   ]
  },
  {
   "cell_type": "code",
   "execution_count": null,
   "metadata": {},
   "outputs": [],
   "source": [
    "r = (x * y).mean()\n",
    "r"
   ]
  },
  {
   "cell_type": "markdown",
   "metadata": {},
   "source": [
    "What does the correlation coefficient have to do with the slope of this line?"
   ]
  },
  {
   "cell_type": "markdown",
   "metadata": {
    "slideshow": {
     "slide_type": "slide"
    }
   },
   "source": [
    "## Deriving the slope\n",
    "\n",
    "- We believe that $y_i \\approx m x_i$, but what is the slope, $m$?\n",
    "- We know that $\\frac{1}{n} \\sum_{i=1} x_i y_i = 0.98 = r$\n",
    "- So\n",
    "$$\n",
    "\\begin{align*}\n",
    "    &y_i \\approx m x_i\n",
    "    \\\\\n",
    "    &\\implies\n",
    "    x_i y_i \\approx m x_i^2\n",
    "    \\\\\n",
    "    &\\implies\n",
    "    \\sum x_i y_i \\approx \\sum m x_i^2\n",
    "    \\\\\n",
    "    &\\implies\n",
    "    \\frac 1n \\sum x_i y_i \\approx \\frac 1n \\sum m x_i^2\n",
    "    \\\\\n",
    "    &\\implies\n",
    "    \\frac 1n \\sum x_i y_i \\approx m \\cdot \\frac 1n \\sum x_i^2\n",
    "    \\\\\n",
    "    &\\implies\n",
    "    r \\approx m \\times \\operatorname{Variance(x)}\n",
    "    \\\\\n",
    "    &\\implies\n",
    "    r \\approx m\n",
    "\\end{align*}\n",
    "$$"
   ]
  },
  {
   "cell_type": "code",
   "execution_count": null,
   "metadata": {
    "slideshow": {
     "slide_type": "slide"
    }
   },
   "outputs": [],
   "source": [
    "# Let's plot it!\n",
    "\n",
    "xrange = np.linspace(x.min(), x.max(), 2)\n",
    "\n",
    "plt.scatter(x, y)\n",
    "plt.plot(xrange, xrange * r, c='r')\n",
    "plt.xlabel(\"Ice Cream Sales (cones)\"); plt.ylabel(\"Shark Attacks\");"
   ]
  },
  {
   "cell_type": "markdown",
   "metadata": {
    "slideshow": {
     "slide_type": "slide"
    }
   },
   "source": [
    "## Question\n",
    "\n",
    "Suppose there are 40 ice cream cones sold on a given day. What is the predicted number of shark attacks?"
   ]
  },
  {
   "cell_type": "markdown",
   "metadata": {
    "slideshow": {
     "slide_type": "slide"
    }
   },
   "source": [
    "## Question\n",
    "\n",
    "This was all in standard units. What is the slope of the line in *original* units? The intercept?"
   ]
  },
  {
   "cell_type": "markdown",
   "metadata": {
    "slideshow": {
     "slide_type": "-"
    }
   },
   "source": [
    "$$m = r\\cdot \\frac{SD_y}{SD_x}$$\n",
    "\n",
    "$$b = mean_y - m\\cdot mean_x$$"
   ]
  },
  {
   "cell_type": "code",
   "execution_count": null,
   "metadata": {},
   "outputs": [],
   "source": []
  },
  {
   "cell_type": "markdown",
   "metadata": {
    "slideshow": {
     "slide_type": "slide"
    }
   },
   "source": [
    "## Question\n",
    "\n",
    "Suppose there are 10 ice cream cones sold on a given day. What is the predicted number of shark attacks?"
   ]
  },
  {
   "cell_type": "code",
   "execution_count": null,
   "metadata": {},
   "outputs": [],
   "source": []
  }
 ],
 "metadata": {
  "celltoolbar": "Slideshow",
  "kernelspec": {
   "display_name": "Python 3",
   "language": "python",
   "name": "python3"
  },
  "language_info": {
   "codemirror_mode": {
    "name": "ipython",
    "version": 3
   },
   "file_extension": ".py",
   "mimetype": "text/x-python",
   "name": "python",
   "nbconvert_exporter": "python",
   "pygments_lexer": "ipython3",
   "version": "3.8.3"
  }
 },
 "nbformat": 4,
 "nbformat_minor": 2
}
