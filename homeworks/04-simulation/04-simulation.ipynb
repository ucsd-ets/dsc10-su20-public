{
 "cells": [
  {
   "cell_type": "markdown",
   "metadata": {},
   "source": [
    "# Homework 4: Iteration and Randomness. \n",
    "### Due Thursday August 6th, 11:59pm\n",
    "\n",
    "Directly sharing answers is not okay, but discussing problems with the course staff or with other students is encouraged. \n",
    "\n",
    "You should start early so that you have time to get help if you're stuck."
   ]
  },
  {
   "cell_type": "code",
   "execution_count": 1,
   "metadata": {},
   "outputs": [],
   "source": [
    "# Don't change this cell; just run it. \n",
    "import numpy as np\n",
    "import babypandas as bpd\n",
    "\n",
    "%matplotlib inline\n",
    "import matplotlib.pyplot as plt\n",
    "plt.style.use('fivethirtyeight')\n",
    "\n",
    "import otter\n",
    "otter = otter.Notebook('tests')"
   ]
  },
  {
   "cell_type": "markdown",
   "metadata": {},
   "source": [
    "**Important**: The `otter` tests don't usually tell you that your answer is correct. More often, they help catch careless mistakes. It's up to you to ensure that your answer is correct. If you're not sure, ask someone (not for the answer, but for some guidance about your approach)."
   ]
  },
  {
   "cell_type": "markdown",
   "metadata": {},
   "source": [
    "## 1. Jupyter Notebook Cells"
   ]
  },
  {
   "cell_type": "markdown",
   "metadata": {},
   "source": [
    "Suppose you found a super long Jupyter notebook file with 1000 cells. Some of the cells are Code cells, and the others are Markdown cells. The file `cells.csv` contains 1000 rows, with each roll representing the type of a cell in the Jupyter notebook. Read `cells.csv` into a table called `cell_table`."
   ]
  },
  {
   "cell_type": "code",
   "execution_count": 2,
   "metadata": {},
   "outputs": [
    {
     "data": {
      "text/html": [
       "<div>\n",
       "<style scoped>\n",
       "    .dataframe tbody tr th:only-of-type {\n",
       "        vertical-align: middle;\n",
       "    }\n",
       "\n",
       "    .dataframe tbody tr th {\n",
       "        vertical-align: top;\n",
       "    }\n",
       "\n",
       "    .dataframe thead th {\n",
       "        text-align: right;\n",
       "    }\n",
       "</style>\n",
       "<table border=\"1\" class=\"dataframe\">\n",
       "  <thead>\n",
       "    <tr style=\"text-align: right;\">\n",
       "      <th></th>\n",
       "      <th>Cell Type</th>\n",
       "    </tr>\n",
       "  </thead>\n",
       "  <tbody>\n",
       "    <tr>\n",
       "      <th>0</th>\n",
       "      <td>Code</td>\n",
       "    </tr>\n",
       "    <tr>\n",
       "      <th>1</th>\n",
       "      <td>Code</td>\n",
       "    </tr>\n",
       "    <tr>\n",
       "      <th>2</th>\n",
       "      <td>Code</td>\n",
       "    </tr>\n",
       "    <tr>\n",
       "      <th>3</th>\n",
       "      <td>Code</td>\n",
       "    </tr>\n",
       "    <tr>\n",
       "      <th>4</th>\n",
       "      <td>Code</td>\n",
       "    </tr>\n",
       "    <tr>\n",
       "      <th>...</th>\n",
       "      <td>...</td>\n",
       "    </tr>\n",
       "    <tr>\n",
       "      <th>995</th>\n",
       "      <td>Code</td>\n",
       "    </tr>\n",
       "    <tr>\n",
       "      <th>996</th>\n",
       "      <td>Markdown</td>\n",
       "    </tr>\n",
       "    <tr>\n",
       "      <th>997</th>\n",
       "      <td>Markdown</td>\n",
       "    </tr>\n",
       "    <tr>\n",
       "      <th>998</th>\n",
       "      <td>Code</td>\n",
       "    </tr>\n",
       "    <tr>\n",
       "      <th>999</th>\n",
       "      <td>Code</td>\n",
       "    </tr>\n",
       "  </tbody>\n",
       "</table>\n",
       "<p>1000 rows × 1 columns</p>\n",
       "</div>"
      ],
      "text/plain": [
       "    Cell Type\n",
       "0        Code\n",
       "1        Code\n",
       "2        Code\n",
       "3        Code\n",
       "4        Code\n",
       "..        ...\n",
       "995      Code\n",
       "996  Markdown\n",
       "997  Markdown\n",
       "998      Code\n",
       "999      Code\n",
       "\n",
       "[1000 rows x 1 columns]"
      ]
     },
     "execution_count": 2,
     "metadata": {},
     "output_type": "execute_result"
    }
   ],
   "source": [
    "cell_table = bpd.read_csv(\"cells.csv\")\n",
    "cell_table"
   ]
  },
  {
   "cell_type": "markdown",
   "metadata": {},
   "source": [
    "**Question 1.1.** You're interested in the proportion of Code cells in the file. Calculate the true proportion of Code cells and store it in the variable `code_true_prop`."
   ]
  },
  {
   "cell_type": "code",
   "execution_count": 4,
   "metadata": {},
   "outputs": [
    {
     "data": {
      "text/plain": [
       "0.655"
      ]
     },
     "execution_count": 4,
     "metadata": {},
     "output_type": "execute_result"
    }
   ],
   "source": [
    "#... code_true_prop\n",
    "code_true_prop = cell_table[cell_table.get('Cell Type') == 'Code'].shape[0] / cell_table.get('Cell Type').shape[0]\n",
    "code_true_prop"
   ]
  },
  {
   "cell_type": "code",
   "execution_count": 6,
   "metadata": {
    "scrolled": false
   },
   "outputs": [
    {
     "data": {
      "text/html": [
       "\n",
       "    \n",
       "    \n",
       "        <p>All tests passed!</p>\n",
       "    \n",
       "    "
      ],
      "text/plain": [
       "\n",
       "    All tests passed!\n",
       "    "
      ]
     },
     "execution_count": 6,
     "metadata": {},
     "output_type": "execute_result"
    }
   ],
   "source": [
    "otter.check('q1_1')"
   ]
  },
  {
   "cell_type": "markdown",
   "metadata": {},
   "source": [
    "**Question 1.2.** If you are only able to randomly sample 150 different cells. Which of the following would create a representative sample of the cells in the file? Assign 1, 2, or 3 to `q1_2`.\n",
    "\n",
    "1. `cell_table.take(np.arange(150))`\n",
    "2. `cell_table.sample(150, replace=False)`\n",
    "3. `cell_table[cell_table.get('Cell Type') == 'Code']`"
   ]
  },
  {
   "cell_type": "code",
   "execution_count": 7,
   "metadata": {},
   "outputs": [
    {
     "data": {
      "text/plain": [
       "2"
      ]
     },
     "execution_count": 7,
     "metadata": {},
     "output_type": "execute_result"
    }
   ],
   "source": [
    "q1_2 = 2\n",
    "q1_2"
   ]
  },
  {
   "cell_type": "code",
   "execution_count": 8,
   "metadata": {},
   "outputs": [
    {
     "data": {
      "text/html": [
       "\n",
       "    \n",
       "    \n",
       "        <p>All tests passed!</p>\n",
       "    \n",
       "    "
      ],
      "text/plain": [
       "\n",
       "    All tests passed!\n",
       "    "
      ]
     },
     "execution_count": 8,
     "metadata": {},
     "output_type": "execute_result"
    }
   ],
   "source": [
    "otter.check('q1_2')"
   ]
  },
  {
   "cell_type": "markdown",
   "metadata": {},
   "source": [
    "**Question 1.3.** You decide to pick 150 different cells using the sampling method you chose in question 2 above. Write a function called `pick_150_cells` that simulates this. Specifically, the function should take no arguments and should return a table of the types of 150 cells."
   ]
  },
  {
   "cell_type": "code",
   "execution_count": 9,
   "metadata": {},
   "outputs": [],
   "source": [
    "def pick_150_cells():\n",
    "    ..."
   ]
  },
  {
   "cell_type": "code",
   "execution_count": 10,
   "metadata": {},
   "outputs": [],
   "source": [
    "#DELETE\n",
    "def pick_150_cells():\n",
    "    random150=cell_table.sample(150,replace=False)\n",
    "    return random150"
   ]
  },
  {
   "cell_type": "code",
   "execution_count": 11,
   "metadata": {},
   "outputs": [
    {
     "data": {
      "text/html": [
       "<div>\n",
       "<style scoped>\n",
       "    .dataframe tbody tr th:only-of-type {\n",
       "        vertical-align: middle;\n",
       "    }\n",
       "\n",
       "    .dataframe tbody tr th {\n",
       "        vertical-align: top;\n",
       "    }\n",
       "\n",
       "    .dataframe thead th {\n",
       "        text-align: right;\n",
       "    }\n",
       "</style>\n",
       "<table border=\"1\" class=\"dataframe\">\n",
       "  <thead>\n",
       "    <tr style=\"text-align: right;\">\n",
       "      <th></th>\n",
       "      <th>Cell Type</th>\n",
       "    </tr>\n",
       "  </thead>\n",
       "  <tbody>\n",
       "    <tr>\n",
       "      <th>186</th>\n",
       "      <td>Code</td>\n",
       "    </tr>\n",
       "    <tr>\n",
       "      <th>716</th>\n",
       "      <td>Markdown</td>\n",
       "    </tr>\n",
       "    <tr>\n",
       "      <th>408</th>\n",
       "      <td>Code</td>\n",
       "    </tr>\n",
       "    <tr>\n",
       "      <th>417</th>\n",
       "      <td>Markdown</td>\n",
       "    </tr>\n",
       "    <tr>\n",
       "      <th>844</th>\n",
       "      <td>Code</td>\n",
       "    </tr>\n",
       "    <tr>\n",
       "      <th>...</th>\n",
       "      <td>...</td>\n",
       "    </tr>\n",
       "    <tr>\n",
       "      <th>634</th>\n",
       "      <td>Code</td>\n",
       "    </tr>\n",
       "    <tr>\n",
       "      <th>99</th>\n",
       "      <td>Code</td>\n",
       "    </tr>\n",
       "    <tr>\n",
       "      <th>35</th>\n",
       "      <td>Markdown</td>\n",
       "    </tr>\n",
       "    <tr>\n",
       "      <th>207</th>\n",
       "      <td>Code</td>\n",
       "    </tr>\n",
       "    <tr>\n",
       "      <th>892</th>\n",
       "      <td>Code</td>\n",
       "    </tr>\n",
       "  </tbody>\n",
       "</table>\n",
       "<p>150 rows × 1 columns</p>\n",
       "</div>"
      ],
      "text/plain": [
       "    Cell Type\n",
       "186      Code\n",
       "716  Markdown\n",
       "408      Code\n",
       "417  Markdown\n",
       "844      Code\n",
       "..        ...\n",
       "634      Code\n",
       "99       Code\n",
       "35   Markdown\n",
       "207      Code\n",
       "892      Code\n",
       "\n",
       "[150 rows x 1 columns]"
      ]
     },
     "execution_count": 11,
     "metadata": {},
     "output_type": "execute_result"
    }
   ],
   "source": [
    "pick_150_cells()"
   ]
  },
  {
   "cell_type": "code",
   "execution_count": 12,
   "metadata": {},
   "outputs": [
    {
     "data": {
      "text/html": [
       "\n",
       "    \n",
       "    \n",
       "        <p>All tests passed!</p>\n",
       "    \n",
       "    "
      ],
      "text/plain": [
       "\n",
       "    All tests passed!\n",
       "    "
      ]
     },
     "execution_count": 12,
     "metadata": {},
     "output_type": "execute_result"
    }
   ],
   "source": [
    "otter.check('q1_3')"
   ]
  },
  {
   "cell_type": "markdown",
   "metadata": {},
   "source": [
    "**Question 1.4.** You are interested in knowing the true proportion of Code cells of all the cells in the file, but suppose you can only look through 150 cells at a time. Hence, you simulate this experiment in 500 trials. For each trial, you decide to calculate the proportion of Code cells. Simulate the experiment and store the *array* of proportions in the variable `code_empirical_props`.\n",
    "\n",
    "*Note*: your proportions should be decimals between 0 and 1."
   ]
  },
  {
   "cell_type": "code",
   "execution_count": 13,
   "metadata": {},
   "outputs": [],
   "source": [
    "#...code_empirical_props\n"
   ]
  },
  {
   "cell_type": "code",
   "execution_count": 14,
   "metadata": {
    "scrolled": true
   },
   "outputs": [
    {
     "data": {
      "text/plain": [
       "array([0.68666667, 0.7       , 0.65333333, 0.68666667, 0.73333333,\n",
       "       0.66666667, 0.67333333, 0.68      , 0.66666667, 0.64666667,\n",
       "       0.62      , 0.6       , 0.67333333, 0.61333333, 0.69333333,\n",
       "       0.71333333, 0.66666667, 0.63333333, 0.60666667, 0.66666667,\n",
       "       0.68666667, 0.64666667, 0.65333333, 0.7       , 0.62666667,\n",
       "       0.64666667, 0.61333333, 0.64      , 0.62      , 0.64      ,\n",
       "       0.67333333, 0.66666667, 0.62666667, 0.72666667, 0.62      ,\n",
       "       0.63333333, 0.61333333, 0.63333333, 0.68666667, 0.62666667,\n",
       "       0.57333333, 0.69333333, 0.66666667, 0.69333333, 0.62      ,\n",
       "       0.65333333, 0.66      , 0.7       , 0.65333333, 0.64666667,\n",
       "       0.58      , 0.73333333, 0.67333333, 0.66      , 0.64      ,\n",
       "       0.68      , 0.6       , 0.67333333, 0.66666667, 0.62      ,\n",
       "       0.59333333, 0.67333333, 0.67333333, 0.62666667, 0.65333333,\n",
       "       0.68666667, 0.62666667, 0.62      , 0.66666667, 0.67333333,\n",
       "       0.68      , 0.70666667, 0.70666667, 0.68666667, 0.70666667,\n",
       "       0.68666667, 0.63333333, 0.70666667, 0.64666667, 0.64666667,\n",
       "       0.66      , 0.66      , 0.66      , 0.66      , 0.62666667,\n",
       "       0.64      , 0.72666667, 0.60666667, 0.68      , 0.64666667,\n",
       "       0.62      , 0.71333333, 0.64      , 0.66666667, 0.68666667,\n",
       "       0.66666667, 0.61333333, 0.69333333, 0.72666667, 0.67333333,\n",
       "       0.62666667, 0.66      , 0.64      , 0.64666667, 0.66666667,\n",
       "       0.66      , 0.66666667, 0.63333333, 0.62666667, 0.60666667,\n",
       "       0.7       , 0.66666667, 0.63333333, 0.67333333, 0.69333333,\n",
       "       0.68666667, 0.64666667, 0.62      , 0.64      , 0.60666667,\n",
       "       0.69333333, 0.63333333, 0.67333333, 0.6       , 0.60666667,\n",
       "       0.66666667, 0.63333333, 0.60666667, 0.68      , 0.68666667,\n",
       "       0.70666667, 0.66      , 0.65333333, 0.66666667, 0.64      ,\n",
       "       0.68666667, 0.64666667, 0.66666667, 0.65333333, 0.62666667,\n",
       "       0.62666667, 0.66      , 0.59333333, 0.64666667, 0.66666667,\n",
       "       0.64      , 0.66666667, 0.64      , 0.69333333, 0.66      ,\n",
       "       0.72666667, 0.66666667, 0.68      , 0.60666667, 0.62666667,\n",
       "       0.59333333, 0.65333333, 0.68      , 0.68666667, 0.58      ,\n",
       "       0.60666667, 0.68666667, 0.63333333, 0.65333333, 0.68666667,\n",
       "       0.63333333, 0.60666667, 0.7       , 0.61333333, 0.64      ,\n",
       "       0.63333333, 0.54666667, 0.68666667, 0.58666667, 0.65333333,\n",
       "       0.68      , 0.66666667, 0.62666667, 0.66666667, 0.72      ,\n",
       "       0.63333333, 0.63333333, 0.57333333, 0.66      , 0.67333333,\n",
       "       0.65333333, 0.69333333, 0.64      , 0.64      , 0.66      ,\n",
       "       0.64      , 0.67333333, 0.71333333, 0.68      , 0.64666667,\n",
       "       0.63333333, 0.66666667, 0.65333333, 0.6       , 0.67333333,\n",
       "       0.68      , 0.70666667, 0.61333333, 0.63333333, 0.60666667,\n",
       "       0.68      , 0.68      , 0.72666667, 0.58666667, 0.70666667,\n",
       "       0.70666667, 0.64666667, 0.69333333, 0.65333333, 0.7       ,\n",
       "       0.61333333, 0.64      , 0.68666667, 0.64666667, 0.63333333,\n",
       "       0.70666667, 0.61333333, 0.66666667, 0.67333333, 0.59333333,\n",
       "       0.64      , 0.65333333, 0.67333333, 0.6       , 0.63333333,\n",
       "       0.66      , 0.60666667, 0.68      , 0.63333333, 0.68666667,\n",
       "       0.60666667, 0.66666667, 0.63333333, 0.66666667, 0.67333333,\n",
       "       0.63333333, 0.64666667, 0.71333333, 0.66      , 0.66666667,\n",
       "       0.57333333, 0.70666667, 0.65333333, 0.65333333, 0.68      ,\n",
       "       0.65333333, 0.63333333, 0.68      , 0.63333333, 0.58666667,\n",
       "       0.62      , 0.56666667, 0.64666667, 0.69333333, 0.64666667,\n",
       "       0.66      , 0.66      , 0.64666667, 0.69333333, 0.64      ,\n",
       "       0.64666667, 0.57333333, 0.64666667, 0.67333333, 0.7       ,\n",
       "       0.64666667, 0.61333333, 0.66666667, 0.68666667, 0.67333333,\n",
       "       0.65333333, 0.68666667, 0.73333333, 0.6       , 0.67333333,\n",
       "       0.69333333, 0.63333333, 0.65333333, 0.68666667, 0.72666667,\n",
       "       0.66666667, 0.68      , 0.62      , 0.57333333, 0.69333333,\n",
       "       0.64666667, 0.66666667, 0.7       , 0.62666667, 0.68666667,\n",
       "       0.62666667, 0.69333333, 0.62666667, 0.66      , 0.7       ,\n",
       "       0.66      , 0.59333333, 0.62666667, 0.66666667, 0.62      ,\n",
       "       0.63333333, 0.64      , 0.66666667, 0.66      , 0.65333333,\n",
       "       0.62      , 0.61333333, 0.67333333, 0.69333333, 0.63333333,\n",
       "       0.64      , 0.64      , 0.66      , 0.63333333, 0.69333333,\n",
       "       0.72666667, 0.59333333, 0.66      , 0.65333333, 0.74      ,\n",
       "       0.64666667, 0.69333333, 0.67333333, 0.64666667, 0.63333333,\n",
       "       0.65333333, 0.65333333, 0.66      , 0.66666667, 0.71333333,\n",
       "       0.62666667, 0.62      , 0.70666667, 0.64666667, 0.63333333,\n",
       "       0.66      , 0.68666667, 0.63333333, 0.62      , 0.73333333,\n",
       "       0.66      , 0.60666667, 0.64      , 0.68      , 0.68      ,\n",
       "       0.68      , 0.69333333, 0.73333333, 0.68      , 0.64666667,\n",
       "       0.62666667, 0.68      , 0.61333333, 0.69333333, 0.62666667,\n",
       "       0.66      , 0.65333333, 0.68      , 0.68      , 0.69333333,\n",
       "       0.69333333, 0.66      , 0.67333333, 0.66666667, 0.68      ,\n",
       "       0.62666667, 0.61333333, 0.66666667, 0.62      , 0.66      ,\n",
       "       0.64      , 0.62666667, 0.65333333, 0.66      , 0.60666667,\n",
       "       0.66      , 0.60666667, 0.65333333, 0.60666667, 0.66666667,\n",
       "       0.64666667, 0.62666667, 0.62      , 0.68666667, 0.56666667,\n",
       "       0.64      , 0.63333333, 0.66      , 0.65333333, 0.66666667,\n",
       "       0.68      , 0.69333333, 0.64666667, 0.62666667, 0.67333333,\n",
       "       0.68      , 0.66666667, 0.66666667, 0.68      , 0.68666667,\n",
       "       0.68666667, 0.63333333, 0.59333333, 0.7       , 0.64666667,\n",
       "       0.62      , 0.7       , 0.68666667, 0.65333333, 0.66666667,\n",
       "       0.66666667, 0.66      , 0.62666667, 0.66      , 0.60666667,\n",
       "       0.72      , 0.68      , 0.60666667, 0.66      , 0.60666667,\n",
       "       0.63333333, 0.7       , 0.58666667, 0.70666667, 0.63333333,\n",
       "       0.59333333, 0.58      , 0.67333333, 0.65333333, 0.64666667,\n",
       "       0.71333333, 0.66      , 0.66666667, 0.7       , 0.65333333,\n",
       "       0.70666667, 0.7       , 0.63333333, 0.66      , 0.64666667,\n",
       "       0.62      , 0.65333333, 0.62666667, 0.67333333, 0.68      ,\n",
       "       0.67333333, 0.64666667, 0.64666667, 0.66      , 0.6       ,\n",
       "       0.66      , 0.66      , 0.7       , 0.61333333, 0.7       ,\n",
       "       0.64666667, 0.66      , 0.59333333, 0.71333333, 0.66      ,\n",
       "       0.68      , 0.64      , 0.64666667, 0.66      , 0.68      ,\n",
       "       0.67333333, 0.7       , 0.72      , 0.6       , 0.57333333,\n",
       "       0.6       , 0.62666667, 0.7       , 0.65333333, 0.68666667,\n",
       "       0.64666667, 0.62666667, 0.65333333, 0.57333333, 0.7       ,\n",
       "       0.66      , 0.68666667, 0.66666667, 0.60666667, 0.68      ,\n",
       "       0.74666667, 0.66666667, 0.7       , 0.6       , 0.59333333,\n",
       "       0.70666667, 0.68666667, 0.68      , 0.68666667, 0.68      ])"
      ]
     },
     "execution_count": 14,
     "metadata": {},
     "output_type": "execute_result"
    }
   ],
   "source": [
    "#DELETE\n",
    "def cells150_count():\n",
    "    random150=cell_table.sample(150,replace=False)\n",
    "    count150 = random150[random150.get('Cell Type') == 'Code'].shape[0] / random150.get('Cell Type').shape[0]\n",
    "    return count150\n",
    "\n",
    "def simulate_500():\n",
    "    prop150 = np.array([])\n",
    "    trials=500\n",
    "    for i in np.arange(trials):\n",
    "        outcome500 = cells150_count()\n",
    "        prop150 = np.append(prop150, outcome500)\n",
    "    return prop150\n",
    "code_empirical_props = simulate_500()\n",
    "code_empirical_props"
   ]
  },
  {
   "cell_type": "code",
   "execution_count": 15,
   "metadata": {},
   "outputs": [
    {
     "data": {
      "text/html": [
       "\n",
       "    \n",
       "    \n",
       "        <p>All tests passed!</p>\n",
       "    \n",
       "    "
      ],
      "text/plain": [
       "\n",
       "    All tests passed!\n",
       "    "
      ]
     },
     "execution_count": 15,
     "metadata": {},
     "output_type": "execute_result"
    }
   ],
   "source": [
    "otter.check('q1_4')"
   ]
  },
  {
   "cell_type": "markdown",
   "metadata": {},
   "source": [
    "**Question 1.5.** Now, compute the average of `code_empirical_props`. You claim that this average is a good estimate of the proportion of Code cells. Store your average in `code_claim_prop`."
   ]
  },
  {
   "cell_type": "code",
   "execution_count": 16,
   "metadata": {},
   "outputs": [
    {
     "data": {
      "text/plain": [
       "0.6555866666666665"
      ]
     },
     "execution_count": 16,
     "metadata": {},
     "output_type": "execute_result"
    }
   ],
   "source": [
    "#...code_claim_prop\n",
    "code_claim_prop = code_empirical_props.sum() / code_empirical_props.shape[0]\n",
    "code_claim_prop"
   ]
  },
  {
   "cell_type": "code",
   "execution_count": 17,
   "metadata": {},
   "outputs": [
    {
     "data": {
      "text/html": [
       "\n",
       "    \n",
       "    \n",
       "        <p>All tests passed!</p>\n",
       "    \n",
       "    "
      ],
      "text/plain": [
       "\n",
       "    All tests passed!\n",
       "    "
      ]
     },
     "execution_count": 17,
     "metadata": {},
     "output_type": "execute_result"
    }
   ],
   "source": [
    "otter.check('q1_5')"
   ]
  },
  {
   "cell_type": "markdown",
   "metadata": {},
   "source": [
    "**Question 1.6.**  How far away is your claim from the true proportion of Code cells? Compute the absolute difference between the two and store it in the variable `error`. Remember that you calculated the true proportion of Code cells in Question 1."
   ]
  },
  {
   "cell_type": "code",
   "execution_count": 18,
   "metadata": {},
   "outputs": [
    {
     "data": {
      "text/plain": [
       "0.0005866666666665132"
      ]
     },
     "execution_count": 18,
     "metadata": {},
     "output_type": "execute_result"
    }
   ],
   "source": [
    "#...error\n",
    "error = abs(code_claim_prop - code_true_prop)\n",
    "error"
   ]
  },
  {
   "cell_type": "code",
   "execution_count": 19,
   "metadata": {},
   "outputs": [
    {
     "data": {
      "text/html": [
       "\n",
       "    \n",
       "    \n",
       "        <p>All tests passed!</p>\n",
       "    \n",
       "    "
      ],
      "text/plain": [
       "\n",
       "    All tests passed!\n",
       "    "
      ]
     },
     "execution_count": 19,
     "metadata": {},
     "output_type": "execute_result"
    }
   ],
   "source": [
    "otter.check('q1_6')"
   ]
  },
  {
   "cell_type": "markdown",
   "metadata": {},
   "source": [
    "**Question 1.7.** When you ran your simulation 500 times, you got 500 different estimates for the number of code cells. Plot the distribution of these estimates as a histogram."
   ]
  },
  {
   "cell_type": "code",
   "execution_count": 20,
   "metadata": {},
   "outputs": [
    {
     "data": {
      "text/plain": [
       "<matplotlib.axes._subplots.AxesSubplot at 0x7f775b6024c0>"
      ]
     },
     "execution_count": 20,
     "metadata": {},
     "output_type": "execute_result"
    },
    {
     "data": {
      "image/png": "[encoded data removed]",
      "text/plain": [
       "<Figure size 432x288 with 1 Axes>"
      ]
     },
     "metadata": {},
     "output_type": "display_data"
    }
   ],
   "source": [
    "#- your code here\n",
    "empiricalobs=bpd.Series(data=code_empirical_props)\n",
    "empiricalobs.plot(kind='hist')"
   ]
  },
  {
   "cell_type": "markdown",
   "metadata": {},
   "source": [
    "## 2.  Powerball"
   ]
  },
  {
   "cell_type": "markdown",
   "metadata": {
    "collapsed": true
   },
   "source": [
    "You go to the nearest supermarket (or the gas station if you prefer) and buy a Powerball lottery ticket. \n",
    "\n",
    "You pick five different numbers, one at a time, from 1 to 69. Then you separately pick a number from 1 to 26. These are your numbers, for example (59, 12, 55, 20,  3, 25). \n",
    "\n",
    "The winning numbers are chosen by somebody drawing five balls, one at a time, from a collection of white balls numbered 1 to 69. Then they draw a red ball (the powerball) from a collection of red balls numbered 1 to 26. \n",
    "\n",
    "We’ll assume for this problem that in order to win the biggest prize (the jackpot), *all* your numbers need to match the winning numbers and be in the exact same order. However, you can still win some money if you have *some* numbers that match the winning numbers and appear in the same position as the corresponding winning number."
   ]
  },
  {
   "cell_type": "markdown",
   "metadata": {},
   "source": [
    "**Question 2.1.** What is the probability that you win the jackpot? Calculate your answer by hand and assign it to `jackpot_chance`. It should be a decimal number between 0 and 1.\n",
    "\n",
    "**Hint**: *Since you are choosing five different numbers for the white balls, the denominator should be decreasing. The probability of getting the first number correct is 1/69, the second is 1/68, and so on...*"
   ]
  },
  {
   "cell_type": "code",
   "execution_count": 21,
   "metadata": {},
   "outputs": [
    {
     "data": {
      "text/plain": [
       "2.85191484418642e-11"
      ]
     },
     "execution_count": 21,
     "metadata": {},
     "output_type": "execute_result"
    }
   ],
   "source": [
    "#...jackpot_chance\n",
    "jackpot_chance = (1/69)*(1/68)*(1/67)*(1/66)*(1/65)*(1/26)\n",
    "jackpot_chance"
   ]
  },
  {
   "cell_type": "code",
   "execution_count": 22,
   "metadata": {},
   "outputs": [
    {
     "data": {
      "text/html": [
       "\n",
       "    \n",
       "    \n",
       "        <p>All tests passed!</p>\n",
       "    \n",
       "    "
      ],
      "text/plain": [
       "\n",
       "    All tests passed!\n",
       "    "
      ]
     },
     "execution_count": 22,
     "metadata": {},
     "output_type": "execute_result"
    }
   ],
   "source": [
    "otter.check('q2_1')"
   ]
  },
  {
   "cell_type": "markdown",
   "metadata": {},
   "source": [
    "**Question 2.2.** Your chance of winning the jackpot is quite low, but you can still win some money if you have at least one number correct, in the same position as the winning number. What is the probability that you get at least one number correct and win some money? Assign your answer to `non_losing_prob`. "
   ]
  },
  {
   "cell_type": "code",
   "execution_count": 23,
   "metadata": {},
   "outputs": [
    {
     "data": {
      "text/plain": [
       "0.11312167810812694"
      ]
     },
     "execution_count": 23,
     "metadata": {},
     "output_type": "execute_result"
    }
   ],
   "source": [
    "#...non_losing_prob\n",
    "non_losing_prob = (1/69) + (1/68) + (1/67) + (1/66) + (1/65) + (1/26)\n",
    "non_losing_prob"
   ]
  },
  {
   "cell_type": "code",
   "execution_count": 24,
   "metadata": {},
   "outputs": [
    {
     "data": {
      "text/html": [
       "\n",
       "    \n",
       "    \n",
       "        <p>All tests passed!</p>\n",
       "    \n",
       "    "
      ],
      "text/plain": [
       "\n",
       "    All tests passed!\n",
       "    "
      ]
     },
     "execution_count": 24,
     "metadata": {},
     "output_type": "execute_result"
    }
   ],
   "source": [
    "otter.check('q2_2')"
   ]
  },
  {
   "cell_type": "markdown",
   "metadata": {},
   "source": [
    "**Question 2.3.** Write a function called `simulate_one_ticket`. It should take **no arguments**, and it should return **an array** with 6 random numbers. The first five numbers should all be randomly chosen (without replacement) from between 1 and 69. The last number should be between 1 and 26."
   ]
  },
  {
   "cell_type": "code",
   "execution_count": 26,
   "metadata": {},
   "outputs": [],
   "source": [
    "def simulate_one_ticket():\n",
    "    ..."
   ]
  },
  {
   "cell_type": "code",
   "execution_count": 27,
   "metadata": {},
   "outputs": [
    {
     "data": {
      "text/plain": [
       "array(['36.0', '63.0', '14.0', '27.0', '23.0', '12.0'], dtype='<U32')"
      ]
     },
     "execution_count": 27,
     "metadata": {},
     "output_type": "execute_result"
    }
   ],
   "source": [
    "#DELETE\n",
    "def get69():\n",
    "    possiblenumbers= np.arange(1, 70, 1)\n",
    "    possible_69_numbers =np.random.choice(possiblenumbers, replace=False)\n",
    "    return possible_69_numbers   \n",
    "\n",
    "\n",
    "def simulate_one_ticket():\n",
    "    number69 = np.array([])\n",
    "    trials=5\n",
    "    possible25 = np.arange(1,26,1)\n",
    "    possible_25_number=np.random.choice(possible25, replace=False)\n",
    "    for i in np.arange(trials):\n",
    "        five69 = get69()\n",
    "        number69 = np.append(number69, get69())\n",
    "        stringconversion=np.append(number69, possible_25_number)\n",
    "        final_numbers=stringconversion.astype(str)\n",
    "    return final_numbers\n",
    "simulate_one_ticket()"
   ]
  },
  {
   "cell_type": "code",
   "execution_count": 28,
   "metadata": {},
   "outputs": [
    {
     "data": {
      "text/plain": [
       "array(['47.0', '27.0', '2.0', '14.0', '24.0', '4.0'], dtype='<U32')"
      ]
     },
     "execution_count": 28,
     "metadata": {},
     "output_type": "execute_result"
    }
   ],
   "source": [
    "simulate_one_ticket() # a sample function call"
   ]
  },
  {
   "cell_type": "code",
   "execution_count": 30,
   "metadata": {},
   "outputs": [
    {
     "data": {
      "text/html": [
       "\n",
       "    \n",
       "    \n",
       "        <p>All tests passed!</p>\n",
       "    \n",
       "    "
      ],
      "text/plain": [
       "\n",
       "    All tests passed!\n",
       "    "
      ]
     },
     "execution_count": 30,
     "metadata": {},
     "output_type": "execute_result"
    }
   ],
   "source": [
    "otter.check('q2_3')"
   ]
  },
  {
   "cell_type": "markdown",
   "metadata": {},
   "source": [
    "**Question 2.4.** It's draw day, and you checked the lucky numbers posted, which happened to be (19, 50, 36, 53, 68, 12). Suppose you didn't win the jackpot, and you are quite ugly. You want to remind yourself how unlikely it is to win a jackpot. Call the function `simulate_one_ticket` 100,000 times (this would cost at least $200,000 if you were to buy that many!). How many times did you win the jackpot? Assign your answer to `count_jackpot`.\n",
    "\n",
    "*Hint:* Try it first with only buying 10 tickets. Once you are sure you have that figured out, change it to 100,000 tickets. It will take a little while (about a minute) for Python to perform the calculations when you are buying 100,000 tickets.\n",
    "\n",
    "*Hint 2:* You'll have to count how many of the numbers you chose match the numbers that were drawn. One way to do this involves `np.count_nonzero`."
   ]
  },
  {
   "cell_type": "code",
   "execution_count": 31,
   "metadata": {},
   "outputs": [
    {
     "ename": "KeyboardInterrupt",
     "evalue": "",
     "output_type": "error",
     "traceback": [
      "\u001b[0;31m---------------------------------------------------------------------------\u001b[0m",
      "\u001b[0;31mKeyboardInterrupt\u001b[0m                         Traceback (most recent call last)",
      "\u001b[0;32m<ipython-input-31-258a31d49256>\u001b[0m in \u001b[0;36m<module>\u001b[0;34m\u001b[0m\n\u001b[1;32m     21\u001b[0m     \u001b[0mspliteddd\u001b[0m \u001b[0;34m=\u001b[0m \u001b[0msplitedd\u001b[0m \u001b[0;34m==\u001b[0m \u001b[0;34m[\u001b[0m\u001b[0;34m'19'\u001b[0m\u001b[0;34m,\u001b[0m \u001b[0;34m'50'\u001b[0m\u001b[0;34m,\u001b[0m \u001b[0;34m'36'\u001b[0m\u001b[0;34m,\u001b[0m \u001b[0;34m'53'\u001b[0m\u001b[0;34m,\u001b[0m \u001b[0;34m'68'\u001b[0m\u001b[0;34m,\u001b[0m \u001b[0;34m'12'\u001b[0m\u001b[0;34m]\u001b[0m\u001b[0;34m\u001b[0m\u001b[0;34m\u001b[0m\u001b[0m\n\u001b[1;32m     22\u001b[0m     \u001b[0;32mreturn\u001b[0m \u001b[0mnp\u001b[0m\u001b[0;34m.\u001b[0m\u001b[0mcount_nonzero\u001b[0m\u001b[0;34m(\u001b[0m\u001b[0mspliteddd\u001b[0m\u001b[0;34m)\u001b[0m\u001b[0;34m\u001b[0m\u001b[0;34m\u001b[0m\u001b[0m\n\u001b[0;32m---> 23\u001b[0;31m \u001b[0mcount_jackpot\u001b[0m \u001b[0;34m=\u001b[0m \u001b[0mthousandtickets\u001b[0m\u001b[0;34m(\u001b[0m\u001b[0;34m)\u001b[0m\u001b[0;34m\u001b[0m\u001b[0;34m\u001b[0m\u001b[0m\n\u001b[0m\u001b[1;32m     24\u001b[0m \u001b[0mcount_jackpot\u001b[0m\u001b[0;34m\u001b[0m\u001b[0;34m\u001b[0m\u001b[0m\n",
      "\u001b[0;32m<ipython-input-31-258a31d49256>\u001b[0m in \u001b[0;36mthousandtickets\u001b[0;34m()\u001b[0m\n\u001b[1;32m     16\u001b[0m     \u001b[0;32mfor\u001b[0m \u001b[0mi\u001b[0m \u001b[0;32min\u001b[0m \u001b[0mnp\u001b[0m\u001b[0;34m.\u001b[0m\u001b[0marange\u001b[0m\u001b[0;34m(\u001b[0m\u001b[0mtrials\u001b[0m\u001b[0;34m)\u001b[0m\u001b[0;34m:\u001b[0m\u001b[0;34m\u001b[0m\u001b[0;34m\u001b[0m\u001b[0m\n\u001b[1;32m     17\u001b[0m         \u001b[0msimulate\u001b[0m\u001b[0;34m=\u001b[0m\u001b[0msimulate_one_ticket\u001b[0m\u001b[0;34m(\u001b[0m\u001b[0;34m)\u001b[0m\u001b[0;34m\u001b[0m\u001b[0;34m\u001b[0m\u001b[0m\n\u001b[0;32m---> 18\u001b[0;31m         \u001b[0mnumber1000\u001b[0m\u001b[0;34m=\u001b[0m\u001b[0mnp\u001b[0m\u001b[0;34m.\u001b[0m\u001b[0mappend\u001b[0m\u001b[0;34m(\u001b[0m\u001b[0mnumber1000\u001b[0m\u001b[0;34m,\u001b[0m\u001b[0msimulate\u001b[0m\u001b[0;34m)\u001b[0m\u001b[0;34m\u001b[0m\u001b[0;34m\u001b[0m\u001b[0m\n\u001b[0m\u001b[1;32m     19\u001b[0m     \u001b[0msplited\u001b[0m \u001b[0;34m=\u001b[0m \u001b[0mnp\u001b[0m\u001b[0;34m.\u001b[0m\u001b[0msplit\u001b[0m\u001b[0;34m(\u001b[0m\u001b[0mnumber1000\u001b[0m\u001b[0;34m,\u001b[0m\u001b[0;36m100000\u001b[0m\u001b[0;34m)\u001b[0m\u001b[0;34m\u001b[0m\u001b[0;34m\u001b[0m\u001b[0m\n\u001b[1;32m     20\u001b[0m     \u001b[0msplitedd\u001b[0m \u001b[0;34m=\u001b[0m \u001b[0mnp\u001b[0m\u001b[0;34m.\u001b[0m\u001b[0masarray\u001b[0m\u001b[0;34m(\u001b[0m\u001b[0msplited\u001b[0m\u001b[0;34m)\u001b[0m\u001b[0;34m\u001b[0m\u001b[0;34m\u001b[0m\u001b[0m\n",
      "\u001b[0;32m<__array_function__ internals>\u001b[0m in \u001b[0;36mappend\u001b[0;34m(*args, **kwargs)\u001b[0m\n",
      "\u001b[0;32m/usr/lib/python3.8/site-packages/numpy/lib/function_base.py\u001b[0m in \u001b[0;36mappend\u001b[0;34m(arr, values, axis)\u001b[0m\n\u001b[1;32m   4669\u001b[0m         \u001b[0mvalues\u001b[0m \u001b[0;34m=\u001b[0m \u001b[0mravel\u001b[0m\u001b[0;34m(\u001b[0m\u001b[0mvalues\u001b[0m\u001b[0;34m)\u001b[0m\u001b[0;34m\u001b[0m\u001b[0;34m\u001b[0m\u001b[0m\n\u001b[1;32m   4670\u001b[0m         \u001b[0maxis\u001b[0m \u001b[0;34m=\u001b[0m \u001b[0marr\u001b[0m\u001b[0;34m.\u001b[0m\u001b[0mndim\u001b[0m\u001b[0;34m-\u001b[0m\u001b[0;36m1\u001b[0m\u001b[0;34m\u001b[0m\u001b[0;34m\u001b[0m\u001b[0m\n\u001b[0;32m-> 4671\u001b[0;31m     \u001b[0;32mreturn\u001b[0m \u001b[0mconcatenate\u001b[0m\u001b[0;34m(\u001b[0m\u001b[0;34m(\u001b[0m\u001b[0marr\u001b[0m\u001b[0;34m,\u001b[0m \u001b[0mvalues\u001b[0m\u001b[0;34m)\u001b[0m\u001b[0;34m,\u001b[0m \u001b[0maxis\u001b[0m\u001b[0;34m=\u001b[0m\u001b[0maxis\u001b[0m\u001b[0;34m)\u001b[0m\u001b[0;34m\u001b[0m\u001b[0;34m\u001b[0m\u001b[0m\n\u001b[0m\u001b[1;32m   4672\u001b[0m \u001b[0;34m\u001b[0m\u001b[0m\n\u001b[1;32m   4673\u001b[0m \u001b[0;34m\u001b[0m\u001b[0m\n",
      "\u001b[0;32m<__array_function__ internals>\u001b[0m in \u001b[0;36mconcatenate\u001b[0;34m(*args, **kwargs)\u001b[0m\n",
      "\u001b[0;31mKeyboardInterrupt\u001b[0m: "
     ]
    }
   ],
   "source": [
    "#DELETE\n",
    "def simulate_one_ticket():\n",
    "    number69 = np.array([])\n",
    "    trials=5\n",
    "    possible25 = np.arange(1,26,1)\n",
    "    possible_25_number=np.random.choice(possible25, replace=False)\n",
    "    for i in np.arange(trials):\n",
    "        five69 = get69()\n",
    "        number69 = np.append(number69, get69())\n",
    "        stringconversion=np.append(number69, possible_25_number)\n",
    "        final_numbers=stringconversion.astype(str)\n",
    "    return final_numbers\n",
    "def thousandtickets():\n",
    "    number1000 = np.array([])\n",
    "    trials = 100000\n",
    "    for i in np.arange(trials):\n",
    "        simulate=simulate_one_ticket()\n",
    "        number1000=np.append(number1000,simulate)\n",
    "    splited = np.split(number1000,100000)\n",
    "    splitedd = np.asarray(splited)\n",
    "    spliteddd = splitedd == ['19', '50', '36', '53', '68', '12']\n",
    "    return np.count_nonzero(spliteddd)\n",
    "count_jackpot = thousandtickets()\n",
    "count_jackpot"
   ]
  },
  {
   "cell_type": "code",
   "execution_count": null,
   "metadata": {},
   "outputs": [],
   "source": [
    "#...count_jackpot"
   ]
  },
  {
   "cell_type": "code",
   "execution_count": 32,
   "metadata": {
    "scrolled": true
   },
   "outputs": [
    {
     "data": {
      "text/html": [
       "\n",
       "    \n",
       "    \n",
       "        <p>0 of 1 tests passed</p>\n",
       "        \n",
       "        \n",
       "        <p> <strong>Tests failed: </strong>\n",
       "            <ul>\n",
       "            \n",
       "                <li> \n",
       "    <p><strong style='color: red;'>tests/q2_4.py</strong></p>\n",
       "    <p><strong>Test code:</strong><pre><div class=\"highlight\" style=\"background: #f8f8f8\"><pre style=\"line-height: 125%\"><span></span><span style=\"color: #000080; font-weight: bold\">&gt;&gt;&gt; </span><span style=\"color: #008000\">isinstance</span>(count_jackpot, <span style=\"color: #008000\">int</span>)\n",
       "<span style=\"color: #888888\">True</span>\n",
       "</pre></div>\n",
       "</pre></p>\n",
       "    <p><strong>Test result:</strong><pre>Trying:\n",
       "    isinstance(count_jackpot, int)\n",
       "Expecting:\n",
       "    True\n",
       "**********************************************************************\n",
       "Line 2, in tests/q2_4.py 0\n",
       "Failed example:\n",
       "    isinstance(count_jackpot, int)\n",
       "Exception raised:\n",
       "    Traceback (most recent call last):\n",
       "      File \"/usr/lib/python3.8/doctest.py\", line 1336, in __run\n",
       "        exec(compile(example.source, filename, \"single\",\n",
       "      File \"<doctest tests/q2_4.py 0[0]>\", line 1, in <module>\n",
       "        isinstance(count_jackpot, int)\n",
       "    NameError: name 'count_jackpot' is not defined\n",
       "</pre></p>\n",
       "     </li>\n",
       "            \n",
       "            </ul>\n",
       "        \n",
       "    \n",
       "    "
      ],
      "text/plain": [
       "\n",
       "    \n",
       "    0 of 1 tests passed\n",
       "    \n",
       "    \n",
       "    Tests failed:\n",
       "    \n",
       "           tests/q2_4.py\n",
       "\n",
       "Test result:\n",
       "Trying:\n",
       "    isinstance(count_jackpot, int)\n",
       "Expecting:\n",
       "    True\n",
       "**********************************************************************\n",
       "Line 2, in tests/q2_4.py 0\n",
       "Failed example:\n",
       "    isinstance(count_jackpot, int)\n",
       "Exception raised:\n",
       "    Traceback (most recent call last):\n",
       "      File \"/usr/lib/python3.8/doctest.py\", line 1336, in __run\n",
       "        exec(compile(example.source, filename, \"single\",\n",
       "      File \"<doctest tests/q2_4.py 0[0]>\", line 1, in <module>\n",
       "        isinstance(count_jackpot, int)\n",
       "    NameError: name 'count_jackpot' is not defined\n",
       "\n",
       "    \n",
       "    \n",
       "    \n",
       "    "
      ]
     },
     "execution_count": 32,
     "metadata": {},
     "output_type": "execute_result"
    }
   ],
   "source": [
    "otter.check('q2_4')"
   ]
  },
  {
   "cell_type": "markdown",
   "metadata": {},
   "source": [
    "## 3. Yahtzee "
   ]
  },
  {
   "cell_type": "markdown",
   "metadata": {},
   "source": [
    "In the dice game Yahtzee, players roll and reroll dice, trying to meet certain objectives. A player rolls five dice on the first roll, and after looking at the results, *can choose to* reroll any number of them on the second roll. Similarly, after looking at the results of the second roll, the player can choose to reroll any number of those for the third roll. After the third roll, no more rolling is allowed.\n",
    "\n",
    "One objective in Yahtzee is to roll as many 6's as possible. The standard strategy is as follows:\n",
    "* Roll all five dice.\n",
    "* Keep any that are 6's. Reroll all other dice.\n",
    "* Keep any that are 6's. Reroll all other dice.\n",
    "The number of 6's at the end of this process determines the player's score. \n",
    "\n",
    "Throughout this problem, we’ll represent the results of a Yahtzee roll as an array of five values, each between 1 and 6. For example, we might originally roll (3, 6, 1, 1, 2). Then we’d reroll all but the second die, and the results after our first reroll might be (6, 6, 5, 2, 6). Then we’d reroll one more time and the results might be (6, 6, 4, 1, 6), which means we’d have a score of 3."
   ]
  },
  {
   "cell_type": "markdown",
   "metadata": {},
   "source": [
    "**Question 3.1.** Create an array called `my_dice` that contains the results of a first Yahtzee roll (that is, five random numbers between 1 and 6)."
   ]
  },
  {
   "cell_type": "code",
   "execution_count": 33,
   "metadata": {},
   "outputs": [
    {
     "data": {
      "text/plain": [
       "array([5, 3, 5, 6, 4])"
      ]
     },
     "execution_count": 33,
     "metadata": {},
     "output_type": "execute_result"
    }
   ],
   "source": [
    "#...my_dice\n",
    "alice = np.array([1,2,3,4,5,6])\n",
    "my_dice= np.random.choice(alice, 5,)\n",
    "my_dice"
   ]
  },
  {
   "cell_type": "code",
   "execution_count": 34,
   "metadata": {},
   "outputs": [
    {
     "data": {
      "text/html": [
       "\n",
       "    \n",
       "    \n",
       "        <p>All tests passed!</p>\n",
       "    \n",
       "    "
      ],
      "text/plain": [
       "\n",
       "    All tests passed!\n",
       "    "
      ]
     },
     "execution_count": 34,
     "metadata": {},
     "output_type": "execute_result"
    }
   ],
   "source": [
    "otter.check('q3_1')"
   ]
  },
  {
   "cell_type": "markdown",
   "metadata": {},
   "source": [
    "**Question 3.2.** Define a function called `reroll()` that takes one Yahtzee roll, `roll` as its input and returns the updated roll as its ouput. The function should not change the contents of the input `roll`, but, rather, should output a new array representing your dice after one reroll. Your function should implement the standard strategy for rolling 6's, that is, keep all dice that were a 6 and reroll all other dice.\n",
    "\n",
    "*Hint:* Start out by creating a new array of five 0's. Then reset the *i*-th value by assigning a number to updated_dice[i].\n",
    "\n",
    "*Hint:* You can test out your function by repeatedly rerolling. Since you are keeping all the 6's you ever roll, eventually you should get all 6's by repeatedly rerolling."
   ]
  },
  {
   "cell_type": "code",
   "execution_count": 36,
   "metadata": {},
   "outputs": [],
   "source": [
    "def reroll(roll):\n",
    "    ..."
   ]
  },
  {
   "cell_type": "code",
   "execution_count": 37,
   "metadata": {},
   "outputs": [],
   "source": [
    "#DELETE\n",
    "def reroll(roll):\n",
    "    emptyarray=np.array([])\n",
    "    for i in np.arange(2):\n",
    "        if roll[4] != 6:\n",
    "            emptyarray = np.append(np.random.choice(alice),emptyarray)\n",
    "        else:\n",
    "            emptyarray = np.append(6,emptyarray)\n",
    "        if roll[3] != 6:\n",
    "            emptyarray = np.append(np.random.choice(alice),emptyarray)\n",
    "        else:\n",
    "            emptyarray = np.append(6,emptyarray)\n",
    "        if roll[2] != 6:\n",
    "            emptyarray = np.append(np.random.choice(alice),emptyarray)\n",
    "        else:\n",
    "            emptyarray = np.append(6,emptyarray)\n",
    "        if roll[1] != 6:\n",
    "            emptyarray = np.append(np.random.choice(alice),emptyarray)\n",
    "        else:\n",
    "            emptyarray = np.append(6,emptyarray)\n",
    "        if roll[0] != 6:\n",
    "            emptyarray = np.append(np.random.choice(alice),emptyarray)\n",
    "        else:\n",
    "            emptyarray = np.append(6,emptyarray)\n",
    "        return emptyarray\n",
    "\n",
    "    \n",
    "    \n",
    "    \n",
    " #   np.count_nonzero(roll == 6)\n",
    " #   for i in roll:\n",
    "  #      if i == 6:\n",
    "  #          np.append(emptyarray, 6)\n",
    "  #      else:\n",
    "         #   return roll.replace(i, np.random.choice(1,2,3,4,5,6))\n",
    "   #         \n",
    "    \n",
    "number_of_six = 2"
   ]
  },
  {
   "cell_type": "code",
   "execution_count": 38,
   "metadata": {},
   "outputs": [
    {
     "data": {
      "text/plain": [
       "array([3., 2., 6., 6., 1.])"
      ]
     },
     "execution_count": 38,
     "metadata": {},
     "output_type": "execute_result"
    }
   ],
   "source": [
    "reroll(np.array([2, 3, 6, 6, 1])) # a sample function call"
   ]
  },
  {
   "cell_type": "markdown",
   "metadata": {},
   "source": [
    "Now, practice taking a complete turn at Yahtzee, and see how many 6's you can get! Copy your answer from question 3.1 to roll new dice. Then use your `reroll()` function twice, and calculate the number of 6's you have at the end of your turn. Assign the number to `number_of_six`."
   ]
  },
  {
   "cell_type": "code",
   "execution_count": 39,
   "metadata": {},
   "outputs": [
    {
     "data": {
      "text/html": [
       "\n",
       "    \n",
       "    \n",
       "        <p>All tests passed!</p>\n",
       "    \n",
       "    "
      ],
      "text/plain": [
       "\n",
       "    All tests passed!\n",
       "    "
      ]
     },
     "execution_count": 39,
     "metadata": {},
     "output_type": "execute_result"
    }
   ],
   "source": [
    "otter.check('q3_2')"
   ]
  },
  {
   "cell_type": "markdown",
   "metadata": {},
   "source": [
    "**Question 3.3.** Now, use a for loop to help you take 20,000 turns at Yahtzee. On each turn, you should roll the dice, then reroll twice, implementing the strategy above. For each of the 20,000 turns, count the number of sixes you see after the third roll (your score) and record your score in an array called `score_array`. \n",
    "\n",
    "*Hint:* Try taking 10 turns with a `for` loop. Once you are sure you have that figured out, change it to 20,000 turns. It will take a little while (about a minute) for Python to perform the calculations when you are doing 20,000 turns."
   ]
  },
  {
   "cell_type": "code",
   "execution_count": 40,
   "metadata": {},
   "outputs": [
    {
     "data": {
      "text/plain": [
       "array([4., 2., 4., ..., 4., 6., 1.])"
      ]
     },
     "execution_count": 40,
     "metadata": {},
     "output_type": "execute_result"
    }
   ],
   "source": [
    "#DELETE\n",
    "trials=4000\n",
    "my_dice\n",
    "allyahtzee=np.array([])\n",
    "for i in np.arange(trials):\n",
    "    yahtzeeee=reroll(my_dice)\n",
    "    allyahtzee=np.append(allyahtzee, yahtzeeee)\n",
    "    checksix = allyahtzee\n",
    "    \n",
    "score_array = checksix\n",
    "score_array"
   ]
  },
  {
   "cell_type": "code",
   "execution_count": 41,
   "metadata": {},
   "outputs": [],
   "source": [
    "#...score_array"
   ]
  },
  {
   "cell_type": "code",
   "execution_count": 42,
   "metadata": {},
   "outputs": [
    {
     "data": {
      "text/html": [
       "\n",
       "    \n",
       "    \n",
       "        <p>All tests passed!</p>\n",
       "    \n",
       "    "
      ],
      "text/plain": [
       "\n",
       "    All tests passed!\n",
       "    "
      ]
     },
     "execution_count": 42,
     "metadata": {},
     "output_type": "execute_result"
    }
   ],
   "source": [
    "otter.check('q3_3')"
   ]
  },
  {
   "cell_type": "markdown",
   "metadata": {},
   "source": [
    "**Question 3.4.** Use the data you have collected to approximate your average score using this strategy, and save your answer in `average_score.` \n",
    "\n",
    "Note: Your answer need not be an integer."
   ]
  },
  {
   "cell_type": "code",
   "execution_count": 43,
   "metadata": {},
   "outputs": [
    {
     "data": {
      "text/plain": [
       "4.0051"
      ]
     },
     "execution_count": 43,
     "metadata": {},
     "output_type": "execute_result"
    }
   ],
   "source": [
    "#...average_score\n",
    "average_score = (checksix / 20000).sum()\n",
    "average_score"
   ]
  },
  {
   "cell_type": "code",
   "execution_count": 44,
   "metadata": {},
   "outputs": [
    {
     "data": {
      "text/html": [
       "\n",
       "    \n",
       "    \n",
       "        <p>All tests passed!</p>\n",
       "    \n",
       "    "
      ],
      "text/plain": [
       "\n",
       "    All tests passed!\n",
       "    "
      ]
     },
     "execution_count": 44,
     "metadata": {},
     "output_type": "execute_result"
    }
   ],
   "source": [
    "otter.check('q3_4')"
   ]
  },
  {
   "cell_type": "markdown",
   "metadata": {},
   "source": [
    "# Finish Line\n",
    "\n",
    "Congratulations! You are done with Homework 04.\n",
    "\n",
    "To submit your assignment:\n",
    "\n",
    "1. Select `Kernel -> Restart & Run All` to ensure that you have executed all cells, including the test cells.\n",
    "2. Read through the notebook to make sure everything is fine and all tests passed.\n",
    "3. Run the cell below to run all tests, and make sure that they all pass.\n",
    "4. Download your notebook using `File -> Download as -> Notebook (.ipynb)`, then upload your notebook to Gradescope."
   ]
  },
  {
   "cell_type": "code",
   "execution_count": 45,
   "metadata": {},
   "outputs": [
    {
     "data": {
      "text/html": [
       "<p><strong>__init__</strong></p>\n",
       "    \n",
       "    \n",
       "        <p>0 of 0 tests passed</p>\n",
       "        \n",
       "        \n",
       "    \n",
       "    "
      ],
      "text/plain": [
       "<IPython.core.display.HTML object>"
      ]
     },
     "metadata": {},
     "output_type": "display_data"
    },
    {
     "data": {
      "text/html": [
       "<p><strong>q1_1</strong></p>\n",
       "    \n",
       "    \n",
       "        <p>All tests passed!</p>\n",
       "    \n",
       "    "
      ],
      "text/plain": [
       "<IPython.core.display.HTML object>"
      ]
     },
     "metadata": {},
     "output_type": "display_data"
    },
    {
     "data": {
      "text/html": [
       "<p><strong>q1_2</strong></p>\n",
       "    \n",
       "    \n",
       "        <p>All tests passed!</p>\n",
       "    \n",
       "    "
      ],
      "text/plain": [
       "<IPython.core.display.HTML object>"
      ]
     },
     "metadata": {},
     "output_type": "display_data"
    },
    {
     "data": {
      "text/html": [
       "<p><strong>q1_3</strong></p>\n",
       "    \n",
       "    \n",
       "        <p>All tests passed!</p>\n",
       "    \n",
       "    "
      ],
      "text/plain": [
       "<IPython.core.display.HTML object>"
      ]
     },
     "metadata": {},
     "output_type": "display_data"
    },
    {
     "data": {
      "text/html": [
       "<p><strong>q1_4</strong></p>\n",
       "    \n",
       "    \n",
       "        <p>All tests passed!</p>\n",
       "    \n",
       "    "
      ],
      "text/plain": [
       "<IPython.core.display.HTML object>"
      ]
     },
     "metadata": {},
     "output_type": "display_data"
    },
    {
     "data": {
      "text/html": [
       "<p><strong>q1_5</strong></p>\n",
       "    \n",
       "    \n",
       "        <p>All tests passed!</p>\n",
       "    \n",
       "    "
      ],
      "text/plain": [
       "<IPython.core.display.HTML object>"
      ]
     },
     "metadata": {},
     "output_type": "display_data"
    },
    {
     "data": {
      "text/html": [
       "<p><strong>q1_6</strong></p>\n",
       "    \n",
       "    \n",
       "        <p>All tests passed!</p>\n",
       "    \n",
       "    "
      ],
      "text/plain": [
       "<IPython.core.display.HTML object>"
      ]
     },
     "metadata": {},
     "output_type": "display_data"
    },
    {
     "data": {
      "text/html": [
       "<p><strong>q2_1</strong></p>\n",
       "    \n",
       "    \n",
       "        <p>All tests passed!</p>\n",
       "    \n",
       "    "
      ],
      "text/plain": [
       "<IPython.core.display.HTML object>"
      ]
     },
     "metadata": {},
     "output_type": "display_data"
    },
    {
     "data": {
      "text/html": [
       "<p><strong>q2_2</strong></p>\n",
       "    \n",
       "    \n",
       "        <p>All tests passed!</p>\n",
       "    \n",
       "    "
      ],
      "text/plain": [
       "<IPython.core.display.HTML object>"
      ]
     },
     "metadata": {},
     "output_type": "display_data"
    },
    {
     "data": {
      "text/html": [
       "<p><strong>q2_3</strong></p>\n",
       "    \n",
       "    \n",
       "        <p>All tests passed!</p>\n",
       "    \n",
       "    "
      ],
      "text/plain": [
       "<IPython.core.display.HTML object>"
      ]
     },
     "metadata": {},
     "output_type": "display_data"
    },
    {
     "data": {
      "text/html": [
       "<p><strong>q2_4</strong></p>\n",
       "    \n",
       "    \n",
       "        <p>0 of 1 tests passed</p>\n",
       "        \n",
       "        \n",
       "        <p> <strong>Tests failed: </strong>\n",
       "            <ul>\n",
       "            \n",
       "                <li> \n",
       "    <p><strong style='color: red;'>tests/q2_4.py</strong></p>\n",
       "    <p><strong>Test code:</strong><pre><div class=\"highlight\" style=\"background: #f8f8f8\"><pre style=\"line-height: 125%\"><span></span><span style=\"color: #000080; font-weight: bold\">&gt;&gt;&gt; </span><span style=\"color: #008000\">isinstance</span>(count_jackpot, <span style=\"color: #008000\">int</span>)\n",
       "<span style=\"color: #888888\">True</span>\n",
       "</pre></div>\n",
       "</pre></p>\n",
       "    <p><strong>Test result:</strong><pre>Trying:\n",
       "    isinstance(count_jackpot, int)\n",
       "Expecting:\n",
       "    True\n",
       "**********************************************************************\n",
       "Line 2, in tests/q2_4.py 0\n",
       "Failed example:\n",
       "    isinstance(count_jackpot, int)\n",
       "Exception raised:\n",
       "    Traceback (most recent call last):\n",
       "      File \"/usr/lib/python3.8/doctest.py\", line 1336, in __run\n",
       "        exec(compile(example.source, filename, \"single\",\n",
       "      File \"<doctest tests/q2_4.py 0[0]>\", line 1, in <module>\n",
       "        isinstance(count_jackpot, int)\n",
       "    NameError: name 'count_jackpot' is not defined\n",
       "</pre></p>\n",
       "     </li>\n",
       "            \n",
       "            </ul>\n",
       "        \n",
       "    \n",
       "    "
      ],
      "text/plain": [
       "<IPython.core.display.HTML object>"
      ]
     },
     "metadata": {},
     "output_type": "display_data"
    },
    {
     "data": {
      "text/html": [
       "<p><strong>q3_1</strong></p>\n",
       "    \n",
       "    \n",
       "        <p>All tests passed!</p>\n",
       "    \n",
       "    "
      ],
      "text/plain": [
       "<IPython.core.display.HTML object>"
      ]
     },
     "metadata": {},
     "output_type": "display_data"
    },
    {
     "data": {
      "text/html": [
       "<p><strong>q3_2</strong></p>\n",
       "    \n",
       "    \n",
       "        <p>All tests passed!</p>\n",
       "    \n",
       "    "
      ],
      "text/plain": [
       "<IPython.core.display.HTML object>"
      ]
     },
     "metadata": {},
     "output_type": "display_data"
    },
    {
     "data": {
      "text/html": [
       "<p><strong>q3_3</strong></p>\n",
       "    \n",
       "    \n",
       "        <p>All tests passed!</p>\n",
       "    \n",
       "    "
      ],
      "text/plain": [
       "<IPython.core.display.HTML object>"
      ]
     },
     "metadata": {},
     "output_type": "display_data"
    },
    {
     "data": {
      "text/html": [
       "<p><strong>q3_4</strong></p>\n",
       "    \n",
       "    \n",
       "        <p>All tests passed!</p>\n",
       "    \n",
       "    "
      ],
      "text/plain": [
       "<IPython.core.display.HTML object>"
      ]
     },
     "metadata": {},
     "output_type": "display_data"
    }
   ],
   "source": [
    "otter.check_all()"
   ]
  }
 ],
 "metadata": {
  "kernelspec": {
   "display_name": "Python 3",
   "language": "python",
   "name": "python3"
  },
  "language_info": {
   "codemirror_mode": {
    "name": "ipython",
    "version": 3
   },
   "file_extension": ".py",
   "mimetype": "text/x-python",
   "name": "python",
   "nbconvert_exporter": "python",
   "pygments_lexer": "ipython3",
   "version": "3.8.3"
  }
 },
 "nbformat": 4,
 "nbformat_minor": 2
}
